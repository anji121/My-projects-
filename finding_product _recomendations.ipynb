{
  "nbformat": 4,
  "nbformat_minor": 0,
  "metadata": {
    "colab": {
      "provenance": []
    },
    "kernelspec": {
      "name": "python3",
      "display_name": "Python 3"
    },
    "language_info": {
      "name": "python"
    }
  },
  "cells": [
    {
      "cell_type": "code",
      "execution_count": 1,
      "metadata": {
        "colab": {
          "base_uri": "https://localhost:8080/",
          "height": 912
        },
        "id": "qO_gJCEyMtVR",
        "outputId": "cde99c1e-d632-4ea5-84ba-1ae23c0d9c88"
      },
      "outputs": [
        {
          "output_type": "execute_result",
          "data": {
            "text/plain": [
              "       Invoice StockCode                          Description  Quantity  \\\n",
              "0       536365    85123A   WHITE HANGING HEART T-LIGHT HOLDER         6   \n",
              "1       536365     71053                  WHITE METAL LANTERN         6   \n",
              "2       536365    84406B       CREAM CUPID HEARTS COAT HANGER         8   \n",
              "3       536365    84029G  KNITTED UNION FLAG HOT WATER BOTTLE         6   \n",
              "4       536365    84029E       RED WOOLLY HOTTIE WHITE HEART.         6   \n",
              "...        ...       ...                                  ...       ...   \n",
              "541905  581587     22899         CHILDREN'S APRON DOLLY GIRL          6   \n",
              "541906  581587     23254        CHILDRENS CUTLERY DOLLY GIRL          4   \n",
              "541907  581587     23255      CHILDRENS CUTLERY CIRCUS PARADE         4   \n",
              "541908  581587     22138        BAKING SET 9 PIECE RETROSPOT          3   \n",
              "541909  581587      POST                              POSTAGE         1   \n",
              "\n",
              "            InvoiceDate  Price  Customer ID         Country  \n",
              "0        12/1/2010 8:26   2.55      17850.0  United Kingdom  \n",
              "1        12/1/2010 8:26   3.39      17850.0  United Kingdom  \n",
              "2        12/1/2010 8:26   2.75      17850.0  United Kingdom  \n",
              "3        12/1/2010 8:26   3.39      17850.0  United Kingdom  \n",
              "4        12/1/2010 8:26   3.39      17850.0  United Kingdom  \n",
              "...                 ...    ...          ...             ...  \n",
              "541905  12/9/2011 12:50   2.10      12680.0          France  \n",
              "541906  12/9/2011 12:50   4.15      12680.0          France  \n",
              "541907  12/9/2011 12:50   4.15      12680.0          France  \n",
              "541908  12/9/2011 12:50   4.95      12680.0          France  \n",
              "541909  12/9/2011 12:50  18.00      12680.0          France  \n",
              "\n",
              "[541910 rows x 8 columns]"
            ],
            "text/html": [
              "\n",
              "  <div id=\"df-4618e4be-b495-43dd-8ce2-d2c0245c66c8\" class=\"colab-df-container\">\n",
              "    <div>\n",
              "<style scoped>\n",
              "    .dataframe tbody tr th:only-of-type {\n",
              "        vertical-align: middle;\n",
              "    }\n",
              "\n",
              "    .dataframe tbody tr th {\n",
              "        vertical-align: top;\n",
              "    }\n",
              "\n",
              "    .dataframe thead th {\n",
              "        text-align: right;\n",
              "    }\n",
              "</style>\n",
              "<table border=\"1\" class=\"dataframe\">\n",
              "  <thead>\n",
              "    <tr style=\"text-align: right;\">\n",
              "      <th></th>\n",
              "      <th>Invoice</th>\n",
              "      <th>StockCode</th>\n",
              "      <th>Description</th>\n",
              "      <th>Quantity</th>\n",
              "      <th>InvoiceDate</th>\n",
              "      <th>Price</th>\n",
              "      <th>Customer ID</th>\n",
              "      <th>Country</th>\n",
              "    </tr>\n",
              "  </thead>\n",
              "  <tbody>\n",
              "    <tr>\n",
              "      <th>0</th>\n",
              "      <td>536365</td>\n",
              "      <td>85123A</td>\n",
              "      <td>WHITE HANGING HEART T-LIGHT HOLDER</td>\n",
              "      <td>6</td>\n",
              "      <td>12/1/2010 8:26</td>\n",
              "      <td>2.55</td>\n",
              "      <td>17850.0</td>\n",
              "      <td>United Kingdom</td>\n",
              "    </tr>\n",
              "    <tr>\n",
              "      <th>1</th>\n",
              "      <td>536365</td>\n",
              "      <td>71053</td>\n",
              "      <td>WHITE METAL LANTERN</td>\n",
              "      <td>6</td>\n",
              "      <td>12/1/2010 8:26</td>\n",
              "      <td>3.39</td>\n",
              "      <td>17850.0</td>\n",
              "      <td>United Kingdom</td>\n",
              "    </tr>\n",
              "    <tr>\n",
              "      <th>2</th>\n",
              "      <td>536365</td>\n",
              "      <td>84406B</td>\n",
              "      <td>CREAM CUPID HEARTS COAT HANGER</td>\n",
              "      <td>8</td>\n",
              "      <td>12/1/2010 8:26</td>\n",
              "      <td>2.75</td>\n",
              "      <td>17850.0</td>\n",
              "      <td>United Kingdom</td>\n",
              "    </tr>\n",
              "    <tr>\n",
              "      <th>3</th>\n",
              "      <td>536365</td>\n",
              "      <td>84029G</td>\n",
              "      <td>KNITTED UNION FLAG HOT WATER BOTTLE</td>\n",
              "      <td>6</td>\n",
              "      <td>12/1/2010 8:26</td>\n",
              "      <td>3.39</td>\n",
              "      <td>17850.0</td>\n",
              "      <td>United Kingdom</td>\n",
              "    </tr>\n",
              "    <tr>\n",
              "      <th>4</th>\n",
              "      <td>536365</td>\n",
              "      <td>84029E</td>\n",
              "      <td>RED WOOLLY HOTTIE WHITE HEART.</td>\n",
              "      <td>6</td>\n",
              "      <td>12/1/2010 8:26</td>\n",
              "      <td>3.39</td>\n",
              "      <td>17850.0</td>\n",
              "      <td>United Kingdom</td>\n",
              "    </tr>\n",
              "    <tr>\n",
              "      <th>...</th>\n",
              "      <td>...</td>\n",
              "      <td>...</td>\n",
              "      <td>...</td>\n",
              "      <td>...</td>\n",
              "      <td>...</td>\n",
              "      <td>...</td>\n",
              "      <td>...</td>\n",
              "      <td>...</td>\n",
              "    </tr>\n",
              "    <tr>\n",
              "      <th>541905</th>\n",
              "      <td>581587</td>\n",
              "      <td>22899</td>\n",
              "      <td>CHILDREN'S APRON DOLLY GIRL</td>\n",
              "      <td>6</td>\n",
              "      <td>12/9/2011 12:50</td>\n",
              "      <td>2.10</td>\n",
              "      <td>12680.0</td>\n",
              "      <td>France</td>\n",
              "    </tr>\n",
              "    <tr>\n",
              "      <th>541906</th>\n",
              "      <td>581587</td>\n",
              "      <td>23254</td>\n",
              "      <td>CHILDRENS CUTLERY DOLLY GIRL</td>\n",
              "      <td>4</td>\n",
              "      <td>12/9/2011 12:50</td>\n",
              "      <td>4.15</td>\n",
              "      <td>12680.0</td>\n",
              "      <td>France</td>\n",
              "    </tr>\n",
              "    <tr>\n",
              "      <th>541907</th>\n",
              "      <td>581587</td>\n",
              "      <td>23255</td>\n",
              "      <td>CHILDRENS CUTLERY CIRCUS PARADE</td>\n",
              "      <td>4</td>\n",
              "      <td>12/9/2011 12:50</td>\n",
              "      <td>4.15</td>\n",
              "      <td>12680.0</td>\n",
              "      <td>France</td>\n",
              "    </tr>\n",
              "    <tr>\n",
              "      <th>541908</th>\n",
              "      <td>581587</td>\n",
              "      <td>22138</td>\n",
              "      <td>BAKING SET 9 PIECE RETROSPOT</td>\n",
              "      <td>3</td>\n",
              "      <td>12/9/2011 12:50</td>\n",
              "      <td>4.95</td>\n",
              "      <td>12680.0</td>\n",
              "      <td>France</td>\n",
              "    </tr>\n",
              "    <tr>\n",
              "      <th>541909</th>\n",
              "      <td>581587</td>\n",
              "      <td>POST</td>\n",
              "      <td>POSTAGE</td>\n",
              "      <td>1</td>\n",
              "      <td>12/9/2011 12:50</td>\n",
              "      <td>18.00</td>\n",
              "      <td>12680.0</td>\n",
              "      <td>France</td>\n",
              "    </tr>\n",
              "  </tbody>\n",
              "</table>\n",
              "<p>541910 rows × 8 columns</p>\n",
              "</div>\n",
              "    <div class=\"colab-df-buttons\">\n",
              "\n",
              "  <div class=\"colab-df-container\">\n",
              "    <button class=\"colab-df-convert\" onclick=\"convertToInteractive('df-4618e4be-b495-43dd-8ce2-d2c0245c66c8')\"\n",
              "            title=\"Convert this dataframe to an interactive table.\"\n",
              "            style=\"display:none;\">\n",
              "\n",
              "  <svg xmlns=\"http://www.w3.org/2000/svg\" height=\"24px\" viewBox=\"0 -960 960 960\">\n",
              "    <path d=\"M120-120v-720h720v720H120Zm60-500h600v-160H180v160Zm220 220h160v-160H400v160Zm0 220h160v-160H400v160ZM180-400h160v-160H180v160Zm440 0h160v-160H620v160ZM180-180h160v-160H180v160Zm440 0h160v-160H620v160Z\"/>\n",
              "  </svg>\n",
              "    </button>\n",
              "\n",
              "  <style>\n",
              "    .colab-df-container {\n",
              "      display:flex;\n",
              "      gap: 12px;\n",
              "    }\n",
              "\n",
              "    .colab-df-convert {\n",
              "      background-color: #E8F0FE;\n",
              "      border: none;\n",
              "      border-radius: 50%;\n",
              "      cursor: pointer;\n",
              "      display: none;\n",
              "      fill: #1967D2;\n",
              "      height: 32px;\n",
              "      padding: 0 0 0 0;\n",
              "      width: 32px;\n",
              "    }\n",
              "\n",
              "    .colab-df-convert:hover {\n",
              "      background-color: #E2EBFA;\n",
              "      box-shadow: 0px 1px 2px rgba(60, 64, 67, 0.3), 0px 1px 3px 1px rgba(60, 64, 67, 0.15);\n",
              "      fill: #174EA6;\n",
              "    }\n",
              "\n",
              "    .colab-df-buttons div {\n",
              "      margin-bottom: 4px;\n",
              "    }\n",
              "\n",
              "    [theme=dark] .colab-df-convert {\n",
              "      background-color: #3B4455;\n",
              "      fill: #D2E3FC;\n",
              "    }\n",
              "\n",
              "    [theme=dark] .colab-df-convert:hover {\n",
              "      background-color: #434B5C;\n",
              "      box-shadow: 0px 1px 3px 1px rgba(0, 0, 0, 0.15);\n",
              "      filter: drop-shadow(0px 1px 2px rgba(0, 0, 0, 0.3));\n",
              "      fill: #FFFFFF;\n",
              "    }\n",
              "  </style>\n",
              "\n",
              "    <script>\n",
              "      const buttonEl =\n",
              "        document.querySelector('#df-4618e4be-b495-43dd-8ce2-d2c0245c66c8 button.colab-df-convert');\n",
              "      buttonEl.style.display =\n",
              "        google.colab.kernel.accessAllowed ? 'block' : 'none';\n",
              "\n",
              "      async function convertToInteractive(key) {\n",
              "        const element = document.querySelector('#df-4618e4be-b495-43dd-8ce2-d2c0245c66c8');\n",
              "        const dataTable =\n",
              "          await google.colab.kernel.invokeFunction('convertToInteractive',\n",
              "                                                    [key], {});\n",
              "        if (!dataTable) return;\n",
              "\n",
              "        const docLinkHtml = 'Like what you see? Visit the ' +\n",
              "          '<a target=\"_blank\" href=https://colab.research.google.com/notebooks/data_table.ipynb>data table notebook</a>'\n",
              "          + ' to learn more about interactive tables.';\n",
              "        element.innerHTML = '';\n",
              "        dataTable['output_type'] = 'display_data';\n",
              "        await google.colab.output.renderOutput(dataTable, element);\n",
              "        const docLink = document.createElement('div');\n",
              "        docLink.innerHTML = docLinkHtml;\n",
              "        element.appendChild(docLink);\n",
              "      }\n",
              "    </script>\n",
              "  </div>\n",
              "\n",
              "\n",
              "<div id=\"df-11dea169-9ac6-4568-812a-9d552d815064\">\n",
              "  <button class=\"colab-df-quickchart\" onclick=\"quickchart('df-11dea169-9ac6-4568-812a-9d552d815064')\"\n",
              "            title=\"Suggest charts.\"\n",
              "            style=\"display:none;\">\n",
              "\n",
              "<svg xmlns=\"http://www.w3.org/2000/svg\" height=\"24px\"viewBox=\"0 0 24 24\"\n",
              "     width=\"24px\">\n",
              "    <g>\n",
              "        <path d=\"M19 3H5c-1.1 0-2 .9-2 2v14c0 1.1.9 2 2 2h14c1.1 0 2-.9 2-2V5c0-1.1-.9-2-2-2zM9 17H7v-7h2v7zm4 0h-2V7h2v10zm4 0h-2v-4h2v4z\"/>\n",
              "    </g>\n",
              "</svg>\n",
              "  </button>\n",
              "\n",
              "<style>\n",
              "  .colab-df-quickchart {\n",
              "      --bg-color: #E8F0FE;\n",
              "      --fill-color: #1967D2;\n",
              "      --hover-bg-color: #E2EBFA;\n",
              "      --hover-fill-color: #174EA6;\n",
              "      --disabled-fill-color: #AAA;\n",
              "      --disabled-bg-color: #DDD;\n",
              "  }\n",
              "\n",
              "  [theme=dark] .colab-df-quickchart {\n",
              "      --bg-color: #3B4455;\n",
              "      --fill-color: #D2E3FC;\n",
              "      --hover-bg-color: #434B5C;\n",
              "      --hover-fill-color: #FFFFFF;\n",
              "      --disabled-bg-color: #3B4455;\n",
              "      --disabled-fill-color: #666;\n",
              "  }\n",
              "\n",
              "  .colab-df-quickchart {\n",
              "    background-color: var(--bg-color);\n",
              "    border: none;\n",
              "    border-radius: 50%;\n",
              "    cursor: pointer;\n",
              "    display: none;\n",
              "    fill: var(--fill-color);\n",
              "    height: 32px;\n",
              "    padding: 0;\n",
              "    width: 32px;\n",
              "  }\n",
              "\n",
              "  .colab-df-quickchart:hover {\n",
              "    background-color: var(--hover-bg-color);\n",
              "    box-shadow: 0 1px 2px rgba(60, 64, 67, 0.3), 0 1px 3px 1px rgba(60, 64, 67, 0.15);\n",
              "    fill: var(--button-hover-fill-color);\n",
              "  }\n",
              "\n",
              "  .colab-df-quickchart-complete:disabled,\n",
              "  .colab-df-quickchart-complete:disabled:hover {\n",
              "    background-color: var(--disabled-bg-color);\n",
              "    fill: var(--disabled-fill-color);\n",
              "    box-shadow: none;\n",
              "  }\n",
              "\n",
              "  .colab-df-spinner {\n",
              "    border: 2px solid var(--fill-color);\n",
              "    border-color: transparent;\n",
              "    border-bottom-color: var(--fill-color);\n",
              "    animation:\n",
              "      spin 1s steps(1) infinite;\n",
              "  }\n",
              "\n",
              "  @keyframes spin {\n",
              "    0% {\n",
              "      border-color: transparent;\n",
              "      border-bottom-color: var(--fill-color);\n",
              "      border-left-color: var(--fill-color);\n",
              "    }\n",
              "    20% {\n",
              "      border-color: transparent;\n",
              "      border-left-color: var(--fill-color);\n",
              "      border-top-color: var(--fill-color);\n",
              "    }\n",
              "    30% {\n",
              "      border-color: transparent;\n",
              "      border-left-color: var(--fill-color);\n",
              "      border-top-color: var(--fill-color);\n",
              "      border-right-color: var(--fill-color);\n",
              "    }\n",
              "    40% {\n",
              "      border-color: transparent;\n",
              "      border-right-color: var(--fill-color);\n",
              "      border-top-color: var(--fill-color);\n",
              "    }\n",
              "    60% {\n",
              "      border-color: transparent;\n",
              "      border-right-color: var(--fill-color);\n",
              "    }\n",
              "    80% {\n",
              "      border-color: transparent;\n",
              "      border-right-color: var(--fill-color);\n",
              "      border-bottom-color: var(--fill-color);\n",
              "    }\n",
              "    90% {\n",
              "      border-color: transparent;\n",
              "      border-bottom-color: var(--fill-color);\n",
              "    }\n",
              "  }\n",
              "</style>\n",
              "\n",
              "  <script>\n",
              "    async function quickchart(key) {\n",
              "      const quickchartButtonEl =\n",
              "        document.querySelector('#' + key + ' button');\n",
              "      quickchartButtonEl.disabled = true;  // To prevent multiple clicks.\n",
              "      quickchartButtonEl.classList.add('colab-df-spinner');\n",
              "      try {\n",
              "        const charts = await google.colab.kernel.invokeFunction(\n",
              "            'suggestCharts', [key], {});\n",
              "      } catch (error) {\n",
              "        console.error('Error during call to suggestCharts:', error);\n",
              "      }\n",
              "      quickchartButtonEl.classList.remove('colab-df-spinner');\n",
              "      quickchartButtonEl.classList.add('colab-df-quickchart-complete');\n",
              "    }\n",
              "    (() => {\n",
              "      let quickchartButtonEl =\n",
              "        document.querySelector('#df-11dea169-9ac6-4568-812a-9d552d815064 button');\n",
              "      quickchartButtonEl.style.display =\n",
              "        google.colab.kernel.accessAllowed ? 'block' : 'none';\n",
              "    })();\n",
              "  </script>\n",
              "</div>\n",
              "    </div>\n",
              "  </div>\n"
            ]
          },
          "metadata": {},
          "execution_count": 1
        }
      ],
      "source": [
        "import pandas as pd\n",
        "data = pd.read_csv(\"Consumer_data.csv\", encoding= 'unicode_escape')\n",
        "data"
      ]
    },
    {
      "cell_type": "code",
      "source": [
        "# Task 1: Print data details\n",
        "print(\"Data Details:\")\n",
        "print(data.info())\n",
        "print(\"\\nData Summary:\")\n",
        "print(data.describe())"
      ],
      "metadata": {
        "colab": {
          "base_uri": "https://localhost:8080/"
        },
        "id": "_n_La4VIM3yt",
        "outputId": "c9eca6ef-99f2-45e1-d106-1dde44c8e672"
      },
      "execution_count": 2,
      "outputs": [
        {
          "output_type": "stream",
          "name": "stdout",
          "text": [
            "Data Details:\n",
            "<class 'pandas.core.frame.DataFrame'>\n",
            "RangeIndex: 541910 entries, 0 to 541909\n",
            "Data columns (total 8 columns):\n",
            " #   Column       Non-Null Count   Dtype  \n",
            "---  ------       --------------   -----  \n",
            " 0   Invoice      541910 non-null  object \n",
            " 1   StockCode    541910 non-null  object \n",
            " 2   Description  540456 non-null  object \n",
            " 3   Quantity     541910 non-null  int64  \n",
            " 4   InvoiceDate  541910 non-null  object \n",
            " 5   Price        541910 non-null  float64\n",
            " 6   Customer ID  406830 non-null  float64\n",
            " 7   Country      541910 non-null  object \n",
            "dtypes: float64(2), int64(1), object(5)\n",
            "memory usage: 33.1+ MB\n",
            "None\n",
            "\n",
            "Data Summary:\n",
            "            Quantity          Price    Customer ID\n",
            "count  541910.000000  541910.000000  406830.000000\n",
            "mean        9.552234       4.611138   15287.684160\n",
            "std       218.080957      96.759765    1713.603074\n",
            "min    -80995.000000  -11062.060000   12346.000000\n",
            "25%         1.000000       1.250000   13953.000000\n",
            "50%         3.000000       2.080000   15152.000000\n",
            "75%        10.000000       4.130000   16791.000000\n",
            "max     80995.000000   38970.000000   18287.000000\n"
          ]
        }
      ]
    },
    {
      "cell_type": "code",
      "source": [
        "data['Description'].fillna('Unknown', inplace=True)\n",
        "data['Customer ID'].fillna(data['Customer ID'].median(), inplace=True)\n",
        "# Fill null values in the 'Invoice' column with 'UnknownInvoice'\n",
        "data['Invoice'].fillna('UnknownInvoice', inplace=True)\n",
        "\n",
        "# Fill null values in the 'Country' column with 'UnknownCountry'\n",
        "data['Country'].fillna('UnknownCountry', inplace=True)\n"
      ],
      "metadata": {
        "id": "FRD9nLtrM3v7"
      },
      "execution_count": 3,
      "outputs": []
    },
    {
      "cell_type": "code",
      "source": [
        "# Count the number of rows before removing canceled operations\n",
        "rows_before = data.shape[0]\n",
        "\n",
        "# Remove rows where InvoiceNo starts with 'C' (indicating canceled operations)\n",
        "data = data[~data['Invoice'].str.startswith('C')]\n",
        "\n",
        "# Count the number of rows after removing canceled operations\n",
        "rows_after = data.shape[0]\n",
        "\n",
        "# Calculate the number of rows deleted\n",
        "rows_deleted = rows_before - rows_after\n",
        "\n",
        "print(f\"Number of rows before removing canceled operations: {rows_before}\")\n",
        "print(f\"Number of rows after removing canceled operations: {rows_after}\")\n",
        "print(f\"Number of rows deleted: {rows_deleted}\")\n"
      ],
      "metadata": {
        "colab": {
          "base_uri": "https://localhost:8080/"
        },
        "id": "9NBMpRKGM3sy",
        "outputId": "c8e8e31e-76f9-4388-bd2e-07dfb72873d3"
      },
      "execution_count": 4,
      "outputs": [
        {
          "output_type": "stream",
          "name": "stdout",
          "text": [
            "Number of rows before removing canceled operations: 541910\n",
            "Number of rows after removing canceled operations: 532622\n",
            "Number of rows deleted: 9288\n"
          ]
        }
      ]
    },
    {
      "cell_type": "code",
      "source": [
        "# Count the number of rows before dropping duplicates\n",
        "rows_before = data.shape[0]\n",
        "\n",
        "# Drop duplicates based on all columns in the DataFrame\n",
        "data.drop_duplicates(inplace=True)\n",
        "\n",
        "# Count the number of rows after dropping duplicates\n",
        "rows_after = data.shape[0]\n",
        "\n",
        "# Calculate the number of rows affected (duplicates removed)\n",
        "rows_affected = rows_before - rows_after\n",
        "\n",
        "print(f\"Number of rows before dropping duplicates: {rows_before}\")\n",
        "print(f\"Number of rows after dropping duplicates: {rows_after}\")\n",
        "print(f\"Number of rows affected (duplicates removed): {rows_affected}\")\n"
      ],
      "metadata": {
        "colab": {
          "base_uri": "https://localhost:8080/"
        },
        "id": "NMYGQJB7M3pv",
        "outputId": "2f47c791-2e78-45a0-9976-888c074683c7"
      },
      "execution_count": 5,
      "outputs": [
        {
          "output_type": "stream",
          "name": "stdout",
          "text": [
            "Number of rows before dropping duplicates: 532622\n",
            "Number of rows after dropping duplicates: 527391\n",
            "Number of rows affected (duplicates removed): 5231\n"
          ]
        },
        {
          "output_type": "stream",
          "name": "stderr",
          "text": [
            "<ipython-input-5-ce75e9a68168>:5: SettingWithCopyWarning: \n",
            "A value is trying to be set on a copy of a slice from a DataFrame\n",
            "\n",
            "See the caveats in the documentation: https://pandas.pydata.org/pandas-docs/stable/user_guide/indexing.html#returning-a-view-versus-a-copy\n",
            "  data.drop_duplicates(inplace=True)\n"
          ]
        }
      ]
    },
    {
      "cell_type": "code",
      "source": [
        "# Count the number of rows before removing rows with Quantity and Price greater than 0\n",
        "rows_before = data.shape[0]\n",
        "\n",
        "# Remove rows where Quantity and Price are greater than 0\n",
        "data = data[(data['Quantity'] >= 0) & (data['Price'] >=0)]\n",
        "\n",
        "# Count the number of rows after removing rows with Quantity and Price greater than 0\n",
        "rows_after = data.shape[0]\n",
        "\n",
        "# Calculate the number of rows affected (rows removed)\n",
        "rows_affected = rows_before - rows_after\n",
        "\n",
        "print(f\"Number of rows before removing rows with Quantity and Price greater than 0: {rows_before}\")\n",
        "print(f\"Number of rows after removing rows with Quantity and Price greater than 0: {rows_after}\")\n",
        "print(f\"Number of rows affected (rows removed): {rows_affected}\")\n"
      ],
      "metadata": {
        "colab": {
          "base_uri": "https://localhost:8080/"
        },
        "id": "y25orJk6M3m3",
        "outputId": "8195481f-c9b8-47a8-8d44-39bb9535febd"
      },
      "execution_count": 6,
      "outputs": [
        {
          "output_type": "stream",
          "name": "stdout",
          "text": [
            "Number of rows before removing rows with Quantity and Price greater than 0: 527391\n",
            "Number of rows after removing rows with Quantity and Price greater than 0: 526053\n",
            "Number of rows affected (rows removed): 1338\n"
          ]
        }
      ]
    },
    {
      "cell_type": "code",
      "source": [
        "# Count the number of unique values in the 'StockCode' column\n",
        "unique_stockcode = data['StockCode'].nunique()\n",
        "\n",
        "# Count the number of unique values in the 'Description' column\n",
        "unique_description = data['Description'].nunique()\n",
        "\n",
        "print(f\"Number of unique values in 'StockCode' column: {unique_stockcode}\")\n",
        "print(f\"Number of unique values in 'Description' column: {unique_description}\")\n"
      ],
      "metadata": {
        "colab": {
          "base_uri": "https://localhost:8080/"
        },
        "id": "iYhBuHwIM3j8",
        "outputId": "e9ea7801-f187-4031-d3ba-f59352a26089"
      },
      "execution_count": 7,
      "outputs": [
        {
          "output_type": "stream",
          "name": "stdout",
          "text": [
            "Number of unique values in 'StockCode' column: 3941\n",
            "Number of unique values in 'Description' column: 4078\n"
          ]
        }
      ]
    },
    {
      "cell_type": "code",
      "source": [
        "# Count the number of rows before dropping duplicates based on 'Description' and 'StockCode'\n",
        "rows_before = data.shape[0]\n",
        "\n",
        "# Drop duplicates based on 'Description' and 'StockCode'\n",
        "data.drop_duplicates(subset=['Description', 'StockCode'], inplace=True)\n",
        "\n",
        "# Count the number of rows after dropping duplicates\n",
        "rows_after = data.shape[0]\n",
        "\n",
        "# Calculate the number of rows affected (duplicates removed)\n",
        "rows_affected = rows_before - rows_after\n",
        "\n",
        "print(f\"Number of rows before dropping duplicates based on 'Description' and 'StockCode': {rows_before}\")\n",
        "print(f\"Number of rows after dropping duplicates based on 'Description' and 'StockCode': {rows_after}\")\n",
        "print(f\"Number of rows affected (duplicates removed): {rows_affected}\")\n"
      ],
      "metadata": {
        "colab": {
          "base_uri": "https://localhost:8080/"
        },
        "id": "52CNlhTQM3g6",
        "outputId": "76d2ad3d-9300-4bb5-d309-759f5722a8e0"
      },
      "execution_count": 8,
      "outputs": [
        {
          "output_type": "stream",
          "name": "stdout",
          "text": [
            "Number of rows before dropping duplicates based on 'Description' and 'StockCode': 526053\n",
            "Number of rows after dropping duplicates based on 'Description' and 'StockCode': 4745\n",
            "Number of rows affected (duplicates removed): 521308\n"
          ]
        }
      ]
    },
    {
      "cell_type": "code",
      "source": [
        "# Count the number of occurrences of each StockCode grouped by Description\n",
        "stockcode_counts = data.groupby('Description')['StockCode'].transform('nunique')\n",
        "\n",
        "# Filter rows where StockCode count is not equal to 1 (greater than 1)\n",
        "data = data[stockcode_counts == 1]\n",
        "\n",
        "# Count the number of rows after removing rows where StockCode count is greater than 1\n",
        "rows_after = data.shape[0]\n",
        "\n",
        "# Calculate the number of rows affected\n",
        "rows_affected = stockcode_counts.shape[0] - rows_after\n",
        "\n",
        "print(f\"Number of rows before removing rows where StockCode count is greater than 1: {stockcode_counts.shape[0]}\")\n",
        "print(f\"Number of rows after removing rows where StockCode count is greater than 1: {rows_after}\")\n",
        "print(f\"Number of rows affected: {rows_affected}\")\n"
      ],
      "metadata": {
        "colab": {
          "base_uri": "https://localhost:8080/"
        },
        "id": "MhK3BFwkM3eR",
        "outputId": "921feba8-4991-4cf2-9078-f48b3089601d"
      },
      "execution_count": 9,
      "outputs": [
        {
          "output_type": "stream",
          "name": "stdout",
          "text": [
            "Number of rows before removing rows where StockCode count is greater than 1: 4745\n",
            "Number of rows after removing rows where StockCode count is greater than 1: 3932\n",
            "Number of rows affected: 813\n"
          ]
        }
      ]
    },
    {
      "cell_type": "code",
      "source": [
        "# Count the number of occurrences of each Description grouped by StockCode\n",
        "description_counts = data.groupby('StockCode')['Description'].transform('nunique')\n",
        "\n",
        "# Filter rows where Description count is not equal to 1 (greater than 1)\n",
        "data = data[description_counts == 1]\n",
        "\n",
        "# Count the number of rows after removing rows where Description count is greater than 1\n",
        "rows_after = data.shape[0]\n",
        "\n",
        "# Calculate the number of rows affected\n",
        "rows_affected = description_counts.shape[0] - rows_after\n",
        "\n",
        "print(f\"Number of rows before removing rows where Description count is greater than 1: {description_counts.shape[0]}\")\n",
        "print(f\"Number of rows after removing rows where Description count is greater than 1: {rows_after}\")\n",
        "print(f\"Number of rows affected: {rows_affected}\")\n"
      ],
      "metadata": {
        "colab": {
          "base_uri": "https://localhost:8080/"
        },
        "id": "Dp2tsoInM3bH",
        "outputId": "a1fe7329-0797-48b0-c4c3-6d244f83531a"
      },
      "execution_count": 10,
      "outputs": [
        {
          "output_type": "stream",
          "name": "stdout",
          "text": [
            "Number of rows before removing rows where Description count is greater than 1: 3932\n",
            "Number of rows after removing rows where Description count is greater than 1: 3446\n",
            "Number of rows affected: 486\n"
          ]
        }
      ]
    },
    {
      "cell_type": "code",
      "source": [
        "\n",
        "# Count the number of unique values in the 'StockCode' column\n",
        "unique_stockcode = data['StockCode'].nunique()\n",
        "\n",
        "# Count the number of unique values in the 'Description' column\n",
        "unique_description = data['Description'].nunique()\n",
        "\n",
        "print(f\"Number of unique values in 'StockCode' column: {unique_stockcode}\")\n",
        "print(f\"Number of unique values in 'Description' column: {unique_description}\")\n",
        "\n"
      ],
      "metadata": {
        "colab": {
          "base_uri": "https://localhost:8080/"
        },
        "id": "47Xrt_IKM3YF",
        "outputId": "f671772b-6791-4bfa-f07a-43b7ad2f5a46"
      },
      "execution_count": 35,
      "outputs": [
        {
          "output_type": "stream",
          "name": "stdout",
          "text": [
            "Number of unique values in 'StockCode' column: 3445\n",
            "Number of unique values in 'Description' column: 3445\n"
          ]
        },
        {
          "output_type": "stream",
          "name": "stderr",
          "text": [
            "/usr/local/lib/python3.10/dist-packages/ipykernel/ipkernel.py:283: DeprecationWarning: `should_run_async` will not call `transform_cell` automatically in the future. Please pass the result to `transformed_cell` argument and any exception that happen during thetransform in `preprocessing_exc_tuple` in IPython 7.17 and above.\n",
            "  and should_run_async(code)\n"
          ]
        }
      ]
    },
    {
      "cell_type": "code",
      "source": [
        "# Count the number of rows before removing rows where StockCode contains 'POST'\n",
        "rows_before = data.shape[0]\n",
        "\n",
        "# Remove rows where StockCode contains 'POST'\n",
        "data = data[~data['StockCode'].str.contains('POST')]\n",
        "\n",
        "# Count the number of rows after removing rows where StockCode contains 'POST'\n",
        "rows_after = data.shape[0]\n",
        "\n",
        "# Calculate the number of rows affected (rows removed)\n",
        "rows_affected = rows_before - rows_after\n",
        "\n",
        "print(f\"Number of rows before removing rows where StockCode contains 'POST': {rows_before}\")\n",
        "print(f\"Number of rows after removing rows where StockCode contains 'POST': {rows_after}\")\n",
        "print(f\"Number of rows affected (rows removed): {rows_affected}\")\n"
      ],
      "metadata": {
        "colab": {
          "base_uri": "https://localhost:8080/"
        },
        "id": "VNK2nzh0M3U8",
        "outputId": "7851582e-5882-4305-8c6a-6a9dd34d33b8"
      },
      "execution_count": 12,
      "outputs": [
        {
          "output_type": "stream",
          "name": "stdout",
          "text": [
            "Number of rows before removing rows where StockCode contains 'POST': 3446\n",
            "Number of rows after removing rows where StockCode contains 'POST': 3445\n",
            "Number of rows affected (rows removed): 1\n"
          ]
        }
      ]
    },
    {
      "cell_type": "code",
      "source": [
        "unique_stockcodes = data['StockCode'].unique()\n",
        "\n",
        "# Print the unique values\n",
        "print(\"Unique values in the 'StockCode' column :\")\n",
        "print(unique_stockcodes)\n"
      ],
      "metadata": {
        "colab": {
          "base_uri": "https://localhost:8080/"
        },
        "id": "nExGi8JOM3Rh",
        "outputId": "b24a9fe0-f9f1-4a03-b2d7-0e37188e9532"
      },
      "execution_count": 13,
      "outputs": [
        {
          "output_type": "stream",
          "name": "stdout",
          "text": [
            "Unique values in the 'StockCode' column :\n",
            "['84406B' '84029G' '84029E' ... '90214U' '85123A' '23843']\n"
          ]
        }
      ]
    },
    {
      "cell_type": "code",
      "source": [
        "# Filter rows for 'Germany' only\n",
        "germany_data = data[data['Country'] == 'Germany']\n",
        "\n",
        "# Print the first few rows of the filtered DataFrame\n",
        "print(\"Rows for 'Germany' Only:\")\n",
        "print(germany_data.head())\n",
        "\n",
        "# Get unique values in the 'StockCode' column for 'Germany' only\n",
        "unique_stockcodes_germany = germany_data['StockCode'].unique()\n",
        "\n",
        "# Print unique values in the 'StockCode' column for 'Germany' only\n",
        "print(\"\\nUnique values in the 'StockCode' column for 'Germany' Only:\")\n",
        "print(unique_stockcodes_germany)\n"
      ],
      "metadata": {
        "colab": {
          "base_uri": "https://localhost:8080/"
        },
        "id": "_SJXhGb1M3O1",
        "outputId": "b203c5cf-a9bb-40e1-a4be-fd3b5da9fa44"
      },
      "execution_count": 14,
      "outputs": [
        {
          "output_type": "stream",
          "name": "stdout",
          "text": [
            "Rows for 'Germany' Only:\n",
            "     Invoice StockCode                          Description  Quantity  \\\n",
            "1111  536527     84945   MULTI COLOUR SILVER T-LIGHT HOLDER        12   \n",
            "1113  536527     22244           3 HOOK HANGER MAGIC GARDEN        12   \n",
            "1115  536527     47421  ASSORTED COLOUR LIZARD SUCTION HOOK        24   \n",
            "1116  536527     20712           JUMBO BAG WOODLAND ANIMALS        10   \n",
            "1120  536527     22973         CHILDREN'S CIRCUS PARADE MUG        12   \n",
            "\n",
            "          InvoiceDate  Price  Customer ID  Country  \n",
            "1111  12/1/2010 13:04   0.85      12662.0  Germany  \n",
            "1113  12/1/2010 13:04   1.95      12662.0  Germany  \n",
            "1115  12/1/2010 13:04   0.42      12662.0  Germany  \n",
            "1116  12/1/2010 13:04   1.95      12662.0  Germany  \n",
            "1120  12/1/2010 13:04   1.65      12662.0  Germany  \n",
            "\n",
            "Unique values in the 'StockCode' column for 'Germany' Only:\n",
            "['84945' '22244' '47421' '20712' '22973' '84569B' '84849D' '22843' '22346'\n",
            " '22344' '22856' '22934' '85205B' '21424' '21394' '22046' '47351B' '21084'\n",
            " '21088' '21096' '90098' '23158' '44242B' '23210' '23213' '23219' '23224'\n",
            " '23309' '23319' '23375' '23702']\n"
          ]
        }
      ]
    },
    {
      "cell_type": "code",
      "source": [
        "# Create a new column indicating product presence\n",
        "germany_data['Product_Presence'] = germany_data['Quantity'].apply(lambda x: 1 if x > 0 else 0)\n",
        "\n",
        "# Pivot the germany_data DataFrame with 'Invoice' as index, 'StockCode' as columns, and product presence as values\n",
        "pivot_data_germany = germany_data.pivot_table(index='Invoice', columns=['StockCode', 'Description', 'Quantity'], values='Product_Presence', fill_value=0)\n",
        "\n",
        "# Print the transformed DataFrame\n",
        "print(\"Transformed Data with Invoice, Description, Quantity, and Unique StockCode as Columns:\")\n",
        "print(pivot_data_germany.head())\n"
      ],
      "metadata": {
        "colab": {
          "base_uri": "https://localhost:8080/"
        },
        "id": "dEGeetysM3K2",
        "outputId": "bfb71ef8-ba06-4d2e-cd77-a6aa60092c71"
      },
      "execution_count": 16,
      "outputs": [
        {
          "output_type": "stream",
          "name": "stdout",
          "text": [
            "Transformed Data with Invoice, Description, Quantity, and Unique StockCode as Columns:\n",
            "StockCode                        20712                    21084  \\\n",
            "Description JUMBO BAG WOODLAND ANIMALS SET/6 COLLAGE PAPER CUPS   \n",
            "Quantity                            10                       12   \n",
            "Invoice                                                           \n",
            "536527                               1                        0   \n",
            "536983                               0                        0   \n",
            "537197                               0                        0   \n",
            "537212                               0                        0   \n",
            "538174                               0                        0   \n",
            "\n",
            "StockCode                          21088                           21096  \\\n",
            "Description SET/6 FRUIT SALAD PAPER CUPS SET/6 FRUIT SALAD  PAPER PLATES   \n",
            "Quantity                              12                              12   \n",
            "Invoice                                                                    \n",
            "536527                                 0                               0   \n",
            "536983                                 0                               0   \n",
            "537197                                 0                               0   \n",
            "537212                                 0                               0   \n",
            "538174                                 0                               0   \n",
            "\n",
            "StockCode                  21394                       21424  \\\n",
            "Description RED POLKADOT BEAKER  WOODLAND STORAGE BOX LARGE    \n",
            "Quantity                      6                           6    \n",
            "Invoice                                                        \n",
            "536527                         0                           0   \n",
            "536983                         0                           0   \n",
            "537197                         0                           0   \n",
            "537212                         0                           0   \n",
            "538174                         0                           0   \n",
            "\n",
            "StockCode                        22046                      22244  \\\n",
            "Description TEA PARTY  WRAPPING PAPER  3 HOOK HANGER MAGIC GARDEN   \n",
            "Quantity                            25                         12   \n",
            "Invoice                                                             \n",
            "536527                               0                          1   \n",
            "536983                               0                          0   \n",
            "537197                               0                          0   \n",
            "537212                               0                          0   \n",
            "538174                               0                          0   \n",
            "\n",
            "StockCode                            22344                           22346  \\\n",
            "Description PARTY PIZZA DISH PINK POLKADOT PARTY PIZZA DISH GREEN POLKADOT   \n",
            "Quantity                                12                              12   \n",
            "Invoice                                                                      \n",
            "536527                                   0                               0   \n",
            "536983                                   0                               0   \n",
            "537197                                   0                               0   \n",
            "537212                                   1                               1   \n",
            "538174                                   0                               0   \n",
            "\n",
            "StockCode    ...                         23375                 23702  \\\n",
            "Description  ... 50'S CHRISTMAS PAPER GIFT BAG High Resolution Image   \n",
            "Quantity     ...                            10                    1    \n",
            "Invoice      ...                                                       \n",
            "536527       ...                             0                     0   \n",
            "536983       ...                             0                     0   \n",
            "537197       ...                             0                     0   \n",
            "537212       ...                             0                     0   \n",
            "538174       ...                             0                     0   \n",
            "\n",
            "StockCode                  44242B                47351B  \\\n",
            "Description PINK FEATHERS CURTAIN BLUE  VOILE LAMPSHADE   \n",
            "Quantity                       20                    6    \n",
            "Invoice                                                   \n",
            "536527                          0                     0   \n",
            "536983                          0                     0   \n",
            "537197                          0                     0   \n",
            "537212                          0                     0   \n",
            "538174                          0                     0   \n",
            "\n",
            "StockCode                                 47421  \\\n",
            "Description ASSORTED COLOUR LIZARD SUCTION HOOK   \n",
            "Quantity                                     24   \n",
            "Invoice                                           \n",
            "536527                                        1   \n",
            "536983                                        0   \n",
            "537197                                        0   \n",
            "537212                                        0   \n",
            "538174                                        0   \n",
            "\n",
            "StockCode                           84569B                84849D  \\\n",
            "Description PACK 3 FIRE ENGINE/CAR PATCHES HOT BATHS SOAP HOLDER   \n",
            "Quantity                                12                    12   \n",
            "Invoice                                                            \n",
            "536527                                   1                     0   \n",
            "536983                                   0                     1   \n",
            "537197                                   0                     0   \n",
            "537212                                   0                     0   \n",
            "538174                                   0                     0   \n",
            "\n",
            "StockCode                                84945  \\\n",
            "Description MULTI COLOUR SILVER T-LIGHT HOLDER   \n",
            "Quantity                                    12   \n",
            "Invoice                                          \n",
            "536527                                       1   \n",
            "536983                                       0   \n",
            "537197                                       0   \n",
            "537212                                       0   \n",
            "538174                                       0   \n",
            "\n",
            "StockCode                            85205B                            90098  \n",
            "Description PINK FELT EASTER RABBIT GARLAND NECKLACE+BRACELET PINK BUTTERFLY  \n",
            "Quantity                                 12                               6   \n",
            "Invoice                                                                       \n",
            "536527                                    0                                0  \n",
            "536983                                    0                                0  \n",
            "537197                                    0                                0  \n",
            "537212                                    0                                0  \n",
            "538174                                    0                                0  \n",
            "\n",
            "[5 rows x 31 columns]\n"
          ]
        },
        {
          "output_type": "stream",
          "name": "stderr",
          "text": [
            "<ipython-input-16-454793f13e4d>:2: SettingWithCopyWarning: \n",
            "A value is trying to be set on a copy of a slice from a DataFrame.\n",
            "Try using .loc[row_indexer,col_indexer] = value instead\n",
            "\n",
            "See the caveats in the documentation: https://pandas.pydata.org/pandas-docs/stable/user_guide/indexing.html#returning-a-view-versus-a-copy\n",
            "  germany_data['Product_Presence'] = germany_data['Quantity'].apply(lambda x: 1 if x > 0 else 0)\n"
          ]
        }
      ]
    },
    {
      "cell_type": "code",
      "source": [
        "from mlxtend.frequent_patterns import apriori\n",
        "\n",
        "# Assuming 'pivot_data_germany' is the transformed DataFrame with unique StockCode as columns and 0/1 values indicating product presence\n",
        "\n",
        "# Apply Apriori algorithm with a minimum support threshold of 0.01\n",
        "frequent_itemsets_germany = apriori(pivot_data_germany, min_support=0.01, use_colnames=True)\n",
        "\n",
        "# Print the frequent itemsets\n",
        "print(\"Frequent Itemsets with 0.01 Support:\")\n",
        "print(frequent_itemsets_germany)\n"
      ],
      "metadata": {
        "colab": {
          "base_uri": "https://localhost:8080/"
        },
        "id": "vjiHctjYM3Fr",
        "outputId": "566ddfcc-0826-4c6c-ba9a-87c5531c28ff"
      },
      "execution_count": 17,
      "outputs": [
        {
          "output_type": "stream",
          "name": "stdout",
          "text": [
            "Frequent Itemsets with 0.01 Support:\n",
            "      support                                           itemsets\n",
            "0    0.055556          ((20712, JUMBO BAG WOODLAND ANIMALS, 10))\n",
            "1    0.055556            ((21084, SET/6 COLLAGE PAPER CUPS, 12))\n",
            "2    0.055556        ((21088, SET/6 FRUIT SALAD PAPER CUPS, 12))\n",
            "3    0.055556     ((21096, SET/6 FRUIT SALAD  PAPER PLATES, 12))\n",
            "4    0.055556                 ((21394, RED POLKADOT BEAKER , 6))\n",
            "..        ...                                                ...\n",
            "107  0.055556  ((84945, MULTI COLOUR SILVER T-LIGHT HOLDER, 1...\n",
            "108  0.055556  ((84945, MULTI COLOUR SILVER T-LIGHT HOLDER, 1...\n",
            "109  0.055556  ((84945, MULTI COLOUR SILVER T-LIGHT HOLDER, 1...\n",
            "110  0.055556  ((84945, MULTI COLOUR SILVER T-LIGHT HOLDER, 1...\n",
            "111  0.055556  ((84945, MULTI COLOUR SILVER T-LIGHT HOLDER, 1...\n",
            "\n",
            "[112 rows x 2 columns]\n"
          ]
        },
        {
          "output_type": "stream",
          "name": "stderr",
          "text": [
            "/usr/local/lib/python3.10/dist-packages/mlxtend/frequent_patterns/fpcommon.py:110: DeprecationWarning: DataFrames with non-bool types result in worse computationalperformance and their support might be discontinued in the future.Please use a DataFrame with bool type\n",
            "  warnings.warn(\n"
          ]
        }
      ]
    },
    {
      "cell_type": "code",
      "source": [
        "from mlxtend.frequent_patterns import apriori, association_rules\n",
        "\n",
        "# Apply Apriori algorithm with a minimum support threshold of 0.01\n",
        "frequent_itemsets_germany = apriori(pivot_data_germany, min_support=0.01, use_colnames=True)\n",
        "\n",
        "# Generate association rules from the frequent itemsets\n",
        "rules_germany = association_rules(frequent_itemsets_germany, metric=\"support\", min_threshold=0.01)\n",
        "\n",
        "# Sort the rules by support value in descending order and print the top 5 rules\n",
        "top_5_rules_germany = rules_germany.sort_values(by=\"support\", ascending=False).head(5)\n",
        "print(\"Top 5 Association Rules based on Support:\")\n",
        "print(top_5_rules_germany)\n"
      ],
      "metadata": {
        "colab": {
          "base_uri": "https://localhost:8080/"
        },
        "id": "VIxH19P5M3Cx",
        "outputId": "4df9c40e-7488-4e31-f49d-a0ab02873911"
      },
      "execution_count": 18,
      "outputs": [
        {
          "output_type": "stream",
          "name": "stdout",
          "text": [
            "Top 5 Association Rules based on Support:\n",
            "                                           antecedents  \\\n",
            "0            ((22244, 3 HOOK HANGER MAGIC GARDEN, 12))   \n",
            "529  ((84945, MULTI COLOUR SILVER T-LIGHT HOLDER, 1...   \n",
            "465  ((84569B, PACK 3 FIRE ENGINE/CAR PATCHES, 12),...   \n",
            "466  ((84569B, PACK 3 FIRE ENGINE/CAR PATCHES, 12),...   \n",
            "467  ((22244, 3 HOOK HANGER MAGIC GARDEN, 12), (474...   \n",
            "\n",
            "                                           consequents  antecedent support  \\\n",
            "0            ((20712, JUMBO BAG WOODLAND ANIMALS, 10))            0.055556   \n",
            "529  ((22244, 3 HOOK HANGER MAGIC GARDEN, 12), (845...            0.055556   \n",
            "465  ((47421, ASSORTED COLOUR LIZARD SUCTION HOOK, ...            0.055556   \n",
            "466          ((22244, 3 HOOK HANGER MAGIC GARDEN, 12))            0.055556   \n",
            "467          ((20712, JUMBO BAG WOODLAND ANIMALS, 10))            0.055556   \n",
            "\n",
            "     consequent support   support  confidence  lift  leverage  conviction  \\\n",
            "0              0.055556  0.055556         1.0  18.0  0.052469         inf   \n",
            "529            0.055556  0.055556         1.0  18.0  0.052469         inf   \n",
            "465            0.055556  0.055556         1.0  18.0  0.052469         inf   \n",
            "466            0.055556  0.055556         1.0  18.0  0.052469         inf   \n",
            "467            0.055556  0.055556         1.0  18.0  0.052469         inf   \n",
            "\n",
            "     zhangs_metric  \n",
            "0              1.0  \n",
            "529            1.0  \n",
            "465            1.0  \n",
            "466            1.0  \n",
            "467            1.0  \n"
          ]
        },
        {
          "output_type": "stream",
          "name": "stderr",
          "text": [
            "/usr/local/lib/python3.10/dist-packages/ipykernel/ipkernel.py:283: DeprecationWarning: `should_run_async` will not call `transform_cell` automatically in the future. Please pass the result to `transformed_cell` argument and any exception that happen during thetransform in `preprocessing_exc_tuple` in IPython 7.17 and above.\n",
            "  and should_run_async(code)\n",
            "/usr/local/lib/python3.10/dist-packages/mlxtend/frequent_patterns/fpcommon.py:110: DeprecationWarning: DataFrames with non-bool types result in worse computationalperformance and their support might be discontinued in the future.Please use a DataFrame with bool type\n",
            "  warnings.warn(\n"
          ]
        }
      ]
    },
    {
      "cell_type": "code",
      "source": [
        "from mlxtend.frequent_patterns import apriori, association_rules\n",
        "\n",
        "\n",
        "# Apply Apriori algorithm with a minimum support threshold of 0.01\n",
        "frequent_itemsets_germany = apriori(pivot_data_germany, min_support=0.001, use_colnames=True)\n",
        "\n",
        "# Generate association rules from the frequent itemsets\n",
        "rules_germany = association_rules(frequent_itemsets_germany, metric=\"lift\", min_threshold=1.0)\n",
        "\n",
        "# Sort the rules by lift value in descending order\n",
        "sorted_rules_by_lift = rules_germany.sort_values(by=\"lift\", ascending=False)\n",
        "\n",
        "# Print the top 5 association rules based on lift\n",
        "print(\"Top 5 Association Rules based on Lift:\")\n",
        "print(sorted_rules_by_lift.head(5))\n"
      ],
      "metadata": {
        "colab": {
          "base_uri": "https://localhost:8080/"
        },
        "id": "ep7r3WL6M2_x",
        "outputId": "5885f795-6d66-45d9-f38a-77156932a2cb"
      },
      "execution_count": 19,
      "outputs": [
        {
          "output_type": "stream",
          "name": "stdout",
          "text": [
            "Top 5 Association Rules based on Lift:\n",
            "                                           antecedents  \\\n",
            "0            ((22244, 3 HOOK HANGER MAGIC GARDEN, 12))   \n",
            "529  ((84945, MULTI COLOUR SILVER T-LIGHT HOLDER, 1...   \n",
            "465  ((84569B, PACK 3 FIRE ENGINE/CAR PATCHES, 12),...   \n",
            "466  ((84569B, PACK 3 FIRE ENGINE/CAR PATCHES, 12),...   \n",
            "467  ((22244, 3 HOOK HANGER MAGIC GARDEN, 12), (474...   \n",
            "\n",
            "                                           consequents  antecedent support  \\\n",
            "0            ((20712, JUMBO BAG WOODLAND ANIMALS, 10))            0.055556   \n",
            "529  ((22244, 3 HOOK HANGER MAGIC GARDEN, 12), (845...            0.055556   \n",
            "465  ((47421, ASSORTED COLOUR LIZARD SUCTION HOOK, ...            0.055556   \n",
            "466          ((22244, 3 HOOK HANGER MAGIC GARDEN, 12))            0.055556   \n",
            "467          ((20712, JUMBO BAG WOODLAND ANIMALS, 10))            0.055556   \n",
            "\n",
            "     consequent support   support  confidence  lift  leverage  conviction  \\\n",
            "0              0.055556  0.055556         1.0  18.0  0.052469         inf   \n",
            "529            0.055556  0.055556         1.0  18.0  0.052469         inf   \n",
            "465            0.055556  0.055556         1.0  18.0  0.052469         inf   \n",
            "466            0.055556  0.055556         1.0  18.0  0.052469         inf   \n",
            "467            0.055556  0.055556         1.0  18.0  0.052469         inf   \n",
            "\n",
            "     zhangs_metric  \n",
            "0              1.0  \n",
            "529            1.0  \n",
            "465            1.0  \n",
            "466            1.0  \n",
            "467            1.0  \n"
          ]
        },
        {
          "output_type": "stream",
          "name": "stderr",
          "text": [
            "/usr/local/lib/python3.10/dist-packages/ipykernel/ipkernel.py:283: DeprecationWarning: `should_run_async` will not call `transform_cell` automatically in the future. Please pass the result to `transformed_cell` argument and any exception that happen during thetransform in `preprocessing_exc_tuple` in IPython 7.17 and above.\n",
            "  and should_run_async(code)\n",
            "/usr/local/lib/python3.10/dist-packages/mlxtend/frequent_patterns/fpcommon.py:110: DeprecationWarning: DataFrames with non-bool types result in worse computationalperformance and their support might be discontinued in the future.Please use a DataFrame with bool type\n",
            "  warnings.warn(\n"
          ]
        }
      ]
    },
    {
      "cell_type": "code",
      "source": [
        "def generate_recommendations(sorted_rules, product_name):\n",
        "    # Filter rules where the product_name is in antecedents\n",
        "    filtered_rules = sorted_rules[sorted_rules['antecedents'].apply(lambda x: any(product_name in item for item in x))]\n",
        "\n",
        "    # Check if there are any filtered rules\n",
        "    if filtered_rules.empty:\n",
        "        print(f\"No recommendations found for '{product_name}'.\")\n",
        "        return []\n",
        "\n",
        "    # Sort the filtered rules by confidence in descending order\n",
        "    filtered_rules = filtered_rules.sort_values(by='confidence', ascending=False)\n",
        "\n",
        "    # Extract consequents from the filtered rules\n",
        "    recommended_items = filtered_rules['consequents'].iloc[0]  # Get top recommendation\n",
        "\n",
        "    # Return the list of recommended items\n",
        "    return list(recommended_items)\n",
        "\n",
        "# Example usage\n",
        "product_name = '22244'  # Specify the product name for which you want recommendations\n",
        "top_recommendations = generate_recommendations(sorted_rules_by_lift, product_name)\n",
        "\n",
        "# Print the top recommendations\n",
        "print(f\"Top recommendations for '{product_name}': {top_recommendations}\")\n"
      ],
      "metadata": {
        "colab": {
          "base_uri": "https://localhost:8080/"
        },
        "id": "-PGcPyeGM28m",
        "outputId": "9598e184-381e-4e5c-d2c7-726d859ecb60"
      },
      "execution_count": 20,
      "outputs": [
        {
          "output_type": "stream",
          "name": "stdout",
          "text": [
            "Top recommendations for '22244': [('20712', 'JUMBO BAG WOODLAND ANIMALS', 10)]\n"
          ]
        },
        {
          "output_type": "stream",
          "name": "stderr",
          "text": [
            "/usr/local/lib/python3.10/dist-packages/ipykernel/ipkernel.py:283: DeprecationWarning: `should_run_async` will not call `transform_cell` automatically in the future. Please pass the result to `transformed_cell` argument and any exception that happen during thetransform in `preprocessing_exc_tuple` in IPython 7.17 and above.\n",
            "  and should_run_async(code)\n"
          ]
        }
      ]
    },
    {
      "cell_type": "code",
      "source": [
        "# Example usage to get recommendations for '22492'\n",
        "product_name = '22492'\n",
        "top_recommendations = generate_recommendations(sorted_rules_by_lift, product_name)\n",
        "\n",
        "# Print the top 5 recommended items\n",
        "print(f\"Top 5 recommendations for '{product_name}': {top_recommendations[:5]}\")\n"
      ],
      "metadata": {
        "colab": {
          "base_uri": "https://localhost:8080/"
        },
        "id": "SBJuQoNQM25k",
        "outputId": "0229cee3-8d09-428a-cf8d-ed3da07cea87"
      },
      "execution_count": 21,
      "outputs": [
        {
          "output_type": "stream",
          "name": "stdout",
          "text": [
            "No recommendations found for '22492'.\n",
            "Top 5 recommendations for '22492': []\n"
          ]
        },
        {
          "output_type": "stream",
          "name": "stderr",
          "text": [
            "/usr/local/lib/python3.10/dist-packages/ipykernel/ipkernel.py:283: DeprecationWarning: `should_run_async` will not call `transform_cell` automatically in the future. Please pass the result to `transformed_cell` argument and any exception that happen during thetransform in `preprocessing_exc_tuple` in IPython 7.17 and above.\n",
            "  and should_run_async(code)\n"
          ]
        }
      ]
    },
    {
      "cell_type": "code",
      "source": [
        "# Filter rules where '22492' is in antecedents and support is greater than 0.02\n",
        "filtered_rules_22492 = rules_germany[rules_germany['antecedents'].apply(lambda x: any('22492' in item for item in x))\n",
        "                                      & (rules_germany['support'] > 0.02)]\n",
        "\n",
        "# Sort the filtered rules by lift value in descending order\n",
        "sorted_rules_22492 = filtered_rules_22492.sort_values(by='lift', ascending=False)\n",
        "\n",
        "# Get top 5 recommended items if available, else empty list\n",
        "top_recommendations_22492 = list(sorted_rules_22492['consequents'].iloc[0][:5]) if not sorted_rules_22492.empty else []\n",
        "\n",
        "# Print the top 5 recommended items for '22492'\n",
        "print(f\"Top 5 recommendations for '22492' with 0.02 support: {top_recommendations_22492}\")\n"
      ],
      "metadata": {
        "colab": {
          "base_uri": "https://localhost:8080/"
        },
        "id": "RlP4MhRYM22D",
        "outputId": "184098b8-013e-4da4-a83f-1a77e4e62f7a"
      },
      "execution_count": 22,
      "outputs": [
        {
          "output_type": "stream",
          "name": "stdout",
          "text": [
            "Top 5 recommendations for '22492' with 0.02 support: []\n"
          ]
        },
        {
          "output_type": "stream",
          "name": "stderr",
          "text": [
            "/usr/local/lib/python3.10/dist-packages/ipykernel/ipkernel.py:283: DeprecationWarning: `should_run_async` will not call `transform_cell` automatically in the future. Please pass the result to `transformed_cell` argument and any exception that happen during thetransform in `preprocessing_exc_tuple` in IPython 7.17 and above.\n",
            "  and should_run_async(code)\n"
          ]
        }
      ]
    },
    {
      "cell_type": "code",
      "source": [
        "from mlxtend.frequent_patterns import fpgrowth, association_rules\n",
        "\n",
        "# Apply FP-growth algorithm with a minimum support threshold of 0.01 for Germany dataset\n",
        "frequent_itemsets_germany_fp = fpgrowth(pivot_data_germany, min_support=0.01, use_colnames=True)\n",
        "\n",
        "# Generate association rules from the frequent itemsets\n",
        "rules_germany_fp = association_rules(frequent_itemsets_germany_fp, metric=\"confidence\", min_threshold=0.5)\n",
        "\n",
        "# Print the frequent itemsets and association rules\n",
        "print(\"Frequent Itemsets using FP-growth:\")\n",
        "print(frequent_itemsets_germany_fp)\n",
        "print(\"\\nAssociation Rules using FP-growth:\")\n",
        "print(rules_germany_fp)\n"
      ],
      "metadata": {
        "colab": {
          "base_uri": "https://localhost:8080/"
        },
        "id": "nmCH5xPKM2yg",
        "outputId": "8fcf4fdc-d840-4b7e-992f-c3672591540c"
      },
      "execution_count": 23,
      "outputs": [
        {
          "output_type": "stream",
          "name": "stdout",
          "text": [
            "Frequent Itemsets using FP-growth:\n",
            "      support                                           itemsets\n",
            "0    0.055556          ((22244, 3 HOOK HANGER MAGIC GARDEN, 12))\n",
            "1    0.055556        ((22973, CHILDREN'S CIRCUS PARADE MUG, 12))\n",
            "2    0.055556  ((47421, ASSORTED COLOUR LIZARD SUCTION HOOK, ...\n",
            "3    0.055556     ((84569B, PACK 3 FIRE ENGINE/CAR PATCHES, 12))\n",
            "4    0.055556  ((84945, MULTI COLOUR SILVER T-LIGHT HOLDER, 12))\n",
            "..        ...                                                ...\n",
            "107  0.055556  ((23224, CHERUB HEART DECORATION GOLD, 1), (23...\n",
            "108  0.055556  ((23224, CHERUB HEART DECORATION GOLD, 1), (23...\n",
            "109  0.055556  ((23224, CHERUB HEART DECORATION GOLD, 1), (23...\n",
            "110  0.055556  ((23224, CHERUB HEART DECORATION GOLD, 1), (23...\n",
            "111  0.055556  ((23224, CHERUB HEART DECORATION GOLD, 1), (23...\n",
            "\n",
            "[112 rows x 2 columns]\n",
            "\n",
            "Association Rules using FP-growth:\n",
            "                                           antecedents  \\\n",
            "0            ((22244, 3 HOOK HANGER MAGIC GARDEN, 12))   \n",
            "1          ((22973, CHILDREN'S CIRCUS PARADE MUG, 12))   \n",
            "2    ((47421, ASSORTED COLOUR LIZARD SUCTION HOOK, ...   \n",
            "3          ((22973, CHILDREN'S CIRCUS PARADE MUG, 12))   \n",
            "4            ((22244, 3 HOOK HANGER MAGIC GARDEN, 12))   \n",
            "..                                                 ...   \n",
            "701  ((23210, WHITE ROCKING HORSE HAND PAINTED, 24)...   \n",
            "702         ((23224, CHERUB HEART DECORATION GOLD, 1))   \n",
            "703    ((23213, STAR WREATH DECORATION WITH BELL, 12))   \n",
            "704    ((23210, WHITE ROCKING HORSE HAND PAINTED, 24))   \n",
            "705          ((23219, LAUREL STAR ANTIQUE SILVER , 1))   \n",
            "\n",
            "                                           consequents  antecedent support  \\\n",
            "0          ((22973, CHILDREN'S CIRCUS PARADE MUG, 12))            0.055556   \n",
            "1            ((22244, 3 HOOK HANGER MAGIC GARDEN, 12))            0.055556   \n",
            "2          ((22973, CHILDREN'S CIRCUS PARADE MUG, 12))            0.055556   \n",
            "3    ((47421, ASSORTED COLOUR LIZARD SUCTION HOOK, ...            0.055556   \n",
            "4    ((47421, ASSORTED COLOUR LIZARD SUCTION HOOK, ...            0.055556   \n",
            "..                                                 ...                 ...   \n",
            "701  ((23224, CHERUB HEART DECORATION GOLD, 1), (23...            0.055556   \n",
            "702  ((23213, STAR WREATH DECORATION WITH BELL, 12)...            0.055556   \n",
            "703  ((23224, CHERUB HEART DECORATION GOLD, 1), (23...            0.055556   \n",
            "704  ((23224, CHERUB HEART DECORATION GOLD, 1), (23...            0.055556   \n",
            "705  ((23224, CHERUB HEART DECORATION GOLD, 1), (23...            0.055556   \n",
            "\n",
            "     consequent support   support  confidence  lift  leverage  conviction  \\\n",
            "0              0.055556  0.055556         1.0  18.0  0.052469         inf   \n",
            "1              0.055556  0.055556         1.0  18.0  0.052469         inf   \n",
            "2              0.055556  0.055556         1.0  18.0  0.052469         inf   \n",
            "3              0.055556  0.055556         1.0  18.0  0.052469         inf   \n",
            "4              0.055556  0.055556         1.0  18.0  0.052469         inf   \n",
            "..                  ...       ...         ...   ...       ...         ...   \n",
            "701            0.055556  0.055556         1.0  18.0  0.052469         inf   \n",
            "702            0.055556  0.055556         1.0  18.0  0.052469         inf   \n",
            "703            0.055556  0.055556         1.0  18.0  0.052469         inf   \n",
            "704            0.055556  0.055556         1.0  18.0  0.052469         inf   \n",
            "705            0.055556  0.055556         1.0  18.0  0.052469         inf   \n",
            "\n",
            "     zhangs_metric  \n",
            "0              1.0  \n",
            "1              1.0  \n",
            "2              1.0  \n",
            "3              1.0  \n",
            "4              1.0  \n",
            "..             ...  \n",
            "701            1.0  \n",
            "702            1.0  \n",
            "703            1.0  \n",
            "704            1.0  \n",
            "705            1.0  \n",
            "\n",
            "[706 rows x 10 columns]\n"
          ]
        },
        {
          "output_type": "stream",
          "name": "stderr",
          "text": [
            "/usr/local/lib/python3.10/dist-packages/ipykernel/ipkernel.py:283: DeprecationWarning: `should_run_async` will not call `transform_cell` automatically in the future. Please pass the result to `transformed_cell` argument and any exception that happen during thetransform in `preprocessing_exc_tuple` in IPython 7.17 and above.\n",
            "  and should_run_async(code)\n",
            "/usr/local/lib/python3.10/dist-packages/mlxtend/frequent_patterns/fpcommon.py:110: DeprecationWarning: DataFrames with non-bool types result in worse computationalperformance and their support might be discontinued in the future.Please use a DataFrame with bool type\n",
            "  warnings.warn(\n"
          ]
        }
      ]
    },
    {
      "cell_type": "code",
      "source": [
        "from mlxtend.frequent_patterns import fpgrowth, association_rules\n",
        "\n",
        "# Apply FP-growth algorithm with a minimum support threshold of 0.01 for Germany dataset\n",
        "frequent_itemsets_germany_fp = fpgrowth(pivot_data_germany, min_support=0.01, use_colnames=True)\n",
        "\n",
        "# Generate association rules from the frequent itemsets\n",
        "rules_germany_fp = association_rules(frequent_itemsets_germany_fp, metric=\"support\", min_threshold=0.01)\n",
        "\n",
        "# Sort the rules by support value in descending order and print the top 5 rules\n",
        "sorted_rules_by_support = rules_germany_fp.sort_values(by='support', ascending=False)\n",
        "top_5_rules_by_support = sorted_rules_by_support.head(5)\n",
        "\n",
        "# Print the top 5 association rules based on support value\n",
        "print(\"Top 5 Association Rules based on Support (FP-growth Algorithm):\")\n",
        "print(top_5_rules_by_support)\n"
      ],
      "metadata": {
        "colab": {
          "base_uri": "https://localhost:8080/"
        },
        "id": "CMs9HwqRM2vM",
        "outputId": "5075c192-b1dc-4ea2-d2e4-8a0c87d917f2"
      },
      "execution_count": 24,
      "outputs": [
        {
          "output_type": "stream",
          "name": "stdout",
          "text": [
            "Top 5 Association Rules based on Support (FP-growth Algorithm):\n",
            "                                           antecedents  \\\n",
            "0            ((22244, 3 HOOK HANGER MAGIC GARDEN, 12))   \n",
            "529  ((22244, 3 HOOK HANGER MAGIC GARDEN, 12), (207...   \n",
            "465  ((84945, MULTI COLOUR SILVER T-LIGHT HOLDER, 1...   \n",
            "466  ((84945, MULTI COLOUR SILVER T-LIGHT HOLDER, 1...   \n",
            "467  ((22244, 3 HOOK HANGER MAGIC GARDEN, 12), (849...   \n",
            "\n",
            "                                           consequents  antecedent support  \\\n",
            "0          ((22973, CHILDREN'S CIRCUS PARADE MUG, 12))            0.055556   \n",
            "529  ((47421, ASSORTED COLOUR LIZARD SUCTION HOOK, ...            0.055556   \n",
            "465  ((22244, 3 HOOK HANGER MAGIC GARDEN, 12), (207...            0.055556   \n",
            "466  ((22244, 3 HOOK HANGER MAGIC GARDEN, 12), (845...            0.055556   \n",
            "467  ((84569B, PACK 3 FIRE ENGINE/CAR PATCHES, 12),...            0.055556   \n",
            "\n",
            "     consequent support   support  confidence  lift  leverage  conviction  \\\n",
            "0              0.055556  0.055556         1.0  18.0  0.052469         inf   \n",
            "529            0.055556  0.055556         1.0  18.0  0.052469         inf   \n",
            "465            0.055556  0.055556         1.0  18.0  0.052469         inf   \n",
            "466            0.055556  0.055556         1.0  18.0  0.052469         inf   \n",
            "467            0.055556  0.055556         1.0  18.0  0.052469         inf   \n",
            "\n",
            "     zhangs_metric  \n",
            "0              1.0  \n",
            "529            1.0  \n",
            "465            1.0  \n",
            "466            1.0  \n",
            "467            1.0  \n"
          ]
        },
        {
          "output_type": "stream",
          "name": "stderr",
          "text": [
            "/usr/local/lib/python3.10/dist-packages/ipykernel/ipkernel.py:283: DeprecationWarning: `should_run_async` will not call `transform_cell` automatically in the future. Please pass the result to `transformed_cell` argument and any exception that happen during thetransform in `preprocessing_exc_tuple` in IPython 7.17 and above.\n",
            "  and should_run_async(code)\n",
            "/usr/local/lib/python3.10/dist-packages/mlxtend/frequent_patterns/fpcommon.py:110: DeprecationWarning: DataFrames with non-bool types result in worse computationalperformance and their support might be discontinued in the future.Please use a DataFrame with bool type\n",
            "  warnings.warn(\n"
          ]
        }
      ]
    },
    {
      "cell_type": "code",
      "source": [
        "from mlxtend.frequent_patterns import fpgrowth, association_rules\n",
        "\n",
        "# Apply FP-growth algorithm with a minimum support threshold of 0.01 for Germany dataset\n",
        "frequent_itemsets_germany_fp = fpgrowth(pivot_data_germany, min_support=0.01, use_colnames=True)\n",
        "\n",
        "# Generate association rules from the frequent itemsets\n",
        "rules_germany_fp = association_rules(frequent_itemsets_germany_fp, metric=\"lift\", min_threshold=1.0)\n",
        "\n",
        "# Sort the rules by lift value in descending order\n",
        "sorted_rules_by_lift = rules_germany_fp.sort_values(by='lift', ascending=False)\n",
        "\n",
        "# Store the sorted rules in a variable\n",
        "sorted_rules_variable = sorted_rules_by_lift\n",
        "\n",
        "# Print the sorted association rules or use the variable for further analysis\n",
        "print(\"Association Rules Sorted by Lift (FP-growth Algorithm):\")\n",
        "print(sorted_rules_variable)\n"
      ],
      "metadata": {
        "colab": {
          "base_uri": "https://localhost:8080/"
        },
        "id": "IeL2hITtM2rp",
        "outputId": "a672b8d5-b5fc-405a-c40f-de5264812233"
      },
      "execution_count": 25,
      "outputs": [
        {
          "output_type": "stream",
          "name": "stdout",
          "text": [
            "Association Rules Sorted by Lift (FP-growth Algorithm):\n",
            "                                           antecedents  \\\n",
            "0            ((22244, 3 HOOK HANGER MAGIC GARDEN, 12))   \n",
            "529  ((22244, 3 HOOK HANGER MAGIC GARDEN, 12), (207...   \n",
            "465  ((84945, MULTI COLOUR SILVER T-LIGHT HOLDER, 1...   \n",
            "466  ((84945, MULTI COLOUR SILVER T-LIGHT HOLDER, 1...   \n",
            "467  ((22244, 3 HOOK HANGER MAGIC GARDEN, 12), (849...   \n",
            "..                                                 ...   \n",
            "237        ((22973, CHILDREN'S CIRCUS PARADE MUG, 12))   \n",
            "238  ((22244, 3 HOOK HANGER MAGIC GARDEN, 12), (474...   \n",
            "239  ((22244, 3 HOOK HANGER MAGIC GARDEN, 12), (207...   \n",
            "240  ((47421, ASSORTED COLOUR LIZARD SUCTION HOOK, ...   \n",
            "705          ((23219, LAUREL STAR ANTIQUE SILVER , 1))   \n",
            "\n",
            "                                           consequents  antecedent support  \\\n",
            "0          ((22973, CHILDREN'S CIRCUS PARADE MUG, 12))            0.055556   \n",
            "529  ((47421, ASSORTED COLOUR LIZARD SUCTION HOOK, ...            0.055556   \n",
            "465  ((22244, 3 HOOK HANGER MAGIC GARDEN, 12), (207...            0.055556   \n",
            "466  ((22244, 3 HOOK HANGER MAGIC GARDEN, 12), (845...            0.055556   \n",
            "467  ((84569B, PACK 3 FIRE ENGINE/CAR PATCHES, 12),...            0.055556   \n",
            "..                                                 ...                 ...   \n",
            "237  ((47421, ASSORTED COLOUR LIZARD SUCTION HOOK, ...            0.055556   \n",
            "238          ((20712, JUMBO BAG WOODLAND ANIMALS, 10))            0.055556   \n",
            "239  ((47421, ASSORTED COLOUR LIZARD SUCTION HOOK, ...            0.055556   \n",
            "240          ((22244, 3 HOOK HANGER MAGIC GARDEN, 12))            0.055556   \n",
            "705  ((23224, CHERUB HEART DECORATION GOLD, 1), (23...            0.055556   \n",
            "\n",
            "     consequent support   support  confidence  lift  leverage  conviction  \\\n",
            "0              0.055556  0.055556         1.0  18.0  0.052469         inf   \n",
            "529            0.055556  0.055556         1.0  18.0  0.052469         inf   \n",
            "465            0.055556  0.055556         1.0  18.0  0.052469         inf   \n",
            "466            0.055556  0.055556         1.0  18.0  0.052469         inf   \n",
            "467            0.055556  0.055556         1.0  18.0  0.052469         inf   \n",
            "..                  ...       ...         ...   ...       ...         ...   \n",
            "237            0.055556  0.055556         1.0  18.0  0.052469         inf   \n",
            "238            0.055556  0.055556         1.0  18.0  0.052469         inf   \n",
            "239            0.055556  0.055556         1.0  18.0  0.052469         inf   \n",
            "240            0.055556  0.055556         1.0  18.0  0.052469         inf   \n",
            "705            0.055556  0.055556         1.0  18.0  0.052469         inf   \n",
            "\n",
            "     zhangs_metric  \n",
            "0              1.0  \n",
            "529            1.0  \n",
            "465            1.0  \n",
            "466            1.0  \n",
            "467            1.0  \n",
            "..             ...  \n",
            "237            1.0  \n",
            "238            1.0  \n",
            "239            1.0  \n",
            "240            1.0  \n",
            "705            1.0  \n",
            "\n",
            "[706 rows x 10 columns]\n"
          ]
        },
        {
          "output_type": "stream",
          "name": "stderr",
          "text": [
            "/usr/local/lib/python3.10/dist-packages/ipykernel/ipkernel.py:283: DeprecationWarning: `should_run_async` will not call `transform_cell` automatically in the future. Please pass the result to `transformed_cell` argument and any exception that happen during thetransform in `preprocessing_exc_tuple` in IPython 7.17 and above.\n",
            "  and should_run_async(code)\n",
            "/usr/local/lib/python3.10/dist-packages/mlxtend/frequent_patterns/fpcommon.py:110: DeprecationWarning: DataFrames with non-bool types result in worse computationalperformance and their support might be discontinued in the future.Please use a DataFrame with bool type\n",
            "  warnings.warn(\n"
          ]
        }
      ]
    },
    {
      "cell_type": "code",
      "source": [
        "# Filter rules where '22492' is in antecedents\n",
        "filtered_rules_22492 = sorted_rules_by_lift[sorted_rules_by_lift['antecedents'].apply(lambda x: any('22492' in item for item in x))]\n",
        "\n",
        "# Sort the filtered rules by lift value in descending order\n",
        "sorted_rules_22492 = filtered_rules_22492.sort_values(by='lift', ascending=False)\n",
        "\n",
        "# Check if sorted_rules_22492 DataFrame is not empty\n",
        "if not sorted_rules_22492.empty:\n",
        "    # Get the first association rule's consequents as a frozenset\n",
        "    consequents_frozenset = sorted_rules_22492['consequents'].iloc[0]\n",
        "\n",
        "    # Convert frozenset to a regular set\n",
        "    consequents_set = set(consequents_frozenset)\n",
        "\n",
        "    # Get top 5 recommended items\n",
        "    top_recommendations_22492 = list(consequents_set)[:5]\n",
        "else:\n",
        "    # If DataFrame is empty, set top_recommendations_22492 as an empty list\n",
        "    top_recommendations_22492 = []\n",
        "\n",
        "# Print the top 5 recommended items for '22492'\n",
        "print(f\"Top 5 recommendations for '22492': {top_recommendations_22492}\")\n",
        "\n"
      ],
      "metadata": {
        "colab": {
          "base_uri": "https://localhost:8080/"
        },
        "id": "kNRUpld2M2mp",
        "outputId": "1ad6f286-5e83-48f5-d144-fcaad37b46a4"
      },
      "execution_count": 26,
      "outputs": [
        {
          "output_type": "stream",
          "name": "stdout",
          "text": [
            "Top 5 recommendations for '22492': []\n"
          ]
        },
        {
          "output_type": "stream",
          "name": "stderr",
          "text": [
            "/usr/local/lib/python3.10/dist-packages/ipykernel/ipkernel.py:283: DeprecationWarning: `should_run_async` will not call `transform_cell` automatically in the future. Please pass the result to `transformed_cell` argument and any exception that happen during thetransform in `preprocessing_exc_tuple` in IPython 7.17 and above.\n",
            "  and should_run_async(code)\n"
          ]
        }
      ]
    },
    {
      "cell_type": "code",
      "source": [
        "\n",
        "\n",
        "\n",
        "\n",
        "\n",
        "# Apply FP-Growth Algorithm with Minimum Support 0.02\n",
        "frequent_itemsets_germany = fpgrowth(pivot_data_germany, min_support=0.02, use_colnames=True)\n",
        "\n",
        "# Extract Association Rules and Sort by Confidence\n",
        "rules_germany = association_rules(frequent_itemsets_germany, metric=\"confidence\", min_threshold=0.6)\n",
        "sorted_rules_germany = rules_germany.sort_values(by='confidence', ascending=False)\n",
        "\n",
        "# Get top 5 recommended items\n",
        "if not sorted_rules_germany.empty:\n",
        "    top_recommendations_germany = list(list(sorted_rules_germany['consequents'])[0])[:5]\n",
        "else:\n",
        "    top_recommendations_germany = []\n",
        "\n",
        "# Print the top 5 recommended items for '22492' in Germany with 0.02 support\n",
        "print(f\"Top 5 recommendations for '22492' in Germany with 0.02 support: {top_recommendations_germany}\")\n",
        "\n",
        "# Print the top 5 recommended items for '22492' in Germany with 0.02 support\n",
        "print(f\"Top 5 recommendations for '22492' in Germany with 0.02 support: {top_recommendations_germany}\")\n"
      ],
      "metadata": {
        "colab": {
          "base_uri": "https://localhost:8080/"
        },
        "id": "KUahdhNuM2g2",
        "outputId": "cd16d97b-d131-4689-8228-5aa63267797b"
      },
      "execution_count": 27,
      "outputs": [
        {
          "output_type": "stream",
          "name": "stdout",
          "text": [
            "Top 5 recommendations for '22492' in Germany with 0.02 support: [('22973', \"CHILDREN'S CIRCUS PARADE MUG\", 12)]\n",
            "Top 5 recommendations for '22492' in Germany with 0.02 support: [('22973', \"CHILDREN'S CIRCUS PARADE MUG\", 12)]\n"
          ]
        },
        {
          "output_type": "stream",
          "name": "stderr",
          "text": [
            "/usr/local/lib/python3.10/dist-packages/ipykernel/ipkernel.py:283: DeprecationWarning: `should_run_async` will not call `transform_cell` automatically in the future. Please pass the result to `transformed_cell` argument and any exception that happen during thetransform in `preprocessing_exc_tuple` in IPython 7.17 and above.\n",
            "  and should_run_async(code)\n",
            "/usr/local/lib/python3.10/dist-packages/mlxtend/frequent_patterns/fpcommon.py:110: DeprecationWarning: DataFrames with non-bool types result in worse computationalperformance and their support might be discontinued in the future.Please use a DataFrame with bool type\n",
            "  warnings.warn(\n"
          ]
        }
      ]
    },
    {
      "cell_type": "code",
      "source": [
        "print(pivot_data_germany.columns)"
      ],
      "metadata": {
        "colab": {
          "base_uri": "https://localhost:8080/"
        },
        "id": "KQNvQj61M2a6",
        "outputId": "0774fee1-5513-498e-87dd-cff81242b524"
      },
      "execution_count": 29,
      "outputs": [
        {
          "output_type": "stream",
          "name": "stdout",
          "text": [
            "MultiIndex([( '20712',          'JUMBO BAG WOODLAND ANIMALS',  10),\n",
            "            ( '21084',            'SET/6 COLLAGE PAPER CUPS',  12),\n",
            "            ( '21088',        'SET/6 FRUIT SALAD PAPER CUPS',  12),\n",
            "            ( '21096',     'SET/6 FRUIT SALAD  PAPER PLATES',  12),\n",
            "            ( '21394',                'RED POLKADOT BEAKER ',   6),\n",
            "            ( '21424',         'WOODLAND STORAGE BOX LARGE ',   6),\n",
            "            ( '22046',          'TEA PARTY  WRAPPING PAPER ',  25),\n",
            "            ( '22244',          '3 HOOK HANGER MAGIC GARDEN',  12),\n",
            "            ( '22344',      'PARTY PIZZA DISH PINK POLKADOT',  12),\n",
            "            ( '22346',     'PARTY PIZZA DISH GREEN POLKADOT',  12),\n",
            "            ( '22843',           'BISCUIT TIN VINTAGE GREEN',   2),\n",
            "            ( '22856',  'ASSORTED EASTER DECORATIONS  BELLS',  18),\n",
            "            ( '22934',  'BAKING MOULD EASTER EGG WHITE CHOC',  12),\n",
            "            ( '22973',        'CHILDREN'S CIRCUS PARADE MUG',  12),\n",
            "            ( '23158',         'SET OF 5 LUCKY CAT MAGNETS ', 120),\n",
            "            ( '23210',    'WHITE ROCKING HORSE HAND PAINTED',  24),\n",
            "            ( '23213',    'STAR WREATH DECORATION WITH BELL',  12),\n",
            "            ( '23219',         'LAUREL STAR ANTIQUE SILVER ',   1),\n",
            "            ( '23224',        'CHERUB HEART DECORATION GOLD',   1),\n",
            "            ( '23309', 'SET OF 60 I LOVE LONDON CAKE CASES ',   4),\n",
            "            ( '23319',         'BOX OF 6 MINI 50'S CRACKERS',  12),\n",
            "            ( '23375',       '50'S CHRISTMAS PAPER GIFT BAG',  10),\n",
            "            ( '23702',               'High Resolution Image',   1),\n",
            "            ('44242B',               'PINK FEATHERS CURTAIN',  20),\n",
            "            ('47351B',               'BLUE  VOILE LAMPSHADE',   6),\n",
            "            ( '47421', 'ASSORTED COLOUR LIZARD SUCTION HOOK',  24),\n",
            "            ('84569B',      'PACK 3 FIRE ENGINE/CAR PATCHES',  12),\n",
            "            ('84849D',               'HOT BATHS SOAP HOLDER',  12),\n",
            "            ( '84945',  'MULTI COLOUR SILVER T-LIGHT HOLDER',  12),\n",
            "            ('85205B',     'PINK FELT EASTER RABBIT GARLAND',  12),\n",
            "            ( '90098',    'NECKLACE+BRACELET PINK BUTTERFLY',   6)],\n",
            "           names=['StockCode', 'Description', 'Quantity'])\n"
          ]
        },
        {
          "output_type": "stream",
          "name": "stderr",
          "text": [
            "/usr/local/lib/python3.10/dist-packages/ipykernel/ipkernel.py:283: DeprecationWarning: `should_run_async` will not call `transform_cell` automatically in the future. Please pass the result to `transformed_cell` argument and any exception that happen during thetransform in `preprocessing_exc_tuple` in IPython 7.17 and above.\n",
            "  and should_run_async(code)\n"
          ]
        }
      ]
    },
    {
      "cell_type": "code",
      "source": [
        "# Create a new column indicating product presence\n",
        "data['Product_Presence'] = data['Quantity'].apply(lambda x: 1 if x > 0 else 0)\n",
        "\n",
        "# Pivot the data DataFrame with 'Invoice' as index, 'StockCode' as columns, and product presence as values\n",
        "pivot_data = data.pivot_table(index='Invoice', columns=['StockCode', 'Description', 'Quantity'], values='Product_Presence', fill_value=0)\n",
        "\n",
        "# Print the transformed DataFrame\n",
        "print(\"Transformed Data with Invoice, Description, Quantity, and Unique StockCode as Columns:\")\n",
        "print(pivot_data.head())\n"
      ],
      "metadata": {
        "colab": {
          "base_uri": "https://localhost:8080/"
        },
        "id": "Eu7wXxz6M2R9",
        "outputId": "406ff34b-2763-4b85-e375-26bffb761342"
      },
      "execution_count": 48,
      "outputs": [
        {
          "output_type": "stream",
          "name": "stderr",
          "text": [
            "/usr/local/lib/python3.10/dist-packages/ipykernel/ipkernel.py:283: DeprecationWarning: `should_run_async` will not call `transform_cell` automatically in the future. Please pass the result to `transformed_cell` argument and any exception that happen during thetransform in `preprocessing_exc_tuple` in IPython 7.17 and above.\n",
            "  and should_run_async(code)\n"
          ]
        },
        {
          "output_type": "stream",
          "name": "stdout",
          "text": [
            "Transformed Data with Invoice, Description, Quantity, and Unique StockCode as Columns:\n",
            "StockCode                         10002                    10080        10120  \\\n",
            "Description INFLATABLE POLITICAL GLOBE  GROOVY CACTUS INFLATABLE DOGGY RUBBER   \n",
            "Quantity                             48                       2            1    \n",
            "Invoice                                                                         \n",
            "536365                                0                        0            0   \n",
            "536366                                0                        0            0   \n",
            "536367                                0                        0            0   \n",
            "536368                                0                        0            0   \n",
            "536369                                0                        0            0   \n",
            "\n",
            "StockCode                  10123C                      10124A  \\\n",
            "Description HEARTS WRAPPING TAPE  SPOTS ON RED BOOKCOVER TAPE   \n",
            "Quantity                       1                           4    \n",
            "Invoice                                                         \n",
            "536365                          0                           0   \n",
            "536366                          0                           0   \n",
            "536367                          0                           0   \n",
            "536368                          0                           0   \n",
            "536369                          0                           0   \n",
            "\n",
            "StockCode                     10124G                   10125  \\\n",
            "Description ARMY CAMO BOOKCOVER TAPE MINI FUNKY DESIGN TAPES   \n",
            "Quantity                          5                       2    \n",
            "Invoice                                                        \n",
            "536365                             0                       0   \n",
            "536366                             0                       0   \n",
            "536367                             0                       0   \n",
            "536368                             0                       0   \n",
            "536369                             0                       0   \n",
            "\n",
            "StockCode                         11001            15030  \\\n",
            "Description ASSTD DESIGN RACING CAR PEN FAN BLACK FRAME    \n",
            "Quantity                             3                5    \n",
            "Invoice                                                    \n",
            "536365                                0                0   \n",
            "536366                                0                0   \n",
            "536367                                0                0   \n",
            "536368                                0                0   \n",
            "536369                                0                0   \n",
            "\n",
            "StockCode                         15034  ...                     DCGS0076  \\\n",
            "Description PAPER POCKET TRAVELING FAN   ... SUNJAR LED NIGHT NIGHT LIGHT   \n",
            "Quantity                             1   ...                           1    \n",
            "Invoice                                  ...                                \n",
            "536365                                0  ...                            0   \n",
            "536366                                0  ...                            0   \n",
            "536367                                0  ...                            0   \n",
            "536368                                0  ...                            0   \n",
            "536369                                0  ...                            0   \n",
            "\n",
            "StockCode         DCGSSBOY       DCGSSGIRL            DOT  \\\n",
            "Description BOYS PARTY BAG GIRLS PARTY BAG DOTCOM POSTAGE   \n",
            "Quantity                1               3              1    \n",
            "Invoice                                                     \n",
            "536365                   0               0              0   \n",
            "536366                   0               0              0   \n",
            "536367                   0               0              0   \n",
            "536368                   0               0              0   \n",
            "536369                   0               0              0   \n",
            "\n",
            "StockCode                         PADS       S  \\\n",
            "Description PADS TO MATCH ALL CUSHIONS SAMPLES   \n",
            "Quantity                            1       1    \n",
            "Invoice                                          \n",
            "536365                               0       0   \n",
            "536366                               0       0   \n",
            "536367                               0       0   \n",
            "536368                               0       0   \n",
            "536369                               0       0   \n",
            "\n",
            "StockCode                         gift_0001_10  \\\n",
            "Description Dotcomgiftshop Gift Voucher £10.00   \n",
            "Quantity                                    1    \n",
            "Invoice                                          \n",
            "536365                                       0   \n",
            "536366                                       0   \n",
            "536367                                       0   \n",
            "536368                                       0   \n",
            "536369                                       0   \n",
            "\n",
            "StockCode                         gift_0001_30  \\\n",
            "Description Dotcomgiftshop Gift Voucher £30.00   \n",
            "Quantity                                    1    \n",
            "Invoice                                          \n",
            "536365                                       0   \n",
            "536366                                       0   \n",
            "536367                                       0   \n",
            "536368                                       0   \n",
            "536369                                       0   \n",
            "\n",
            "StockCode                         gift_0001_40  \\\n",
            "Description Dotcomgiftshop Gift Voucher £40.00   \n",
            "Quantity                                    1    \n",
            "Invoice                                          \n",
            "536365                                       0   \n",
            "536366                                       0   \n",
            "536367                                       0   \n",
            "536368                                       0   \n",
            "536369                                       0   \n",
            "\n",
            "StockCode                         gift_0001_50  \n",
            "Description Dotcomgiftshop Gift Voucher £50.00  \n",
            "Quantity                                    1   \n",
            "Invoice                                         \n",
            "536365                                       0  \n",
            "536366                                       0  \n",
            "536367                                       0  \n",
            "536368                                       0  \n",
            "536369                                       0  \n",
            "\n",
            "[5 rows x 3445 columns]\n"
          ]
        }
      ]
    },
    {
      "cell_type": "code",
      "source": [
        "print(pivot_data.columns)"
      ],
      "metadata": {
        "colab": {
          "base_uri": "https://localhost:8080/"
        },
        "id": "GZyDRrQwM2Pi",
        "outputId": "db94b349-d911-4b49-a403-15cb406877cf"
      },
      "execution_count": 49,
      "outputs": [
        {
          "output_type": "stream",
          "name": "stdout",
          "text": [
            "MultiIndex([(       '10002',        'INFLATABLE POLITICAL GLOBE ', 48),\n",
            "            (       '10080',           'GROOVY CACTUS INFLATABLE',  2),\n",
            "            (       '10120',                       'DOGGY RUBBER',  1),\n",
            "            (      '10123C',              'HEARTS WRAPPING TAPE ',  1),\n",
            "            (      '10124A',        'SPOTS ON RED BOOKCOVER TAPE',  4),\n",
            "            (      '10124G',           'ARMY CAMO BOOKCOVER TAPE',  5),\n",
            "            (       '10125',            'MINI FUNKY DESIGN TAPES',  2),\n",
            "            (       '11001',        'ASSTD DESIGN RACING CAR PEN',  3),\n",
            "            (       '15030',                   'FAN BLACK FRAME ',  5),\n",
            "            (       '15034',        'PAPER POCKET TRAVELING FAN ',  1),\n",
            "            ...\n",
            "            (    'DCGS0076',       'SUNJAR LED NIGHT NIGHT LIGHT',  1),\n",
            "            (    'DCGSSBOY',                     'BOYS PARTY BAG',  1),\n",
            "            (   'DCGSSGIRL',                    'GIRLS PARTY BAG',  3),\n",
            "            (         'DOT',                     'DOTCOM POSTAGE',  1),\n",
            "            (        'PADS',         'PADS TO MATCH ALL CUSHIONS',  1),\n",
            "            (           'S',                            'SAMPLES',  1),\n",
            "            ('gift_0001_10', 'Dotcomgiftshop Gift Voucher £10.00',  1),\n",
            "            ('gift_0001_30', 'Dotcomgiftshop Gift Voucher £30.00',  1),\n",
            "            ('gift_0001_40', 'Dotcomgiftshop Gift Voucher £40.00',  1),\n",
            "            ('gift_0001_50', 'Dotcomgiftshop Gift Voucher £50.00',  1)],\n",
            "           names=['StockCode', 'Description', 'Quantity'], length=3445)\n"
          ]
        },
        {
          "output_type": "stream",
          "name": "stderr",
          "text": [
            "/usr/local/lib/python3.10/dist-packages/ipykernel/ipkernel.py:283: DeprecationWarning: `should_run_async` will not call `transform_cell` automatically in the future. Please pass the result to `transformed_cell` argument and any exception that happen during thetransform in `preprocessing_exc_tuple` in IPython 7.17 and above.\n",
            "  and should_run_async(code)\n"
          ]
        }
      ]
    },
    {
      "cell_type": "code",
      "source": [],
      "metadata": {
        "colab": {
          "base_uri": "https://localhost:8080/"
        },
        "id": "sn8bsLW0M2HZ",
        "outputId": "c1a5671b-4cd2-49b0-f193-145b5173b0a2"
      },
      "execution_count": 52,
      "outputs": [
        {
          "output_type": "stream",
          "name": "stdout",
          "text": [
            "Quantity for StockCode 22993 and Description 'SET OF 4 PANTRY JELLY MOULDS': 12\n"
          ]
        },
        {
          "output_type": "stream",
          "name": "stderr",
          "text": [
            "/usr/local/lib/python3.10/dist-packages/ipykernel/ipkernel.py:283: DeprecationWarning: `should_run_async` will not call `transform_cell` automatically in the future. Please pass the result to `transformed_cell` argument and any exception that happen during thetransform in `preprocessing_exc_tuple` in IPython 7.17 and above.\n",
            "  and should_run_async(code)\n"
          ]
        }
      ]
    },
    {
      "cell_type": "code",
      "source": [
        "products = [\n",
        "    ('22993', 'SET OF 4 PANTRY JELLY MOULDS', 12),\n",
        "    ('22244', '3 HOOK HANGER MAGIC GARDEN', 12),\n",
        "    ('22907', 'PACK OF 20 NAPKINS PANTRY DESIGN', 1),\n",
        "]\n",
        "\n",
        "# Iterate through products and display StockCode and Quantity for each description\n",
        "for product in products:\n",
        "    stock_code, description, quantity = product\n",
        "    filtered_rows = data[(data['Description'] == description) & (data['StockCode'] == stock_code) & (data['Quantity'] == quantity)]\n",
        "    if not filtered_rows.empty:\n",
        "        print(f\"StockCode: {stock_code}, Description: {description}, Quantity: {quantity}\")\n",
        "        print(filtered_rows[['StockCode', 'Quantity']])\n",
        "    else:\n",
        "        print(f\"No matching rows found for StockCode: {stock_code}, Description: {description}, Quantity: {quantity}\")\n"
      ],
      "metadata": {
        "colab": {
          "base_uri": "https://localhost:8080/"
        },
        "id": "90nDRBZ5M2C2",
        "outputId": "fa842c1a-d452-4bfe-ebad-e9fd1a1054b1"
      },
      "execution_count": 53,
      "outputs": [
        {
          "output_type": "stream",
          "name": "stdout",
          "text": [
            "StockCode: 22993, Description: SET OF 4 PANTRY JELLY MOULDS, Quantity: 12\n",
            "      StockCode  Quantity\n",
            "92216     22993        12\n",
            "StockCode: 22244, Description: 3 HOOK HANGER MAGIC GARDEN, Quantity: 12\n",
            "     StockCode  Quantity\n",
            "1113     22244        12\n",
            "StockCode: 22907, Description: PACK OF 20 NAPKINS PANTRY DESIGN, Quantity: 1\n",
            "     StockCode  Quantity\n",
            "1026     22907         1\n"
          ]
        },
        {
          "output_type": "stream",
          "name": "stderr",
          "text": [
            "/usr/local/lib/python3.10/dist-packages/ipykernel/ipkernel.py:283: DeprecationWarning: `should_run_async` will not call `transform_cell` automatically in the future. Please pass the result to `transformed_cell` argument and any exception that happen during thetransform in `preprocessing_exc_tuple` in IPython 7.17 and above.\n",
            "  and should_run_async(code)\n"
          ]
        }
      ]
    }
  ]
}