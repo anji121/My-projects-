{
  "cells": [
    {
      "cell_type": "markdown",
      "source": [],
      "metadata": {
        "id": "1UZFkm8Y8x9I"
      }
    },
    {
      "cell_type": "markdown",
      "source": [
        "This is the code for \"Go fish \" a famous Americian children game ,well the rules are slightly changed , going in detail of the rules\n",
        "# RULES OF THE GAME \n",
        "1.   Two players can play here according to the code , they gonna grab 7 cards\n",
        "2.   One have to match the pair of cards irrespective of suits and color.\n",
        "3.   No bonous turn is given for a match ,the turen is equally rotated \n",
        "4.   One can ask the card he is not having at his own risk .\n",
        "5.   The game ends when one run out of cards ,or the central deck is no more \n",
        "6.   ******  No more rules ......letsss goo and play ******\n",
        "\n",
        "\n",
        "\n",
        "\n",
        "#Data Structures And Function implementation \n",
        "1. stacks using list is used for the players hand \n",
        "2. queue is ensured for central deck . \n",
        "3. Pairs_check() is the function which is going to check pairs ,score them    and pop from the stack \n",
        "\n",
        "#variables \n",
        "\n",
        "1. c = own set of cards\n",
        "\n",
        "2. Team1= list represent player 1\n",
        "\n",
        "3. Team2= list represent player 2\n",
        "\n",
        "4. d= central deck declared as dequeue\n",
        "\n",
        "5. score = keeps count on initial pairs\n",
        "\n",
        "6. Team1_removed_pairs =keeps track of matched pairs for player 1\n",
        "\n",
        "7. Team2_removed_pairs = keeps track of matched pairs for player 2\n",
        "\n",
        "8. b= tracks poped card from queue"
      ],
      "metadata": {
        "id": "RM7B0eh08xi4"
      }
    },
    {
      "cell_type": "code",
      "source": [
        "import random\n",
        "from collections import deque #importing collections to implement dequeue ,which is used to represent central deck of cards \n",
        "\n",
        "# Initialization of regular set of cards contatining  1 to 13 cards \n",
        "c = ['1', '2', '3', '4', '5', '6', '7', '8', '9', '10', '11', '12', '13'] * 4  \n",
        "random.shuffle(c) # the shuffling is random to avoid sequences  \n",
        "\n",
        "# Initialize players' stacks\n",
        "Team1 = [] # both teams cards are implemented using \"stack using list \" data structure \n",
        "Team2 = []\n",
        "\n",
        "# Deal cards to the teams.\n",
        "for i in range(7):\n",
        "    Team1.append(c.pop())\n",
        "    Team2.append(c.pop())\n",
        "\n",
        "# Initialize central deck as a queue\n",
        "d = deque(c)\n",
        "\n",
        "# Helper function to check if a player has any pairs and add to his score if any.\n",
        "def pairs_check(s):\n",
        "    score = 0\n",
        "    for c in s:\n",
        "        if s.count(c) == 2:\n",
        "            print(\"removing the pair  from team \",(c,c))\n",
        "            s.remove(c)\n",
        "            s.remove(c)\n",
        "            score += 1\n",
        "    return score\n",
        "\n",
        "# Remove any initial pairs\n",
        "\n",
        "print(\"TEAM 1 initial score ....\",pairs_check(Team1))\n",
        "print(\"TEAM 2 initial score ....\",pairs_check(Team2))\n",
        "\n",
        "# Count pairs popped by each player\n",
        "Team1_removed_pairs = 0\n",
        "Team2_removed_pairs = 0\n",
        "\n",
        "# Main game loop\n",
        "while len(d) > 0 or len(Team1) == 0 or len(Team2) == 0:\n",
        "    print(\"Team 1's stack:\", Team1)\n",
        "    print(\"Team 2's stack:\", Team2)\n",
        "\n",
        "    # Player 1's turn\n",
        "    print(\"Team 1's turn\")\n",
        "    if len(Team1) == 0:\n",
        "        break\n",
        "    c = input(\"Which card  you want to grab from me , my friend ? \")\n",
        "    if c in Team2:\n",
        "        Team1.append(c)\n",
        "        Team2.remove(c)\n",
        "        print(\"Team1 got a Match!\")\n",
        "        Team1_removed_pairs += 1   #keep count on poped pairs\n",
        "        pairs_check(Team1)\n",
        "    else:\n",
        "        print(\" nah , I dont have any !! Gooo fishh!\")\n",
        "        if len(d) > 0:\n",
        "            b=d.popleft()\n",
        "            print(\"card added to stack of team 1 from deck \",b)\n",
        "            Team1.append(b)\n",
        "            pairs_check(Team1)\n",
        "        else:\n",
        "            print(\"no more cards left the Deck is empty!\")\n",
        "\n",
        "    # Player 2's turn , the lines from here allows the player to ask for card ,\n",
        "    #if found a match and scores up else draw from  deck add to end of list which is stack \n",
        "    print(\"Team 2's turn\")\n",
        "    if len(Team2) == 0:\n",
        "        break\n",
        "    c = input(\"Which card you want to grab from me , my friend ? \")\n",
        "    if c in Team1:\n",
        "        Team2.append(c)\n",
        "        Team1.remove(c)\n",
        "        print(\"Team2 got a Match!\")\n",
        "        Team2_removed_pairs += 1\n",
        "        pairs_check(Team2)\n",
        "    else:\n",
        "        print(\"Go fish!\")\n",
        "        if len(d) > 0:\n",
        "            b=d.popleft()\n",
        "            print(\"card added to stack of team 2 from deck \",\n",
        "            Team2.append(b)\n",
        "            pairs_check(Team2)\n",
        "        else:\n",
        "            print(\"Central Deck is empty!\")\n",
        "#Here we go winning condition . the whole pair count is ,pairs in the list ,along with popped pairs ,\n",
        "#then compare ,show off the winner when one ran empty\n",
        "# Determine winner based on number of pairs\n",
        "pairs_team1 = pairs_check(Team1) + Team1_removed_pairs\n",
        "pairs_team2 = pairs_check(Team2) + Team2_removed_pairs\n",
        "print(\"Team1 has\", pairs_team1, \"number of matching pairs\")\n",
        "print(\"Team2 has\", pairs_team2, \"number of matching pairs\")\n",
        "if pairs_team1 > pairs_team2:\n",
        "    print(\"Hurray !! Team1 wins!\")\n",
        "elif pairs_team2 > pairs_team1:\n",
        "    print(\"Hurray !! Team2 wins!\")\n",
        "else:\n",
        "    print(\"It's a draw!\")\n",
        "if len(Team1) == 0:\n",
        "    print(\"Team1 is out of cards. \")\n",
        "elif len(Team2) == 0:\n",
        "    print(\"Team2 is out of cards. \")\n"
      ],
      "metadata": {
        "colab": {
          "base_uri": "https://localhost:8080/",
          "height": 514
        },
        "id": "vTCPyUAkISxU",
        "outputId": "bce8f098-1cc6-49d2-936b-291c4a20f0d9"
      },
      "execution_count": 17,
      "outputs": [
        {
          "output_type": "stream",
          "name": "stdout",
          "text": [
            "removing the pair  from team  ('6', '6')\n",
            "TEAM 1 initial score .... 1\n",
            "removing the pair  from team  ('8', '8')\n",
            "TEAM 2 initial score .... 1\n",
            "Team 1's stack: ['2', '8', '5', '13', '7']\n",
            "Team 2's stack: ['7', '10', '1', '12', '3']\n",
            "Team 1's turn\n"
          ]
        },
        {
          "output_type": "error",
          "ename": "KeyboardInterrupt",
          "evalue": "ignored",
          "traceback": [
            "\u001b[0;31m---------------------------------------------------------------------------\u001b[0m",
            "\u001b[0;31mKeyboardInterrupt\u001b[0m                         Traceback (most recent call last)",
            "\u001b[0;32m<ipython-input-17-838147d50bd7>\u001b[0m in \u001b[0;36m<cell line: 41>\u001b[0;34m()\u001b[0m\n\u001b[1;32m     47\u001b[0m     \u001b[0;32mif\u001b[0m \u001b[0mlen\u001b[0m\u001b[0;34m(\u001b[0m\u001b[0mTeam1\u001b[0m\u001b[0;34m)\u001b[0m \u001b[0;34m==\u001b[0m \u001b[0;36m0\u001b[0m\u001b[0;34m:\u001b[0m\u001b[0;34m\u001b[0m\u001b[0;34m\u001b[0m\u001b[0m\n\u001b[1;32m     48\u001b[0m         \u001b[0;32mbreak\u001b[0m\u001b[0;34m\u001b[0m\u001b[0;34m\u001b[0m\u001b[0m\n\u001b[0;32m---> 49\u001b[0;31m     \u001b[0mc\u001b[0m \u001b[0;34m=\u001b[0m \u001b[0minput\u001b[0m\u001b[0;34m(\u001b[0m\u001b[0;34m\"Which card  you want to grab from me , my friend ? \"\u001b[0m\u001b[0;34m)\u001b[0m\u001b[0;34m\u001b[0m\u001b[0;34m\u001b[0m\u001b[0m\n\u001b[0m\u001b[1;32m     50\u001b[0m     \u001b[0;32mif\u001b[0m \u001b[0mc\u001b[0m \u001b[0;32min\u001b[0m \u001b[0mTeam2\u001b[0m\u001b[0;34m:\u001b[0m\u001b[0;34m\u001b[0m\u001b[0;34m\u001b[0m\u001b[0m\n\u001b[1;32m     51\u001b[0m         \u001b[0mTeam1\u001b[0m\u001b[0;34m.\u001b[0m\u001b[0mappend\u001b[0m\u001b[0;34m(\u001b[0m\u001b[0mc\u001b[0m\u001b[0;34m)\u001b[0m\u001b[0;34m\u001b[0m\u001b[0;34m\u001b[0m\u001b[0m\n",
            "\u001b[0;32m/usr/local/lib/python3.9/dist-packages/ipykernel/kernelbase.py\u001b[0m in \u001b[0;36mraw_input\u001b[0;34m(self, prompt)\u001b[0m\n\u001b[1;32m    849\u001b[0m                 \u001b[0;34m\"raw_input was called, but this frontend does not support input requests.\"\u001b[0m\u001b[0;34m\u001b[0m\u001b[0;34m\u001b[0m\u001b[0m\n\u001b[1;32m    850\u001b[0m             )\n\u001b[0;32m--> 851\u001b[0;31m         return self._input_request(str(prompt),\n\u001b[0m\u001b[1;32m    852\u001b[0m             \u001b[0mself\u001b[0m\u001b[0;34m.\u001b[0m\u001b[0m_parent_ident\u001b[0m\u001b[0;34m,\u001b[0m\u001b[0;34m\u001b[0m\u001b[0;34m\u001b[0m\u001b[0m\n\u001b[1;32m    853\u001b[0m             \u001b[0mself\u001b[0m\u001b[0;34m.\u001b[0m\u001b[0m_parent_header\u001b[0m\u001b[0;34m,\u001b[0m\u001b[0;34m\u001b[0m\u001b[0;34m\u001b[0m\u001b[0m\n",
            "\u001b[0;32m/usr/local/lib/python3.9/dist-packages/ipykernel/kernelbase.py\u001b[0m in \u001b[0;36m_input_request\u001b[0;34m(self, prompt, ident, parent, password)\u001b[0m\n\u001b[1;32m    893\u001b[0m             \u001b[0;32mexcept\u001b[0m \u001b[0mKeyboardInterrupt\u001b[0m\u001b[0;34m:\u001b[0m\u001b[0;34m\u001b[0m\u001b[0;34m\u001b[0m\u001b[0m\n\u001b[1;32m    894\u001b[0m                 \u001b[0;31m# re-raise KeyboardInterrupt, to truncate traceback\u001b[0m\u001b[0;34m\u001b[0m\u001b[0;34m\u001b[0m\u001b[0m\n\u001b[0;32m--> 895\u001b[0;31m                 \u001b[0;32mraise\u001b[0m \u001b[0mKeyboardInterrupt\u001b[0m\u001b[0;34m(\u001b[0m\u001b[0;34m\"Interrupted by user\"\u001b[0m\u001b[0;34m)\u001b[0m \u001b[0;32mfrom\u001b[0m \u001b[0;32mNone\u001b[0m\u001b[0;34m\u001b[0m\u001b[0;34m\u001b[0m\u001b[0m\n\u001b[0m\u001b[1;32m    896\u001b[0m             \u001b[0;32mexcept\u001b[0m \u001b[0mException\u001b[0m \u001b[0;32mas\u001b[0m \u001b[0me\u001b[0m\u001b[0;34m:\u001b[0m\u001b[0;34m\u001b[0m\u001b[0;34m\u001b[0m\u001b[0m\n\u001b[1;32m    897\u001b[0m                 \u001b[0mself\u001b[0m\u001b[0;34m.\u001b[0m\u001b[0mlog\u001b[0m\u001b[0;34m.\u001b[0m\u001b[0mwarning\u001b[0m\u001b[0;34m(\u001b[0m\u001b[0;34m\"Invalid Message:\"\u001b[0m\u001b[0;34m,\u001b[0m \u001b[0mexc_info\u001b[0m\u001b[0;34m=\u001b[0m\u001b[0;32mTrue\u001b[0m\u001b[0;34m)\u001b[0m\u001b[0;34m\u001b[0m\u001b[0;34m\u001b[0m\u001b[0m\n",
            "\u001b[0;31mKeyboardInterrupt\u001b[0m: Interrupted by user"
          ]
        }
      ]
    },
    {
      "cell_type": "markdown",
      "source": [],
      "metadata": {
        "id": "mexG8eEH8uf2"
      }
    },
    {
      "cell_type": "markdown",
      "source": [],
      "metadata": {
        "id": "pMb-s1cU8wOH"
      }
    }
  ],
  "metadata": {
    "colab": {
      "provenance": []
    },
    "kernelspec": {
      "display_name": "Python 3",
      "name": "python3"
    },
    "language_info": {
      "name": "python"
    }
  },
  "nbformat": 4,
  "nbformat_minor": 0
}