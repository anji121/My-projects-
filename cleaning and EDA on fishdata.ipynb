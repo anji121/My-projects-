{
  "cells": [
    {
      "cell_type": "markdown",
      "id": "8220b483",
      "metadata": {
        "id": "8220b483"
      },
      "source": [
        "## INSTRUCTIONS \n",
        "\n",
        "Every learner should submit his/her own homework solutions. However, you are allowed to discuss the homework with each other– but everyone must submit his/her own solution; you may not copy someone else’s solution. \n",
        "\n",
        "The homework consists of one part:\n",
        "1. \tExploratory Data Analysis\n",
        "\n",
        "Follow the prompts in the attached jupyter notebook. Download the data and place it in your working directory, or modify the path to upload it to your notebook. Add markdown cells to your analysis to include your solutions, comments, answers. $\\color{red}{\\text{Add as many cells as you need}}$, for easy readability comment when possible.\n",
        "Hopefully this homework will help you develop skills, makes you understand the flow of an EDA and get you ready for individual work.\n",
        "\n",
        "**Submission: Send in both a ipynb and a html file of your work.** \n",
        "\n",
        "Good luck!"
      ]
    },
    {
      "cell_type": "markdown",
      "id": "ccdcaabd",
      "metadata": {
        "id": "ccdcaabd"
      },
      "source": [
        "# Exploratory Data Analysis (EDA) "
      ]
    },
    {
      "cell_type": "markdown",
      "id": "ed27c716",
      "metadata": {
        "id": "ed27c716"
      },
      "source": [
        "Exploratory Data Analysis refers to the critical process of performing initial investigations on data so as to discover patterns,to spot anomalies,to test hypothesis and to check assumptions with the help of summary statistics and graphical representations.\n",
        "\n",
        "This homework basically asks you to replicate the excersize posted on canvas for the iris dataset. Read the slides and check the code in the Iris_EDA.html file.The most important thing is to give some explanation every step of the way. You can only get full credit for the homework if we see your answers (spitting out code is not enough). \n",
        "\n",
        "***Steps in EDA***:\n",
        "1. Provide descriptions of your sample and features\n",
        "2. Check for missing data\n",
        "3. Identify the shape of your data\n",
        "4. Identify significant correlations\n",
        "5. Spot/deal with outliers in the dataset\n",
        "\n",
        "These steps are a guidline. Play with graphs\n",
        "\n",
        "$\\color{red}{\\text{Don't forget to add \"markdown\" cells to include your findings or to explain what you are doing}}$\n"
      ]
    },
    {
      "cell_type": "code",
      "execution_count": 19,
      "id": "8628555e",
      "metadata": {
        "id": "8628555e"
      },
      "outputs": [],
      "source": [
        "# importing packages\n",
        "import numpy as np\n",
        "from sklearn.datasets import load_iris\n",
        "from sklearn import preprocessing\n",
        "import pandas as pd\n",
        "import seaborn as sns\n",
        "import matplotlib.pyplot as plt\n",
        "%matplotlib inline"
      ]
    },
    {
      "cell_type": "code",
      "execution_count": 20,
      "id": "4cd2c4f9",
      "metadata": {
        "id": "4cd2c4f9",
        "colab": {
          "base_uri": "https://localhost:8080/",
          "height": 206
        },
        "outputId": "1368dcb9-deda-489a-ed00-5fe43c78ba00"
      },
      "outputs": [
        {
          "output_type": "execute_result",
          "data": {
            "text/plain": [
              "  Species  Weight  Length1  Length2  Length3   Height   Width\n",
              "0   Bream   242.0     23.2     25.4     30.0  11.5200  4.0200\n",
              "1   Bream   290.0     24.0     26.3     31.2  12.4800  4.3056\n",
              "2   Bream   340.0     23.9     26.5     31.1  12.3778  4.6961\n",
              "3   Bream   363.0     26.3     29.0     33.5  12.7300  4.4555\n",
              "4   Bream   430.0     26.5     29.0     34.0  12.4440  5.1340"
            ],
            "text/html": [
              "\n",
              "  <div id=\"df-bc36c763-2d20-4c4a-9cf5-07bf3afc9dee\">\n",
              "    <div class=\"colab-df-container\">\n",
              "      <div>\n",
              "<style scoped>\n",
              "    .dataframe tbody tr th:only-of-type {\n",
              "        vertical-align: middle;\n",
              "    }\n",
              "\n",
              "    .dataframe tbody tr th {\n",
              "        vertical-align: top;\n",
              "    }\n",
              "\n",
              "    .dataframe thead th {\n",
              "        text-align: right;\n",
              "    }\n",
              "</style>\n",
              "<table border=\"1\" class=\"dataframe\">\n",
              "  <thead>\n",
              "    <tr style=\"text-align: right;\">\n",
              "      <th></th>\n",
              "      <th>Species</th>\n",
              "      <th>Weight</th>\n",
              "      <th>Length1</th>\n",
              "      <th>Length2</th>\n",
              "      <th>Length3</th>\n",
              "      <th>Height</th>\n",
              "      <th>Width</th>\n",
              "    </tr>\n",
              "  </thead>\n",
              "  <tbody>\n",
              "    <tr>\n",
              "      <th>0</th>\n",
              "      <td>Bream</td>\n",
              "      <td>242.0</td>\n",
              "      <td>23.2</td>\n",
              "      <td>25.4</td>\n",
              "      <td>30.0</td>\n",
              "      <td>11.5200</td>\n",
              "      <td>4.0200</td>\n",
              "    </tr>\n",
              "    <tr>\n",
              "      <th>1</th>\n",
              "      <td>Bream</td>\n",
              "      <td>290.0</td>\n",
              "      <td>24.0</td>\n",
              "      <td>26.3</td>\n",
              "      <td>31.2</td>\n",
              "      <td>12.4800</td>\n",
              "      <td>4.3056</td>\n",
              "    </tr>\n",
              "    <tr>\n",
              "      <th>2</th>\n",
              "      <td>Bream</td>\n",
              "      <td>340.0</td>\n",
              "      <td>23.9</td>\n",
              "      <td>26.5</td>\n",
              "      <td>31.1</td>\n",
              "      <td>12.3778</td>\n",
              "      <td>4.6961</td>\n",
              "    </tr>\n",
              "    <tr>\n",
              "      <th>3</th>\n",
              "      <td>Bream</td>\n",
              "      <td>363.0</td>\n",
              "      <td>26.3</td>\n",
              "      <td>29.0</td>\n",
              "      <td>33.5</td>\n",
              "      <td>12.7300</td>\n",
              "      <td>4.4555</td>\n",
              "    </tr>\n",
              "    <tr>\n",
              "      <th>4</th>\n",
              "      <td>Bream</td>\n",
              "      <td>430.0</td>\n",
              "      <td>26.5</td>\n",
              "      <td>29.0</td>\n",
              "      <td>34.0</td>\n",
              "      <td>12.4440</td>\n",
              "      <td>5.1340</td>\n",
              "    </tr>\n",
              "  </tbody>\n",
              "</table>\n",
              "</div>\n",
              "      <button class=\"colab-df-convert\" onclick=\"convertToInteractive('df-bc36c763-2d20-4c4a-9cf5-07bf3afc9dee')\"\n",
              "              title=\"Convert this dataframe to an interactive table.\"\n",
              "              style=\"display:none;\">\n",
              "        \n",
              "  <svg xmlns=\"http://www.w3.org/2000/svg\" height=\"24px\"viewBox=\"0 0 24 24\"\n",
              "       width=\"24px\">\n",
              "    <path d=\"M0 0h24v24H0V0z\" fill=\"none\"/>\n",
              "    <path d=\"M18.56 5.44l.94 2.06.94-2.06 2.06-.94-2.06-.94-.94-2.06-.94 2.06-2.06.94zm-11 1L8.5 8.5l.94-2.06 2.06-.94-2.06-.94L8.5 2.5l-.94 2.06-2.06.94zm10 10l.94 2.06.94-2.06 2.06-.94-2.06-.94-.94-2.06-.94 2.06-2.06.94z\"/><path d=\"M17.41 7.96l-1.37-1.37c-.4-.4-.92-.59-1.43-.59-.52 0-1.04.2-1.43.59L10.3 9.45l-7.72 7.72c-.78.78-.78 2.05 0 2.83L4 21.41c.39.39.9.59 1.41.59.51 0 1.02-.2 1.41-.59l7.78-7.78 2.81-2.81c.8-.78.8-2.07 0-2.86zM5.41 20L4 18.59l7.72-7.72 1.47 1.35L5.41 20z\"/>\n",
              "  </svg>\n",
              "      </button>\n",
              "      \n",
              "  <style>\n",
              "    .colab-df-container {\n",
              "      display:flex;\n",
              "      flex-wrap:wrap;\n",
              "      gap: 12px;\n",
              "    }\n",
              "\n",
              "    .colab-df-convert {\n",
              "      background-color: #E8F0FE;\n",
              "      border: none;\n",
              "      border-radius: 50%;\n",
              "      cursor: pointer;\n",
              "      display: none;\n",
              "      fill: #1967D2;\n",
              "      height: 32px;\n",
              "      padding: 0 0 0 0;\n",
              "      width: 32px;\n",
              "    }\n",
              "\n",
              "    .colab-df-convert:hover {\n",
              "      background-color: #E2EBFA;\n",
              "      box-shadow: 0px 1px 2px rgba(60, 64, 67, 0.3), 0px 1px 3px 1px rgba(60, 64, 67, 0.15);\n",
              "      fill: #174EA6;\n",
              "    }\n",
              "\n",
              "    [theme=dark] .colab-df-convert {\n",
              "      background-color: #3B4455;\n",
              "      fill: #D2E3FC;\n",
              "    }\n",
              "\n",
              "    [theme=dark] .colab-df-convert:hover {\n",
              "      background-color: #434B5C;\n",
              "      box-shadow: 0px 1px 3px 1px rgba(0, 0, 0, 0.15);\n",
              "      filter: drop-shadow(0px 1px 2px rgba(0, 0, 0, 0.3));\n",
              "      fill: #FFFFFF;\n",
              "    }\n",
              "  </style>\n",
              "\n",
              "      <script>\n",
              "        const buttonEl =\n",
              "          document.querySelector('#df-bc36c763-2d20-4c4a-9cf5-07bf3afc9dee button.colab-df-convert');\n",
              "        buttonEl.style.display =\n",
              "          google.colab.kernel.accessAllowed ? 'block' : 'none';\n",
              "\n",
              "        async function convertToInteractive(key) {\n",
              "          const element = document.querySelector('#df-bc36c763-2d20-4c4a-9cf5-07bf3afc9dee');\n",
              "          const dataTable =\n",
              "            await google.colab.kernel.invokeFunction('convertToInteractive',\n",
              "                                                     [key], {});\n",
              "          if (!dataTable) return;\n",
              "\n",
              "          const docLinkHtml = 'Like what you see? Visit the ' +\n",
              "            '<a target=\"_blank\" href=https://colab.research.google.com/notebooks/data_table.ipynb>data table notebook</a>'\n",
              "            + ' to learn more about interactive tables.';\n",
              "          element.innerHTML = '';\n",
              "          dataTable['output_type'] = 'display_data';\n",
              "          await google.colab.output.renderOutput(dataTable, element);\n",
              "          const docLink = document.createElement('div');\n",
              "          docLink.innerHTML = docLinkHtml;\n",
              "          element.appendChild(docLink);\n",
              "        }\n",
              "      </script>\n",
              "    </div>\n",
              "  </div>\n",
              "  "
            ]
          },
          "metadata": {},
          "execution_count": 20
        }
      ],
      "source": [
        "# Reading the CSV file\n",
        "df_fish = pd.read_csv(\"/content/Fish.csv\")\n",
        " \n",
        "# Printing top 5 rows\n",
        "df_fish.head()"
      ]
    },
    {
      "cell_type": "markdown",
      "id": "dd757524",
      "metadata": {
        "id": "dd757524"
      },
      "source": [
        "### 1. Provide descriptions of your sample and features"
      ]
    },
    {
      "cell_type": "code",
      "execution_count": 21,
      "id": "6538b255",
      "metadata": {
        "id": "6538b255",
        "colab": {
          "base_uri": "https://localhost:8080/"
        },
        "outputId": "a7bd03b6-a3d3-49a3-e114-74a7de8b947d"
      },
      "outputs": [
        {
          "output_type": "execute_result",
          "data": {
            "text/plain": [
              "Species     object\n",
              "Weight     float64\n",
              "Length1    float64\n",
              "Length2    float64\n",
              "Length3    float64\n",
              "Height     float64\n",
              "Width      float64\n",
              "dtype: object"
            ]
          },
          "metadata": {},
          "execution_count": 21
        }
      ],
      "source": [
        "#Getting insights about the dataset\n",
        "#command to check datatypes of each column in fish dataset\n",
        "df_fish.dtypes"
      ]
    },
    {
      "cell_type": "markdown",
      "id": "2e521e51",
      "metadata": {
        "id": "2e521e51"
      },
      "source": [
        "\n",
        "<font color='red' size=\"4\"><strong>Your Answer:</font></strong>\n"
      ]
    },
    {
      "cell_type": "markdown",
      "source": [
        "\n",
        "***Note : All the definations of length1, lenght2, lenght3 attributes are described in one of the  similar  type of  dataset found  on internet.***\n",
        "\n",
        "**Species:** This column specifies the name of type of fish and further more   **(categorical)**\n",
        "\n",
        "**Weight:** This column stores the weight of the fish in respective units **(quantitative)**\n",
        "\n",
        "**Length1:** The distance between nose to tail of the fish is stored in this filed in respective units **(quantitative)**\n",
        "\n",
        "**Length2:** the length of the fish from the nose to the starting point of the tail fin in respective units (**quantitative)**\n",
        "\n",
        "**Length3:** The distance of the fish from  the end of the tail to the nose in  respective units(**quantitative)**\n",
        "\n",
        "**Height:** The height of the fish in respective units **(quantitative)**\n",
        "\n",
        "**Width:** The width of the fish at its widest point in respective units**(quantitative)**"
      ],
      "metadata": {
        "id": "Wug7tpTD366A"
      },
      "id": "Wug7tpTD366A"
    },
    {
      "cell_type": "code",
      "source": [
        "#code to check type of species in the given dataset\n",
        "df_fish['Species'].value_counts().reset_index(name='count')"
      ],
      "metadata": {
        "colab": {
          "base_uri": "https://localhost:8080/",
          "height": 269
        },
        "id": "wOkPNbu99deY",
        "outputId": "22abe22f-5566-4348-ed0a-fde68a785953"
      },
      "id": "wOkPNbu99deY",
      "execution_count": 22,
      "outputs": [
        {
          "output_type": "execute_result",
          "data": {
            "text/plain": [
              "       index  count\n",
              "0      Perch     56\n",
              "1      Bream     35\n",
              "2      Roach     20\n",
              "3       Pike     17\n",
              "4      Smelt     14\n",
              "5     Parkki     11\n",
              "6  Whitefish      6"
            ],
            "text/html": [
              "\n",
              "  <div id=\"df-222c3a8e-270e-4b75-85dc-1e438a7e952a\">\n",
              "    <div class=\"colab-df-container\">\n",
              "      <div>\n",
              "<style scoped>\n",
              "    .dataframe tbody tr th:only-of-type {\n",
              "        vertical-align: middle;\n",
              "    }\n",
              "\n",
              "    .dataframe tbody tr th {\n",
              "        vertical-align: top;\n",
              "    }\n",
              "\n",
              "    .dataframe thead th {\n",
              "        text-align: right;\n",
              "    }\n",
              "</style>\n",
              "<table border=\"1\" class=\"dataframe\">\n",
              "  <thead>\n",
              "    <tr style=\"text-align: right;\">\n",
              "      <th></th>\n",
              "      <th>index</th>\n",
              "      <th>count</th>\n",
              "    </tr>\n",
              "  </thead>\n",
              "  <tbody>\n",
              "    <tr>\n",
              "      <th>0</th>\n",
              "      <td>Perch</td>\n",
              "      <td>56</td>\n",
              "    </tr>\n",
              "    <tr>\n",
              "      <th>1</th>\n",
              "      <td>Bream</td>\n",
              "      <td>35</td>\n",
              "    </tr>\n",
              "    <tr>\n",
              "      <th>2</th>\n",
              "      <td>Roach</td>\n",
              "      <td>20</td>\n",
              "    </tr>\n",
              "    <tr>\n",
              "      <th>3</th>\n",
              "      <td>Pike</td>\n",
              "      <td>17</td>\n",
              "    </tr>\n",
              "    <tr>\n",
              "      <th>4</th>\n",
              "      <td>Smelt</td>\n",
              "      <td>14</td>\n",
              "    </tr>\n",
              "    <tr>\n",
              "      <th>5</th>\n",
              "      <td>Parkki</td>\n",
              "      <td>11</td>\n",
              "    </tr>\n",
              "    <tr>\n",
              "      <th>6</th>\n",
              "      <td>Whitefish</td>\n",
              "      <td>6</td>\n",
              "    </tr>\n",
              "  </tbody>\n",
              "</table>\n",
              "</div>\n",
              "      <button class=\"colab-df-convert\" onclick=\"convertToInteractive('df-222c3a8e-270e-4b75-85dc-1e438a7e952a')\"\n",
              "              title=\"Convert this dataframe to an interactive table.\"\n",
              "              style=\"display:none;\">\n",
              "        \n",
              "  <svg xmlns=\"http://www.w3.org/2000/svg\" height=\"24px\"viewBox=\"0 0 24 24\"\n",
              "       width=\"24px\">\n",
              "    <path d=\"M0 0h24v24H0V0z\" fill=\"none\"/>\n",
              "    <path d=\"M18.56 5.44l.94 2.06.94-2.06 2.06-.94-2.06-.94-.94-2.06-.94 2.06-2.06.94zm-11 1L8.5 8.5l.94-2.06 2.06-.94-2.06-.94L8.5 2.5l-.94 2.06-2.06.94zm10 10l.94 2.06.94-2.06 2.06-.94-2.06-.94-.94-2.06-.94 2.06-2.06.94z\"/><path d=\"M17.41 7.96l-1.37-1.37c-.4-.4-.92-.59-1.43-.59-.52 0-1.04.2-1.43.59L10.3 9.45l-7.72 7.72c-.78.78-.78 2.05 0 2.83L4 21.41c.39.39.9.59 1.41.59.51 0 1.02-.2 1.41-.59l7.78-7.78 2.81-2.81c.8-.78.8-2.07 0-2.86zM5.41 20L4 18.59l7.72-7.72 1.47 1.35L5.41 20z\"/>\n",
              "  </svg>\n",
              "      </button>\n",
              "      \n",
              "  <style>\n",
              "    .colab-df-container {\n",
              "      display:flex;\n",
              "      flex-wrap:wrap;\n",
              "      gap: 12px;\n",
              "    }\n",
              "\n",
              "    .colab-df-convert {\n",
              "      background-color: #E8F0FE;\n",
              "      border: none;\n",
              "      border-radius: 50%;\n",
              "      cursor: pointer;\n",
              "      display: none;\n",
              "      fill: #1967D2;\n",
              "      height: 32px;\n",
              "      padding: 0 0 0 0;\n",
              "      width: 32px;\n",
              "    }\n",
              "\n",
              "    .colab-df-convert:hover {\n",
              "      background-color: #E2EBFA;\n",
              "      box-shadow: 0px 1px 2px rgba(60, 64, 67, 0.3), 0px 1px 3px 1px rgba(60, 64, 67, 0.15);\n",
              "      fill: #174EA6;\n",
              "    }\n",
              "\n",
              "    [theme=dark] .colab-df-convert {\n",
              "      background-color: #3B4455;\n",
              "      fill: #D2E3FC;\n",
              "    }\n",
              "\n",
              "    [theme=dark] .colab-df-convert:hover {\n",
              "      background-color: #434B5C;\n",
              "      box-shadow: 0px 1px 3px 1px rgba(0, 0, 0, 0.15);\n",
              "      filter: drop-shadow(0px 1px 2px rgba(0, 0, 0, 0.3));\n",
              "      fill: #FFFFFF;\n",
              "    }\n",
              "  </style>\n",
              "\n",
              "      <script>\n",
              "        const buttonEl =\n",
              "          document.querySelector('#df-222c3a8e-270e-4b75-85dc-1e438a7e952a button.colab-df-convert');\n",
              "        buttonEl.style.display =\n",
              "          google.colab.kernel.accessAllowed ? 'block' : 'none';\n",
              "\n",
              "        async function convertToInteractive(key) {\n",
              "          const element = document.querySelector('#df-222c3a8e-270e-4b75-85dc-1e438a7e952a');\n",
              "          const dataTable =\n",
              "            await google.colab.kernel.invokeFunction('convertToInteractive',\n",
              "                                                     [key], {});\n",
              "          if (!dataTable) return;\n",
              "\n",
              "          const docLinkHtml = 'Like what you see? Visit the ' +\n",
              "            '<a target=\"_blank\" href=https://colab.research.google.com/notebooks/data_table.ipynb>data table notebook</a>'\n",
              "            + ' to learn more about interactive tables.';\n",
              "          element.innerHTML = '';\n",
              "          dataTable['output_type'] = 'display_data';\n",
              "          await google.colab.output.renderOutput(dataTable, element);\n",
              "          const docLink = document.createElement('div');\n",
              "          docLink.innerHTML = docLinkHtml;\n",
              "          element.appendChild(docLink);\n",
              "        }\n",
              "      </script>\n",
              "    </div>\n",
              "  </div>\n",
              "  "
            ]
          },
          "metadata": {},
          "execution_count": 22
        }
      ]
    },
    {
      "cell_type": "markdown",
      "source": [
        "The dataset points out six species of fish among which Perch type counts maximum ,where as Whitefish reports low. "
      ],
      "metadata": {
        "id": "vSOF1PCa-QPd"
      },
      "id": "vSOF1PCa-QPd"
    },
    {
      "cell_type": "markdown",
      "id": "ddd5f452",
      "metadata": {
        "id": "ddd5f452"
      },
      "source": [
        "### 2. Check for missing data"
      ]
    },
    {
      "cell_type": "code",
      "execution_count": 23,
      "id": "6063b028",
      "metadata": {
        "id": "6063b028",
        "colab": {
          "base_uri": "https://localhost:8080/",
          "height": 269
        },
        "outputId": "d0f811dd-0666-48b5-c068-a8402f3bed4e"
      },
      "outputs": [
        {
          "output_type": "execute_result",
          "data": {
            "text/plain": [
              "     index  count\n",
              "0  Species      0\n",
              "1   Weight      0\n",
              "2  Length1      0\n",
              "3  Length2      0\n",
              "4  Length3      0\n",
              "5   Height      0\n",
              "6    Width      0"
            ],
            "text/html": [
              "\n",
              "  <div id=\"df-8595449e-d386-417e-a1db-b9cea1117ada\">\n",
              "    <div class=\"colab-df-container\">\n",
              "      <div>\n",
              "<style scoped>\n",
              "    .dataframe tbody tr th:only-of-type {\n",
              "        vertical-align: middle;\n",
              "    }\n",
              "\n",
              "    .dataframe tbody tr th {\n",
              "        vertical-align: top;\n",
              "    }\n",
              "\n",
              "    .dataframe thead th {\n",
              "        text-align: right;\n",
              "    }\n",
              "</style>\n",
              "<table border=\"1\" class=\"dataframe\">\n",
              "  <thead>\n",
              "    <tr style=\"text-align: right;\">\n",
              "      <th></th>\n",
              "      <th>index</th>\n",
              "      <th>count</th>\n",
              "    </tr>\n",
              "  </thead>\n",
              "  <tbody>\n",
              "    <tr>\n",
              "      <th>0</th>\n",
              "      <td>Species</td>\n",
              "      <td>0</td>\n",
              "    </tr>\n",
              "    <tr>\n",
              "      <th>1</th>\n",
              "      <td>Weight</td>\n",
              "      <td>0</td>\n",
              "    </tr>\n",
              "    <tr>\n",
              "      <th>2</th>\n",
              "      <td>Length1</td>\n",
              "      <td>0</td>\n",
              "    </tr>\n",
              "    <tr>\n",
              "      <th>3</th>\n",
              "      <td>Length2</td>\n",
              "      <td>0</td>\n",
              "    </tr>\n",
              "    <tr>\n",
              "      <th>4</th>\n",
              "      <td>Length3</td>\n",
              "      <td>0</td>\n",
              "    </tr>\n",
              "    <tr>\n",
              "      <th>5</th>\n",
              "      <td>Height</td>\n",
              "      <td>0</td>\n",
              "    </tr>\n",
              "    <tr>\n",
              "      <th>6</th>\n",
              "      <td>Width</td>\n",
              "      <td>0</td>\n",
              "    </tr>\n",
              "  </tbody>\n",
              "</table>\n",
              "</div>\n",
              "      <button class=\"colab-df-convert\" onclick=\"convertToInteractive('df-8595449e-d386-417e-a1db-b9cea1117ada')\"\n",
              "              title=\"Convert this dataframe to an interactive table.\"\n",
              "              style=\"display:none;\">\n",
              "        \n",
              "  <svg xmlns=\"http://www.w3.org/2000/svg\" height=\"24px\"viewBox=\"0 0 24 24\"\n",
              "       width=\"24px\">\n",
              "    <path d=\"M0 0h24v24H0V0z\" fill=\"none\"/>\n",
              "    <path d=\"M18.56 5.44l.94 2.06.94-2.06 2.06-.94-2.06-.94-.94-2.06-.94 2.06-2.06.94zm-11 1L8.5 8.5l.94-2.06 2.06-.94-2.06-.94L8.5 2.5l-.94 2.06-2.06.94zm10 10l.94 2.06.94-2.06 2.06-.94-2.06-.94-.94-2.06-.94 2.06-2.06.94z\"/><path d=\"M17.41 7.96l-1.37-1.37c-.4-.4-.92-.59-1.43-.59-.52 0-1.04.2-1.43.59L10.3 9.45l-7.72 7.72c-.78.78-.78 2.05 0 2.83L4 21.41c.39.39.9.59 1.41.59.51 0 1.02-.2 1.41-.59l7.78-7.78 2.81-2.81c.8-.78.8-2.07 0-2.86zM5.41 20L4 18.59l7.72-7.72 1.47 1.35L5.41 20z\"/>\n",
              "  </svg>\n",
              "      </button>\n",
              "      \n",
              "  <style>\n",
              "    .colab-df-container {\n",
              "      display:flex;\n",
              "      flex-wrap:wrap;\n",
              "      gap: 12px;\n",
              "    }\n",
              "\n",
              "    .colab-df-convert {\n",
              "      background-color: #E8F0FE;\n",
              "      border: none;\n",
              "      border-radius: 50%;\n",
              "      cursor: pointer;\n",
              "      display: none;\n",
              "      fill: #1967D2;\n",
              "      height: 32px;\n",
              "      padding: 0 0 0 0;\n",
              "      width: 32px;\n",
              "    }\n",
              "\n",
              "    .colab-df-convert:hover {\n",
              "      background-color: #E2EBFA;\n",
              "      box-shadow: 0px 1px 2px rgba(60, 64, 67, 0.3), 0px 1px 3px 1px rgba(60, 64, 67, 0.15);\n",
              "      fill: #174EA6;\n",
              "    }\n",
              "\n",
              "    [theme=dark] .colab-df-convert {\n",
              "      background-color: #3B4455;\n",
              "      fill: #D2E3FC;\n",
              "    }\n",
              "\n",
              "    [theme=dark] .colab-df-convert:hover {\n",
              "      background-color: #434B5C;\n",
              "      box-shadow: 0px 1px 3px 1px rgba(0, 0, 0, 0.15);\n",
              "      filter: drop-shadow(0px 1px 2px rgba(0, 0, 0, 0.3));\n",
              "      fill: #FFFFFF;\n",
              "    }\n",
              "  </style>\n",
              "\n",
              "      <script>\n",
              "        const buttonEl =\n",
              "          document.querySelector('#df-8595449e-d386-417e-a1db-b9cea1117ada button.colab-df-convert');\n",
              "        buttonEl.style.display =\n",
              "          google.colab.kernel.accessAllowed ? 'block' : 'none';\n",
              "\n",
              "        async function convertToInteractive(key) {\n",
              "          const element = document.querySelector('#df-8595449e-d386-417e-a1db-b9cea1117ada');\n",
              "          const dataTable =\n",
              "            await google.colab.kernel.invokeFunction('convertToInteractive',\n",
              "                                                     [key], {});\n",
              "          if (!dataTable) return;\n",
              "\n",
              "          const docLinkHtml = 'Like what you see? Visit the ' +\n",
              "            '<a target=\"_blank\" href=https://colab.research.google.com/notebooks/data_table.ipynb>data table notebook</a>'\n",
              "            + ' to learn more about interactive tables.';\n",
              "          element.innerHTML = '';\n",
              "          dataTable['output_type'] = 'display_data';\n",
              "          await google.colab.output.renderOutput(dataTable, element);\n",
              "          const docLink = document.createElement('div');\n",
              "          docLink.innerHTML = docLinkHtml;\n",
              "          element.appendChild(docLink);\n",
              "        }\n",
              "      </script>\n",
              "    </div>\n",
              "  </div>\n",
              "  "
            ]
          },
          "metadata": {},
          "execution_count": 23
        }
      ],
      "source": [
        "#code to check the missing values\n",
        "df_fish.isnull().sum().reset_index(name='count')"
      ]
    },
    {
      "cell_type": "markdown",
      "id": "14896ea5",
      "metadata": {
        "id": "14896ea5"
      },
      "source": [
        "<font color='red' size=\"4\"><strong>Your Answer:</font></strong>"
      ]
    },
    {
      "cell_type": "markdown",
      "id": "7722d673",
      "metadata": {
        "id": "7722d673"
      },
      "source": [
        "**The above output shows the given dataset has no null values.**\n",
        "\n",
        "**Advantages of having No_values:**\n",
        "\n",
        "   **1. More precise statistical analysis**\n",
        "\n",
        "   **2. Higher efficiency in results**\n",
        "\n",
        "   **3.Accurate Data analysis**\n",
        "\n",
        "   **4. Cost of cleaning is reduced**\n",
        "\n",
        "   **5. In general, Machine learning algorithms works more accurate with datasets having NO_null values**"
      ]
    },
    {
      "cell_type": "markdown",
      "id": "2bb86209",
      "metadata": {
        "id": "2bb86209"
      },
      "source": [
        "### 3. Identify the shape of your data"
      ]
    },
    {
      "cell_type": "code",
      "execution_count": 24,
      "id": "6c492bd3",
      "metadata": {
        "id": "6c492bd3",
        "colab": {
          "base_uri": "https://localhost:8080/"
        },
        "outputId": "86c2cbd8-8282-40ef-f251-afa7a0c7680a"
      },
      "outputs": [
        {
          "output_type": "execute_result",
          "data": {
            "text/plain": [
              "(159, 7)"
            ]
          },
          "metadata": {},
          "execution_count": 24
        }
      ],
      "source": [
        "#code to describe the number of rows and coulmns\n",
        "df_fish.shape"
      ]
    },
    {
      "cell_type": "markdown",
      "id": "4f014630",
      "metadata": {
        "id": "4f014630"
      },
      "source": [
        "\n",
        "<font color='red' size=\"4\"><strong>What observations did you make?</font></strong>"
      ]
    },
    {
      "cell_type": "markdown",
      "source": [
        "**Given dataset contains 159 rows and 7 columns**"
      ],
      "metadata": {
        "id": "3-XoVP6aAz9c"
      },
      "id": "3-XoVP6aAz9c"
    },
    {
      "cell_type": "markdown",
      "id": "43b918ac",
      "metadata": {
        "id": "43b918ac"
      },
      "source": [
        "### 4. Identify significant correlations"
      ]
    },
    {
      "cell_type": "code",
      "source": [
        "#code to check correlation between Weight and height of the fishes\n",
        "correlation_wh = df_fish['Weight'].corr(df_fish[\"Height\"])\n",
        "correlation_wh"
      ],
      "metadata": {
        "colab": {
          "base_uri": "https://localhost:8080/"
        },
        "id": "pvljLfrEQHeY",
        "outputId": "23310384-5edd-41b0-9cf1-c66f7307b2ee"
      },
      "id": "pvljLfrEQHeY",
      "execution_count": 25,
      "outputs": [
        {
          "output_type": "execute_result",
          "data": {
            "text/plain": [
              "0.7243453291993318"
            ]
          },
          "metadata": {},
          "execution_count": 25
        }
      ]
    },
    {
      "cell_type": "code",
      "execution_count": 26,
      "id": "e64ce7bd",
      "metadata": {
        "id": "e64ce7bd",
        "colab": {
          "base_uri": "https://localhost:8080/"
        },
        "outputId": "0d1b345c-75dc-496f-dd84-99ef6d663847"
      },
      "outputs": [
        {
          "output_type": "execute_result",
          "data": {
            "text/plain": [
              "0.915711716031204"
            ]
          },
          "metadata": {},
          "execution_count": 26
        }
      ],
      "source": [
        "#code to check correlation between Weight and lenght1 of the fishes\n",
        "correlation_wl1 = df_fish['Weight'].corr(df_fish[\"Length1\"])\n",
        "correlation_wl1"
      ]
    },
    {
      "cell_type": "code",
      "source": [
        "#code to check correlation between Weight and length2 of the fishes\n",
        "correlation_wl2 = df_fish['Weight'].corr(df_fish[\"Length2\"])\n",
        "correlation_wl2"
      ],
      "metadata": {
        "colab": {
          "base_uri": "https://localhost:8080/"
        },
        "id": "pVET6l4RZnoC",
        "outputId": "3c4e0a2d-e59d-4e08-8ec3-f16e6bd56095"
      },
      "id": "pVET6l4RZnoC",
      "execution_count": 27,
      "outputs": [
        {
          "output_type": "execute_result",
          "data": {
            "text/plain": [
              "0.9186177013642217"
            ]
          },
          "metadata": {},
          "execution_count": 27
        }
      ]
    },
    {
      "cell_type": "code",
      "source": [
        "#code to check correlation between Weight and lenght3 of the fishes\n",
        "correlation_wl3 = df_fish['Weight'].corr(df_fish[\"Length3\"])\n",
        "correlation_wl3"
      ],
      "metadata": {
        "colab": {
          "base_uri": "https://localhost:8080/"
        },
        "id": "OE-G0FX7ZpfY",
        "outputId": "c825a6f6-025c-4636-d60b-fe5fbe85e29c"
      },
      "id": "OE-G0FX7ZpfY",
      "execution_count": 28,
      "outputs": [
        {
          "output_type": "execute_result",
          "data": {
            "text/plain": [
              "0.9230435593620121"
            ]
          },
          "metadata": {},
          "execution_count": 28
        }
      ]
    },
    {
      "cell_type": "code",
      "source": [
        "#code to check correlation between height and length1 of the fishes\n",
        "correlation_h1 = df_fish['Height'].corr(df_fish[\"Length1\"])\n",
        "correlation_h1"
      ],
      "metadata": {
        "colab": {
          "base_uri": "https://localhost:8080/"
        },
        "id": "3jshXItyRQyQ",
        "outputId": "f1800985-c2a3-4f68-9f80-d6628508fe18"
      },
      "id": "3jshXItyRQyQ",
      "execution_count": 29,
      "outputs": [
        {
          "output_type": "execute_result",
          "data": {
            "text/plain": [
              "0.6253779191601657"
            ]
          },
          "metadata": {},
          "execution_count": 29
        }
      ]
    },
    {
      "cell_type": "code",
      "source": [
        "#code to display the correlation each column with other columns in the given dataset\n",
        "corr_matrix = df_fish.corr()\n",
        "corr_matrix"
      ],
      "metadata": {
        "colab": {
          "base_uri": "https://localhost:8080/",
          "height": 238
        },
        "id": "I9tkptNEbjPR",
        "outputId": "d56715a5-6b59-49e6-eef2-6e536b40e6b4"
      },
      "id": "I9tkptNEbjPR",
      "execution_count": 30,
      "outputs": [
        {
          "output_type": "execute_result",
          "data": {
            "text/plain": [
              "           Weight   Length1   Length2   Length3    Height     Width\n",
              "Weight   1.000000  0.915712  0.918618  0.923044  0.724345  0.886507\n",
              "Length1  0.915712  1.000000  0.999517  0.992031  0.625378  0.867050\n",
              "Length2  0.918618  0.999517  1.000000  0.994103  0.640441  0.873547\n",
              "Length3  0.923044  0.992031  0.994103  1.000000  0.703409  0.878520\n",
              "Height   0.724345  0.625378  0.640441  0.703409  1.000000  0.792881\n",
              "Width    0.886507  0.867050  0.873547  0.878520  0.792881  1.000000"
            ],
            "text/html": [
              "\n",
              "  <div id=\"df-501a3803-b3c0-4919-bfc6-a2f8af5382c2\">\n",
              "    <div class=\"colab-df-container\">\n",
              "      <div>\n",
              "<style scoped>\n",
              "    .dataframe tbody tr th:only-of-type {\n",
              "        vertical-align: middle;\n",
              "    }\n",
              "\n",
              "    .dataframe tbody tr th {\n",
              "        vertical-align: top;\n",
              "    }\n",
              "\n",
              "    .dataframe thead th {\n",
              "        text-align: right;\n",
              "    }\n",
              "</style>\n",
              "<table border=\"1\" class=\"dataframe\">\n",
              "  <thead>\n",
              "    <tr style=\"text-align: right;\">\n",
              "      <th></th>\n",
              "      <th>Weight</th>\n",
              "      <th>Length1</th>\n",
              "      <th>Length2</th>\n",
              "      <th>Length3</th>\n",
              "      <th>Height</th>\n",
              "      <th>Width</th>\n",
              "    </tr>\n",
              "  </thead>\n",
              "  <tbody>\n",
              "    <tr>\n",
              "      <th>Weight</th>\n",
              "      <td>1.000000</td>\n",
              "      <td>0.915712</td>\n",
              "      <td>0.918618</td>\n",
              "      <td>0.923044</td>\n",
              "      <td>0.724345</td>\n",
              "      <td>0.886507</td>\n",
              "    </tr>\n",
              "    <tr>\n",
              "      <th>Length1</th>\n",
              "      <td>0.915712</td>\n",
              "      <td>1.000000</td>\n",
              "      <td>0.999517</td>\n",
              "      <td>0.992031</td>\n",
              "      <td>0.625378</td>\n",
              "      <td>0.867050</td>\n",
              "    </tr>\n",
              "    <tr>\n",
              "      <th>Length2</th>\n",
              "      <td>0.918618</td>\n",
              "      <td>0.999517</td>\n",
              "      <td>1.000000</td>\n",
              "      <td>0.994103</td>\n",
              "      <td>0.640441</td>\n",
              "      <td>0.873547</td>\n",
              "    </tr>\n",
              "    <tr>\n",
              "      <th>Length3</th>\n",
              "      <td>0.923044</td>\n",
              "      <td>0.992031</td>\n",
              "      <td>0.994103</td>\n",
              "      <td>1.000000</td>\n",
              "      <td>0.703409</td>\n",
              "      <td>0.878520</td>\n",
              "    </tr>\n",
              "    <tr>\n",
              "      <th>Height</th>\n",
              "      <td>0.724345</td>\n",
              "      <td>0.625378</td>\n",
              "      <td>0.640441</td>\n",
              "      <td>0.703409</td>\n",
              "      <td>1.000000</td>\n",
              "      <td>0.792881</td>\n",
              "    </tr>\n",
              "    <tr>\n",
              "      <th>Width</th>\n",
              "      <td>0.886507</td>\n",
              "      <td>0.867050</td>\n",
              "      <td>0.873547</td>\n",
              "      <td>0.878520</td>\n",
              "      <td>0.792881</td>\n",
              "      <td>1.000000</td>\n",
              "    </tr>\n",
              "  </tbody>\n",
              "</table>\n",
              "</div>\n",
              "      <button class=\"colab-df-convert\" onclick=\"convertToInteractive('df-501a3803-b3c0-4919-bfc6-a2f8af5382c2')\"\n",
              "              title=\"Convert this dataframe to an interactive table.\"\n",
              "              style=\"display:none;\">\n",
              "        \n",
              "  <svg xmlns=\"http://www.w3.org/2000/svg\" height=\"24px\"viewBox=\"0 0 24 24\"\n",
              "       width=\"24px\">\n",
              "    <path d=\"M0 0h24v24H0V0z\" fill=\"none\"/>\n",
              "    <path d=\"M18.56 5.44l.94 2.06.94-2.06 2.06-.94-2.06-.94-.94-2.06-.94 2.06-2.06.94zm-11 1L8.5 8.5l.94-2.06 2.06-.94-2.06-.94L8.5 2.5l-.94 2.06-2.06.94zm10 10l.94 2.06.94-2.06 2.06-.94-2.06-.94-.94-2.06-.94 2.06-2.06.94z\"/><path d=\"M17.41 7.96l-1.37-1.37c-.4-.4-.92-.59-1.43-.59-.52 0-1.04.2-1.43.59L10.3 9.45l-7.72 7.72c-.78.78-.78 2.05 0 2.83L4 21.41c.39.39.9.59 1.41.59.51 0 1.02-.2 1.41-.59l7.78-7.78 2.81-2.81c.8-.78.8-2.07 0-2.86zM5.41 20L4 18.59l7.72-7.72 1.47 1.35L5.41 20z\"/>\n",
              "  </svg>\n",
              "      </button>\n",
              "      \n",
              "  <style>\n",
              "    .colab-df-container {\n",
              "      display:flex;\n",
              "      flex-wrap:wrap;\n",
              "      gap: 12px;\n",
              "    }\n",
              "\n",
              "    .colab-df-convert {\n",
              "      background-color: #E8F0FE;\n",
              "      border: none;\n",
              "      border-radius: 50%;\n",
              "      cursor: pointer;\n",
              "      display: none;\n",
              "      fill: #1967D2;\n",
              "      height: 32px;\n",
              "      padding: 0 0 0 0;\n",
              "      width: 32px;\n",
              "    }\n",
              "\n",
              "    .colab-df-convert:hover {\n",
              "      background-color: #E2EBFA;\n",
              "      box-shadow: 0px 1px 2px rgba(60, 64, 67, 0.3), 0px 1px 3px 1px rgba(60, 64, 67, 0.15);\n",
              "      fill: #174EA6;\n",
              "    }\n",
              "\n",
              "    [theme=dark] .colab-df-convert {\n",
              "      background-color: #3B4455;\n",
              "      fill: #D2E3FC;\n",
              "    }\n",
              "\n",
              "    [theme=dark] .colab-df-convert:hover {\n",
              "      background-color: #434B5C;\n",
              "      box-shadow: 0px 1px 3px 1px rgba(0, 0, 0, 0.15);\n",
              "      filter: drop-shadow(0px 1px 2px rgba(0, 0, 0, 0.3));\n",
              "      fill: #FFFFFF;\n",
              "    }\n",
              "  </style>\n",
              "\n",
              "      <script>\n",
              "        const buttonEl =\n",
              "          document.querySelector('#df-501a3803-b3c0-4919-bfc6-a2f8af5382c2 button.colab-df-convert');\n",
              "        buttonEl.style.display =\n",
              "          google.colab.kernel.accessAllowed ? 'block' : 'none';\n",
              "\n",
              "        async function convertToInteractive(key) {\n",
              "          const element = document.querySelector('#df-501a3803-b3c0-4919-bfc6-a2f8af5382c2');\n",
              "          const dataTable =\n",
              "            await google.colab.kernel.invokeFunction('convertToInteractive',\n",
              "                                                     [key], {});\n",
              "          if (!dataTable) return;\n",
              "\n",
              "          const docLinkHtml = 'Like what you see? Visit the ' +\n",
              "            '<a target=\"_blank\" href=https://colab.research.google.com/notebooks/data_table.ipynb>data table notebook</a>'\n",
              "            + ' to learn more about interactive tables.';\n",
              "          element.innerHTML = '';\n",
              "          dataTable['output_type'] = 'display_data';\n",
              "          await google.colab.output.renderOutput(dataTable, element);\n",
              "          const docLink = document.createElement('div');\n",
              "          docLink.innerHTML = docLinkHtml;\n",
              "          element.appendChild(docLink);\n",
              "        }\n",
              "      </script>\n",
              "    </div>\n",
              "  </div>\n",
              "  "
            ]
          },
          "metadata": {},
          "execution_count": 30
        }
      ]
    },
    {
      "cell_type": "markdown",
      "id": "a2b55a40",
      "metadata": {
        "id": "a2b55a40"
      },
      "source": [
        "<font color='red' size=\"4\"><strong>Your Answer:</font></strong>\n"
      ]
    },
    {
      "cell_type": "markdown",
      "id": "65219967",
      "metadata": {
        "id": "65219967"
      },
      "source": [
        ">>>**The degree of similarity between two categories in a dataset is indicated by their correlation. It is used to measure how closely changes in one column affect changes in the other column. Correlation can be zero, positive, or negative.**\n",
        "\n",
        "* By observing the above cells, we can conclude the column 'Weight' to 'length1','length2','length3' column has almost correlation factor which is almost 0.92. \n",
        "\n",
        "(Length1,lenght2) reports 0.99 correlation ,leaving the reflexive correlation  \n",
        "\n",
        "* This indicates both  columns move in the same way if the correlation coefficient is almost nearly to one , which denotes a perfect positive correlation.\n",
        "\n",
        "* The columns 'Height' and 'Lenght' has correlation factor mostly varies 0.625 to 0.79 from the above table,where as 'Weight' and 'Height' are moderately related ,figure rounds to 0.72.\n"
      ]
    },
    {
      "cell_type": "markdown",
      "id": "575790bb",
      "metadata": {
        "id": "575790bb"
      },
      "source": [
        "### 5. Spot outliers and what to do with them?"
      ]
    },
    {
      "cell_type": "code",
      "source": [
        "#code to spot the outliers of the all columns of the given dataset\n",
        "plt.boxplot([df_fish['Height'], df_fish['Weight'],df_fish['Length1'],df_fish['Length2'],\n",
        "             df_fish['Length3']], labels=['Height','Weight','Length1','Length2','Length3'])\n",
        "             "
      ],
      "metadata": {
        "colab": {
          "base_uri": "https://localhost:8080/",
          "height": 1000
        },
        "id": "xOY8pCQQVuRu",
        "outputId": "cf7bb302-6e68-4185-fbba-50d71b3762d0"
      },
      "id": "xOY8pCQQVuRu",
      "execution_count": 31,
      "outputs": [
        {
          "output_type": "execute_result",
          "data": {
            "text/plain": [
              "{'whiskers': [<matplotlib.lines.Line2D at 0x7f05ad9ec1f0>,\n",
              "  <matplotlib.lines.Line2D at 0x7f05ad9ec370>,\n",
              "  <matplotlib.lines.Line2D at 0x7f05ad97b3a0>,\n",
              "  <matplotlib.lines.Line2D at 0x7f05ad97b640>,\n",
              "  <matplotlib.lines.Line2D at 0x7f05ad98c640>,\n",
              "  <matplotlib.lines.Line2D at 0x7f05ad98c8e0>,\n",
              "  <matplotlib.lines.Line2D at 0x7f05ad99a8e0>,\n",
              "  <matplotlib.lines.Line2D at 0x7f05ad99ab80>,\n",
              "  <matplotlib.lines.Line2D at 0x7f05ad9a5b80>,\n",
              "  <matplotlib.lines.Line2D at 0x7f05ad9a5e20>],\n",
              " 'caps': [<matplotlib.lines.Line2D at 0x7f05ad9ec610>,\n",
              "  <matplotlib.lines.Line2D at 0x7f05ad9ec8b0>,\n",
              "  <matplotlib.lines.Line2D at 0x7f05ad97b8e0>,\n",
              "  <matplotlib.lines.Line2D at 0x7f05ad97bb80>,\n",
              "  <matplotlib.lines.Line2D at 0x7f05ad98cb80>,\n",
              "  <matplotlib.lines.Line2D at 0x7f05ad98ce20>,\n",
              "  <matplotlib.lines.Line2D at 0x7f05ad99ae20>,\n",
              "  <matplotlib.lines.Line2D at 0x7f05ad9a5100>,\n",
              "  <matplotlib.lines.Line2D at 0x7f05ad9b7100>,\n",
              "  <matplotlib.lines.Line2D at 0x7f05ad9b73a0>],\n",
              " 'boxes': [<matplotlib.lines.Line2D at 0x7f05ad9ddf10>,\n",
              "  <matplotlib.lines.Line2D at 0x7f05ad97b100>,\n",
              "  <matplotlib.lines.Line2D at 0x7f05ad98c3a0>,\n",
              "  <matplotlib.lines.Line2D at 0x7f05ad99a640>,\n",
              "  <matplotlib.lines.Line2D at 0x7f05ad9a58e0>],\n",
              " 'medians': [<matplotlib.lines.Line2D at 0x7f05ad9ecb50>,\n",
              "  <matplotlib.lines.Line2D at 0x7f05ad97be20>,\n",
              "  <matplotlib.lines.Line2D at 0x7f05ad99a100>,\n",
              "  <matplotlib.lines.Line2D at 0x7f05ad9a53a0>,\n",
              "  <matplotlib.lines.Line2D at 0x7f05ad9b7640>],\n",
              " 'fliers': [<matplotlib.lines.Line2D at 0x7f05ad9ece20>,\n",
              "  <matplotlib.lines.Line2D at 0x7f05ad98c100>,\n",
              "  <matplotlib.lines.Line2D at 0x7f05ad99a3a0>,\n",
              "  <matplotlib.lines.Line2D at 0x7f05ad9a5640>,\n",
              "  <matplotlib.lines.Line2D at 0x7f05ad9b78e0>],\n",
              " 'means': []}"
            ]
          },
          "metadata": {},
          "execution_count": 31
        },
        {
          "output_type": "display_data",
          "data": {
            "text/plain": [
              "<Figure size 640x480 with 1 Axes>"
            ],
            "image/png": "[encoded data removed]"
          },
          "metadata": {}
        }
      ]
    },
    {
      "cell_type": "code",
      "source": [
        "#code to plot scatter plot for weight and height columns to point-outs the outliers\n",
        "sns.scatterplot(x='Height', y='Weight', data=df_fish)\n",
        "plt.title(\"scatterplot weight verus height\")\n",
        "plt.show()"
      ],
      "metadata": {
        "colab": {
          "base_uri": "https://localhost:8080/",
          "height": 472
        },
        "id": "qem2ImSSciMZ",
        "outputId": "ef13702b-d18c-44bc-c6f8-a8389351e415"
      },
      "id": "qem2ImSSciMZ",
      "execution_count": 32,
      "outputs": [
        {
          "output_type": "display_data",
          "data": {
            "text/plain": [
              "<Figure size 640x480 with 1 Axes>"
            ],
            "image/png": "[encoded data removed]"
          },
          "metadata": {}
        }
      ]
    },
    {
      "cell_type": "code",
      "source": [
        "#code to plot scatter plot for weight and lenght1 columns to point-outs the outliers\n",
        "sns.scatterplot(x='Weight', y ='Length1', data=df_fish)\n",
        "\n",
        "plt.title(\"scatterplot weight verus Lenght1\")\n",
        "\n",
        "# Show the plot\n",
        "plt.show()"
      ],
      "metadata": {
        "colab": {
          "base_uri": "https://localhost:8080/",
          "height": 472
        },
        "id": "FBY2dsR8do0Y",
        "outputId": "048bbc9f-b2d1-45d1-f587-0ff0f1ec2840"
      },
      "id": "FBY2dsR8do0Y",
      "execution_count": 33,
      "outputs": [
        {
          "output_type": "display_data",
          "data": {
            "text/plain": [
              "<Figure size 640x480 with 1 Axes>"
            ],
            "image/png": "[encoded data removed]"
          },
          "metadata": {}
        }
      ]
    },
    {
      "cell_type": "code",
      "source": [
        "#code to plot scatter plot for heigth and lenght1 columns to point-outs the outliers\n",
        "sns.scatterplot(x='Height', y ='Length1', data=df_fish)\n",
        "\n",
        "plt.title(\"scatterplot height verus Lenght1\")\n",
        "\n",
        "# Show the plot\n",
        "plt.show()"
      ],
      "metadata": {
        "colab": {
          "base_uri": "https://localhost:8080/",
          "height": 472
        },
        "id": "UaO4rD66gI2w",
        "outputId": "3d04298e-8798-4121-bbb3-88cfcee84985"
      },
      "id": "UaO4rD66gI2w",
      "execution_count": 34,
      "outputs": [
        {
          "output_type": "display_data",
          "data": {
            "text/plain": [
              "<Figure size 640x480 with 1 Axes>"
            ],
            "image/png": "[encoded data removed]"
          },
          "metadata": {}
        }
      ]
    },
    {
      "cell_type": "markdown",
      "id": "435be71b",
      "metadata": {
        "id": "435be71b"
      },
      "source": [
        "<font color='red' size=\"4\"><strong>Your Answer:</font></strong>\n"
      ]
    },
    {
      "cell_type": "markdown",
      "id": "d25544c8",
      "metadata": {
        "id": "d25544c8"
      },
      "source": [
        "1. It boxplot  clearly shows that only Weight columns has slight more outliers when compared with others columns.\n",
        "\n",
        "2. Scatterplot shows different outliers such a datapoint which lies away from the cluster or groups of points is consider as Outlier.\n",
        "\n",
        "3. Having the outliers in the given dataset leads slow down the computation process while applying different machine learning alogirthms.\n",
        "\n",
        "4. Different ways to handle the outliers \n",
        "     \n",
        "     * Elimatie Outliers\n",
        "     * Transformation of extreme points or outliers by some mathematical function to combine with cluster of points\n",
        "     * Studying the outliers seperately to find out insights from outliers\n",
        "     "
      ]
    },
    {
      "cell_type": "markdown",
      "id": "d29e9377",
      "metadata": {
        "id": "d29e9377"
      },
      "source": [
        "<font color='red' size=\"6\"><strong>Summary</font></strong>\n"
      ]
    },
    {
      "cell_type": "markdown",
      "id": "236331b2",
      "metadata": {
        "id": "236331b2"
      },
      "source": [
        ">>> Overall the Exploratory Data Analysis on the given fish dataset\n",
        "helps identify obvious errors, as well as better understand patterns within the data, detect outliers or anomalous events, and find interesting corelations among the variables weight and height.\n",
        "\n",
        "\n",
        " * It contains only one categorical variable or column  and remaining are quantitative columns\n",
        "\n",
        " * The datasets has zero null values ,this prominent feature of data reduce the cost of cleaning allowing to obtain more precise  statistical analysis\n",
        "\n",
        " * The dataset contains outliers ,however they have least effect on the highly populated cluster in the weight vs lenght1 plot where as they effect the cluster int the height vs length1 plot.  \n",
        "\n",
        " * Given dataset is binded with 159 rows and 7 columns\n",
        "\n",
        " * By observing the above cells, we can conclude the column 'Weight' and        'length' related attributes has almost correlation factor which is  0.92.\n",
        "\n",
        "\n",
        "\n",
        "\n"
      ]
    }
  ],
  "metadata": {
    "kernelspec": {
      "display_name": "Python 3 (ipykernel)",
      "language": "python",
      "name": "python3"
    },
    "language_info": {
      "codemirror_mode": {
        "name": "ipython",
        "version": 3
      },
      "file_extension": ".py",
      "mimetype": "text/x-python",
      "name": "python",
      "nbconvert_exporter": "python",
      "pygments_lexer": "ipython3",
      "version": "3.7.3"
    },
    "colab": {
      "provenance": []
    }
  },
  "nbformat": 4,
  "nbformat_minor": 5
}