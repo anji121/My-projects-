{
 "cells": [
  {
   "cell_type": "markdown",
   "id": "029f6f49",
   "metadata": {
    "id": "029f6f49"
   },
   "source": [
    " Classification"
   ]
  },
  {
   "cell_type": "markdown",
   "id": "c08e03cc",
   "metadata": {
    "id": "c08e03cc"
   },
   "source": [
    "## Task 1: Logistic Regression on Bank Data"
   ]
  },
  {
   "cell_type": "markdown",
   "id": "8ba699ca",
   "metadata": {
    "id": "8ba699ca"
   },
   "source": [
    "#### Bank client data:\n",
    "\n",
    "1. age (numeric)\n",
    "2. job : type of job (categorical: \"admin.\",\"unknown\",\"unemployed\",\"management\",\"housemaid\",\"entrepreneur\",\"student\", \"blue-collar\",\"self-employed\",\"retired\",\"technician\",\"services\")\n",
    "3. marital : marital status (categorical: \"married\",\"divorced\",\"single\"; note: \"divorced\" means divorced or widowed)\n",
    "4. education (categorical: \"unknown\",\"secondary\",\"primary\",\"tertiary\")\n",
    "5. default: has credit in default? (binary: \"yes\",\"no\")\n",
    "6. balance: average yearly balance, in euros (numeric)\n",
    "7. housing: has housing loan? (binary: \"yes\",\"no\")\n",
    "8. loan: has personal loan? (binary: \"yes\",\"no\")\n",
    "\n",
    "#### Related with the last contact of the current campaign:\n",
    "\n",
    "9. contact: contact communication type (categorical: \"unknown\",\"telephone\",\"cellular\")\n",
    "10. day: last contact day of the month (numeric)\n",
    "11. month: last contact month of year (categorical: \"jan\", \"feb\", \"mar\", …, \"nov\", \"dec\")\n",
    "12. duration: last contact duration, in seconds (numeric)\n",
    "\n",
    "#### Other attributes:\n",
    "13. campaign: number of contacts performed during this campaign and for this client (numeric, includes last contact)\n",
    "14. pdays: number of days that passed by after the client was last contacted from a previous campaign (numeric, -1 means client was not previously contacted)\n",
    "15. previous: number of contacts performed before this campaign and for this client (numeric)\n",
    "16. poutcome: outcome of the previous marketing campaign (categorical: \"unknown\",\"other\",\"failure\",\"success\")\n",
    "\n",
    "#### Output variable (desired target):\n",
    "17. y - has the client subscribed a term deposit? (binary: \"yes\",\"no\")\n"
   ]
  },
  {
   "cell_type": "markdown",
   "id": "a505e406",
   "metadata": {
    "id": "a505e406"
   },
   "source": [
    "Run this cell by default to load the dataset."
   ]
  },
  {
   "cell_type": "code",
   "execution_count": 1,
   "id": "5405ea00",
   "metadata": {
    "colab": {
     "base_uri": "https://localhost:8080/",
     "height": 226
    },
    "id": "5405ea00",
    "outputId": "d5f13a33-9300-4189-ae41-84432b5ab452"
   },
   "outputs": [
    {
     "data": {
      "text/html": [
       "<div>\n",
       "<style scoped>\n",
       "    .dataframe tbody tr th:only-of-type {\n",
       "        vertical-align: middle;\n",
       "    }\n",
       "\n",
       "    .dataframe tbody tr th {\n",
       "        vertical-align: top;\n",
       "    }\n",
       "\n",
       "    .dataframe thead th {\n",
       "        text-align: right;\n",
       "    }\n",
       "</style>\n",
       "<table border=\"1\" class=\"dataframe\">\n",
       "  <thead>\n",
       "    <tr style=\"text-align: right;\">\n",
       "      <th></th>\n",
       "      <th>age</th>\n",
       "      <th>job</th>\n",
       "      <th>marital</th>\n",
       "      <th>education</th>\n",
       "      <th>default</th>\n",
       "      <th>balance</th>\n",
       "      <th>housing</th>\n",
       "      <th>loan</th>\n",
       "      <th>contact</th>\n",
       "      <th>day</th>\n",
       "      <th>month</th>\n",
       "      <th>duration</th>\n",
       "      <th>campaign</th>\n",
       "      <th>pdays</th>\n",
       "      <th>previous</th>\n",
       "      <th>poutcome</th>\n",
       "      <th>y</th>\n",
       "    </tr>\n",
       "  </thead>\n",
       "  <tbody>\n",
       "    <tr>\n",
       "      <th>0</th>\n",
       "      <td>58</td>\n",
       "      <td>management</td>\n",
       "      <td>married</td>\n",
       "      <td>tertiary</td>\n",
       "      <td>no</td>\n",
       "      <td>2143</td>\n",
       "      <td>yes</td>\n",
       "      <td>no</td>\n",
       "      <td>unknown</td>\n",
       "      <td>5</td>\n",
       "      <td>may</td>\n",
       "      <td>261</td>\n",
       "      <td>1</td>\n",
       "      <td>-1</td>\n",
       "      <td>0</td>\n",
       "      <td>unknown</td>\n",
       "      <td>no</td>\n",
       "    </tr>\n",
       "    <tr>\n",
       "      <th>1</th>\n",
       "      <td>44</td>\n",
       "      <td>technician</td>\n",
       "      <td>single</td>\n",
       "      <td>secondary</td>\n",
       "      <td>no</td>\n",
       "      <td>29</td>\n",
       "      <td>yes</td>\n",
       "      <td>no</td>\n",
       "      <td>unknown</td>\n",
       "      <td>5</td>\n",
       "      <td>may</td>\n",
       "      <td>151</td>\n",
       "      <td>1</td>\n",
       "      <td>-1</td>\n",
       "      <td>0</td>\n",
       "      <td>unknown</td>\n",
       "      <td>no</td>\n",
       "    </tr>\n",
       "    <tr>\n",
       "      <th>2</th>\n",
       "      <td>33</td>\n",
       "      <td>entrepreneur</td>\n",
       "      <td>married</td>\n",
       "      <td>secondary</td>\n",
       "      <td>no</td>\n",
       "      <td>2</td>\n",
       "      <td>yes</td>\n",
       "      <td>yes</td>\n",
       "      <td>unknown</td>\n",
       "      <td>5</td>\n",
       "      <td>may</td>\n",
       "      <td>76</td>\n",
       "      <td>1</td>\n",
       "      <td>-1</td>\n",
       "      <td>0</td>\n",
       "      <td>unknown</td>\n",
       "      <td>no</td>\n",
       "    </tr>\n",
       "    <tr>\n",
       "      <th>3</th>\n",
       "      <td>47</td>\n",
       "      <td>blue-collar</td>\n",
       "      <td>married</td>\n",
       "      <td>unknown</td>\n",
       "      <td>no</td>\n",
       "      <td>1506</td>\n",
       "      <td>yes</td>\n",
       "      <td>no</td>\n",
       "      <td>unknown</td>\n",
       "      <td>5</td>\n",
       "      <td>may</td>\n",
       "      <td>92</td>\n",
       "      <td>1</td>\n",
       "      <td>-1</td>\n",
       "      <td>0</td>\n",
       "      <td>unknown</td>\n",
       "      <td>no</td>\n",
       "    </tr>\n",
       "    <tr>\n",
       "      <th>4</th>\n",
       "      <td>33</td>\n",
       "      <td>unknown</td>\n",
       "      <td>single</td>\n",
       "      <td>unknown</td>\n",
       "      <td>no</td>\n",
       "      <td>1</td>\n",
       "      <td>no</td>\n",
       "      <td>no</td>\n",
       "      <td>unknown</td>\n",
       "      <td>5</td>\n",
       "      <td>may</td>\n",
       "      <td>198</td>\n",
       "      <td>1</td>\n",
       "      <td>-1</td>\n",
       "      <td>0</td>\n",
       "      <td>unknown</td>\n",
       "      <td>no</td>\n",
       "    </tr>\n",
       "  </tbody>\n",
       "</table>\n",
       "</div>"
      ],
      "text/plain": [
       "   age           job  marital  education default  balance housing loan  \\\n",
       "0   58    management  married   tertiary      no     2143     yes   no   \n",
       "1   44    technician   single  secondary      no       29     yes   no   \n",
       "2   33  entrepreneur  married  secondary      no        2     yes  yes   \n",
       "3   47   blue-collar  married    unknown      no     1506     yes   no   \n",
       "4   33       unknown   single    unknown      no        1      no   no   \n",
       "\n",
       "   contact  day month  duration  campaign  pdays  previous poutcome   y  \n",
       "0  unknown    5   may       261         1     -1         0  unknown  no  \n",
       "1  unknown    5   may       151         1     -1         0  unknown  no  \n",
       "2  unknown    5   may        76         1     -1         0  unknown  no  \n",
       "3  unknown    5   may        92         1     -1         0  unknown  no  \n",
       "4  unknown    5   may       198         1     -1         0  unknown  no  "
      ]
     },
     "execution_count": 1,
     "metadata": {},
     "output_type": "execute_result"
    }
   ],
   "source": [
    "import pandas as pd\n",
    "\n",
    "data = pd.read_csv(\"bank-full.csv\", encoding='utf-8', delimiter=\";\")\n",
    "\n",
    "data.head()"
   ]
  },
  {
   "cell_type": "markdown",
   "id": "49170537",
   "metadata": {
    "id": "49170537"
   },
   "source": [
    "### Task1A: \n",
    "1. Is there any need to convert columns based on their Dtype? Check details about the data.\n",
    "2. Check if there are any missing values. Handle the missing values if any."
   ]
  },
  {
   "cell_type": "code",
   "execution_count": 2,
   "id": "5264a3d6",
   "metadata": {
    "colab": {
     "base_uri": "https://localhost:8080/"
    },
    "id": "5264a3d6",
    "outputId": "0f262936-5e00-4e20-eff5-073a4b51f0ef"
   },
   "outputs": [
    {
     "name": "stdout",
     "output_type": "stream",
     "text": [
      "<class 'pandas.core.frame.DataFrame'>\n",
      "RangeIndex: 45211 entries, 0 to 45210\n",
      "Data columns (total 17 columns):\n",
      " #   Column     Non-Null Count  Dtype \n",
      "---  ------     --------------  ----- \n",
      " 0   age        45211 non-null  int64 \n",
      " 1   job        45211 non-null  object\n",
      " 2   marital    45211 non-null  object\n",
      " 3   education  45211 non-null  object\n",
      " 4   default    45211 non-null  object\n",
      " 5   balance    45211 non-null  int64 \n",
      " 6   housing    45211 non-null  object\n",
      " 7   loan       45211 non-null  object\n",
      " 8   contact    45211 non-null  object\n",
      " 9   day        45211 non-null  int64 \n",
      " 10  month      45211 non-null  object\n",
      " 11  duration   45211 non-null  int64 \n",
      " 12  campaign   45211 non-null  int64 \n",
      " 13  pdays      45211 non-null  int64 \n",
      " 14  previous   45211 non-null  int64 \n",
      " 15  poutcome   45211 non-null  object\n",
      " 16  y          45211 non-null  object\n",
      "dtypes: int64(7), object(10)\n",
      "memory usage: 5.9+ MB\n"
     ]
    }
   ],
   "source": [
    "data.info()"
   ]
  },
  {
   "cell_type": "code",
   "execution_count": 3,
   "id": "cd303660",
   "metadata": {
    "colab": {
     "base_uri": "https://localhost:8080/"
    },
    "id": "cd303660",
    "outputId": "ba0a8338-b0d5-41d8-ff93-816b77bfeff8"
   },
   "outputs": [
    {
     "data": {
      "text/plain": [
       "age          0\n",
       "job          0\n",
       "marital      0\n",
       "education    0\n",
       "default      0\n",
       "balance      0\n",
       "housing      0\n",
       "loan         0\n",
       "contact      0\n",
       "day          0\n",
       "month        0\n",
       "duration     0\n",
       "campaign     0\n",
       "pdays        0\n",
       "previous     0\n",
       "poutcome     0\n",
       "y            0\n",
       "dtype: int64"
      ]
     },
     "execution_count": 3,
     "metadata": {},
     "output_type": "execute_result"
    }
   ],
   "source": [
    "data.isnull().sum()"
   ]
  },
  {
   "cell_type": "markdown",
   "id": "038abbe0",
   "metadata": {
    "id": "038abbe0"
   },
   "source": [
    "#Comment your Actions if any"
   ]
  },
  {
   "cell_type": "markdown",
   "id": "e0958617",
   "metadata": {
    "id": "e0958617"
   },
   "source": [
    "### Task 1B: \n",
    "First things first!\n",
    "Before applying feature engineering or bringing the columns to appropriate form, split the data into training/testing.\n",
    "Why? because by doing this we ensure that there is no data leakage.\n",
    "\n",
    "1. Map the target variable.\n",
    "2. Split the data into training/testing with 80-20 ratio.\n",
    "3. Use stratify since to ensure equal percentage of class samples into both subsamples."
   ]
  },
  {
   "cell_type": "code",
   "execution_count": 4,
   "id": "U5AbgrZc_xag",
   "metadata": {
    "id": "U5AbgrZc_xag"
   },
   "outputs": [],
   "source": [
    "target = {'no': 0, 'yes': 1}\n",
    "data['y'] = data['y'].map(target)"
   ]
  },
  {
   "cell_type": "code",
   "execution_count": 5,
   "id": "6b683e4b",
   "metadata": {
    "id": "6b683e4b"
   },
   "outputs": [],
   "source": [
    "from sklearn.model_selection import train_test_split\n",
    "input = data.drop(columns=['y'])\n",
    "output = data['y']\n",
    "input_train, input_test, output_train, output_test = train_test_split(input, output, test_size=0.2, random_state=42, stratify=output)\n"
   ]
  },
  {
   "cell_type": "markdown",
   "id": "46d56ba5",
   "metadata": {
    "id": "46d56ba5"
   },
   "source": [
    "### Task 1C: \n",
    "Define a class 'convert_cat' which will-\n",
    "\n",
    "1. Map the binary categorical values.\n",
    "2. Is it fleasible to create dummy variables from 'month' categircal variable? My suggestion use frequency encoding.\n",
    "3. Create dummy variables for the rest of the categorical variables.\n",
    "\n",
    "Note: be very careful to handle each column while converting them."
   ]
  },
  {
   "cell_type": "code",
   "execution_count": 6,
   "id": "5iMdiPvzAGs9",
   "metadata": {
    "id": "5iMdiPvzAGs9"
   },
   "outputs": [],
   "source": [
    "import pandas as pd\n",
    "\n",
    "class ConvertCat:\n",
    "    def __init__(self):\n",
    "        self.binary_mapping = None\n",
    "        self.month_freq_mapping = None\n",
    "        self.categorical_columns = None\n",
    "\n",
    "    def fit(self, data1):\n",
    "        self.binary_mapping = {}\n",
    "        self.month_freq_mapping = {}\n",
    "        self.categorical_columns = data.select_dtypes(include='object').columns.tolist()\n",
    "        converted_categorical_cols = []\n",
    "        for col in self.categorical_columns:\n",
    "            unique_values = data1[col].unique()\n",
    "            if len(unique_values) == 2:\n",
    "                mapping = {val: idx for idx, val in enumerate(unique_values)}\n",
    "                self.binary_mapping[col] = mapping\n",
    "                converted_categorical_cols.append(col)\n",
    "        month_freq = data1['month'].value_counts(normalize=True).to_dict()\n",
    "        self.month_freq_mapping = month_freq\n",
    "        converted_categorical_cols.append('month')\n",
    "\n",
    "        self.categorical_columns = list(set(self.categorical_columns) - set(converted_categorical_cols))\n",
    "\n",
    "\n",
    "\n",
    "\n",
    "\n",
    "    def transform(self, data2):\n",
    "        for col, mapping in self.binary_mapping.items():\n",
    "            data2[col] = data2[col].map(mapping)\n",
    "        data2['month'] = data2['month'].map(self.month_freq_mapping)\n",
    "        data2 = pd.get_dummies(data2, columns=self.categorical_columns, drop_first=True)\n",
    "        return data2\n"
   ]
  },
  {
   "cell_type": "markdown",
   "id": "79f3643f",
   "metadata": {
    "id": "79f3643f"
   },
   "source": [
    "Now simply callthe function for training and testing data. Remember to store the column names into a variable. You will require it later.\n",
    "\n",
    "IMP NOTE: reindex the dummied test set variables to make sure all the feature columns in the train set are also available in the test set"
   ]
  },
  {
   "cell_type": "code",
   "execution_count": 7,
   "id": "c41bad0e",
   "metadata": {
    "id": "c41bad0e",
    "scrolled": true
   },
   "outputs": [],
   "source": [
    "converter = ConvertCat()\n",
    "converter.fit(input_train)\n",
    "# calling the converter function for train data\n",
    "input_train_processed = converter.transform(input_train)\n",
    "# calling the converter function for test data\n",
    "input_test_processed = converter.transform(input_test)\n",
    "# storing the columns in train data\n",
    "train_columns = input_train_processed.columns.tolist()\n",
    "# reindexing the test data as per train data\n",
    "input_test_processed = input_test_processed.reindex(columns=train_columns, fill_value=0)\n",
    "\n"
   ]
  },
  {
   "cell_type": "markdown",
   "id": "37663872",
   "metadata": {
    "id": "37663872"
   },
   "source": [
    "### Task 1D:\n",
    "Scale training and testing data using StandardScaler method.\n",
    "\n",
    "Tip: only transform the testing data."
   ]
  },
  {
   "cell_type": "code",
   "execution_count": 8,
   "id": "161c6e5d",
   "metadata": {
    "id": "161c6e5d"
   },
   "outputs": [],
   "source": [
    "from sklearn.preprocessing import StandardScaler\n",
    "scaler = StandardScaler()\n",
    "# we are scaling the features of trained data on scaler using standard scaler\n",
    "input_train_scaled = scaler.fit_transform(input_train_processed)\n",
    "# using the above scaled features we are transforming the test data\n",
    "input_test_scaled = scaler.transform(input_test_processed)"
   ]
  },
  {
   "cell_type": "markdown",
   "id": "5a0f01ef",
   "metadata": {
    "id": "5a0f01ef"
   },
   "source": [
    "### Task 1E:\n",
    "\n",
    "Finally!\n",
    "1. Define Logistic Regression. Don't yet fit the model.\n",
    "2. Use class_weight with 'balanced' to penalize the False positives more as the the class is imbalanced.\n",
    "3. Use Repeated stratified K Fold method with 5 splits, 3 repeats and roc_auc scoring.\n",
    "4. Print the mean of roc_auc scores."
   ]
  },
  {
   "cell_type": "markdown",
   "id": "mu9-7O-rAqq_",
   "metadata": {
    "id": "mu9-7O-rAqq_"
   },
   "source": [
    "Logistic Regression : A statistical technique for binary classification tasks is logistic regression. It is a kind of generalized linear model that forecasts the likelihood that a given instance will belong to a certain class. The logistic function (sigmoid function), which maps the continuous output to a probability value between 0 and 1, is used to modify the output in logistic regression. The instance is classed as belonging to the positive class if the probability is greater than or equal to a certain threshold, which is typically 0.5; otherwise, it belongs to the negative class."
   ]
  },
  {
   "cell_type": "code",
   "execution_count": 9,
   "id": "RKiTZskg2vhR",
   "metadata": {
    "colab": {
     "base_uri": "https://localhost:8080/"
    },
    "id": "RKiTZskg2vhR",
    "outputId": "78bb5613-50f5-44f3-bb04-a58793d1c44b"
   },
   "outputs": [
    {
     "name": "stdout",
     "output_type": "stream",
     "text": [
      "Mean ROC AUC Score: 0.8986128673663194\n"
     ]
    }
   ],
   "source": [
    "import pandas as pd\n",
    "from sklearn.model_selection import RepeatedStratifiedKFold\n",
    "from sklearn.linear_model import LogisticRegression\n",
    "from sklearn.metrics import roc_auc_score\n",
    "from sklearn.preprocessing import StandardScaler\n",
    "\n",
    "\n",
    "# defining the Logistic Regression model with class_weight='balanced' on log_reg_model\n",
    "log_reg_model = LogisticRegression(class_weight='balanced', random_state=42)\n",
    "\n",
    "# defining the RepeatedStratifiedKFold with 5 splits and 3 repeats as rskf\n",
    "rskf = RepeatedStratifiedKFold(n_splits=5, n_repeats=3, random_state=42)\n",
    "\n",
    "\n",
    "roc_auc_scores = []\n",
    "\n",
    "# Performing cross-validation on scaled trained input data and training output data\n",
    "for train_index, test_index in rskf.split(input_train_scaled,output_train):\n",
    "    X_train, X_test = input_train_scaled[train_index], input_train_scaled[test_index]\n",
    "    y_train, y_test = output_train.iloc[train_index], output_train.iloc[test_index]\n",
    "\n",
    "\n",
    "    # Fitting the Logistic Regression model on the scaled training data\n",
    "    log_reg_model.fit(X_train, y_train)\n",
    "\n",
    "    # Predict the probabilities of positive class (class '1') on the scaled test data\n",
    "    y_pred_proba = log_reg_model.predict_proba(X_test)[:, 1]\n",
    "\n",
    "    # Calculate the ROC AUC score for the current fold\n",
    "    roc_auc = roc_auc_score(y_test, y_pred_proba)\n",
    "\n",
    "\n",
    "    roc_auc_scores.append(roc_auc)\n",
    "\n",
    "# Calculate and print the mean ROC AUC score\n",
    "mean_roc_auc = sum(roc_auc_scores) / len(roc_auc_scores)\n",
    "print(\"Mean ROC AUC Score:\", mean_roc_auc)\n"
   ]
  },
  {
   "cell_type": "markdown",
   "id": "9f6d63da",
   "metadata": {
    "id": "9f6d63da"
   },
   "source": [
    "Fit the training data"
   ]
  },
  {
   "cell_type": "code",
   "execution_count": 10,
   "id": "e7f9f495",
   "metadata": {
    "colab": {
     "base_uri": "https://localhost:8080/",
     "height": 75
    },
    "id": "e7f9f495",
    "outputId": "9ad67182-efbf-4fe1-ce80-93859c5122ab"
   },
   "outputs": [
    {
     "data": {
      "text/plain": [
       "LogisticRegression(class_weight='balanced', random_state=42)"
      ]
     },
     "execution_count": 10,
     "metadata": {},
     "output_type": "execute_result"
    }
   ],
   "source": [
    "from sklearn.linear_model import LogisticRegression\n",
    "log_reg_model = LogisticRegression(class_weight='balanced', random_state=42)\n",
    "log_reg_model.fit(input_train_scaled, output_train)"
   ]
  },
  {
   "cell_type": "markdown",
   "id": "4e9c4c5c",
   "metadata": {
    "id": "4e9c4c5c"
   },
   "source": [
    "### Task 1F:\n",
    "\n",
    "1. Predict class for testing data.\n",
    "2. Create another dataframe which contains actual y values and y test probability values from model.\n",
    "\n",
    "Note: y test probablity values are for the event(ie 1, Spam)"
   ]
  },
  {
   "cell_type": "code",
   "execution_count": 11,
   "id": "b1e99d9e",
   "metadata": {
    "colab": {
     "base_uri": "https://localhost:8080/"
    },
    "id": "b1e99d9e",
    "outputId": "45221995-3923-4fde-db08-adbc2e9e366f"
   },
   "outputs": [
    {
     "name": "stdout",
     "output_type": "stream",
     "text": [
      "       Actual  Predicted  Probability\n",
      "1392        0          0     0.033406\n",
      "7518        0          0     0.035592\n",
      "12007       0          0     0.066980\n",
      "5536        0          0     0.016049\n",
      "29816       0          0     0.204525\n",
      "...       ...        ...          ...\n",
      "12636       0          1     0.679741\n",
      "13364       0          0     0.169974\n",
      "16102       0          0     0.372271\n",
      "42097       0          0     0.477334\n",
      "31033       0          0     0.113255\n",
      "\n",
      "[9043 rows x 3 columns]\n"
     ]
    }
   ],
   "source": [
    "output_test_pred = log_reg_model.predict(input_test_scaled)\n",
    "output_test_pred_prob = log_reg_model.predict_proba(input_test_scaled)[:, 1]\n",
    "results = pd.DataFrame({\"Actual\": output_test, \"Predicted\": output_test_pred, \"Probability\": output_test_pred_prob})\n",
    "print(results)"
   ]
  },
  {
   "cell_type": "markdown",
   "id": "6103688f",
   "metadata": {
    "id": "6103688f"
   },
   "source": [
    "### Task 1G: \n",
    "1. Define a threshold of 0.5 and add column y test prediction based on the probabilities predicted for the thresholds.\n",
    "2. Print the confusion matrix\n",
    "3. Plot ROC_AUC curve\n",
    "4. Print the AUC_ROC score for actual and predict y."
   ]
  },
  {
   "cell_type": "code",
   "execution_count": 12,
   "id": "w_7Rk2MPDPod",
   "metadata": {
    "colab": {
     "base_uri": "https://localhost:8080/"
    },
    "id": "w_7Rk2MPDPod",
    "outputId": "46eed40f-7aaa-422e-9042-e34819a26f6c"
   },
   "outputs": [
    {
     "name": "stdout",
     "output_type": "stream",
     "text": [
      "Confusion Matrix:\n",
      "[[6671 1314]\n",
      " [ 211  847]]\n"
     ]
    }
   ],
   "source": [
    "import numpy as np\n",
    "import matplotlib.pyplot as plt\n",
    "from sklearn.metrics import confusion_matrix, roc_curve, auc\n",
    "\n",
    "# Define threshold of 0.5 and add a column for y test prediction based on probabilities\n",
    "threshold = 0.5\n",
    "results[\"Threshold_Prediction\"] = np.where(results[\"Probability\"] >= threshold, 1, 0)\n",
    "\n",
    "# Print confusion matrix\n",
    "conf_matrix = confusion_matrix(output_test, results[\"Threshold_Prediction\"])\n",
    "print(\"Confusion Matrix:\")\n",
    "print(conf_matrix)"
   ]
  },
  {
   "cell_type": "code",
   "execution_count": 13,
   "id": "eJso29TIDYLg",
   "metadata": {
    "colab": {
     "base_uri": "https://localhost:8080/",
     "height": 564
    },
    "id": "eJso29TIDYLg",
    "outputId": "90c736bf-e127-466a-8860-a872f2642b6a"
   },
   "outputs": [
    {
     "data": {
      "image/png": "[encoded data removed]",
      "text/plain": [
       "<Figure size 576x432 with 1 Axes>"
      ]
     },
     "metadata": {
      "needs_background": "light"
     },
     "output_type": "display_data"
    }
   ],
   "source": [
    "# Plot ROC-AUC curve\n",
    "f_pr, t_pr, thresholds = roc_curve(output_test, results[\"Probability\"])\n",
    "roc_auc = auc(f_pr, t_pr)\n",
    "\n",
    "plt.figure(figsize=(8, 6))\n",
    "plt.plot(f_pr, t_pr, color='darkorange', lw=2, label='ROC curve (area = %0.2f)' % roc_auc)\n",
    "plt.plot([0, 1], [0, 1], color='navy', lw=2, linestyle='--')\n",
    "plt.xlim([0.0, 1.0])\n",
    "plt.ylim([0.0, 1.05])\n",
    "plt.xlabel('False Positive Rate')\n",
    "plt.ylabel('True Positive Rate')\n",
    "plt.title('Receiver Operating Characteristic (ROC) Curve')\n",
    "plt.legend(loc=\"lower right\")\n",
    "plt.show()"
   ]
  },
  {
   "cell_type": "code",
   "execution_count": 14,
   "id": "30d88def",
   "metadata": {
    "colab": {
     "base_uri": "https://localhost:8080/"
    },
    "id": "30d88def",
    "outputId": "279cc183-e287-41b5-ad91-5a67f2f9b031"
   },
   "outputs": [
    {
     "name": "stdout",
     "output_type": "stream",
     "text": [
      "AUC-ROC Score: 0.8961469579658458\n"
     ]
    }
   ],
   "source": [
    "print(\"AUC-ROC Score:\", roc_auc)"
   ]
  },
  {
   "cell_type": "markdown",
   "id": "08aa691b",
   "metadata": {
    "id": "08aa691b"
   },
   "source": [
    "#comment your interpretations here.\n",
    "\n",
    "Mean ROC AUC Score (0.896):\n",
    "The model adeptly discerns between clients who choose to subscribe and those who do not.\n",
    "It excels in tasks involving binary classification, boasting a robust AUC-ROC score.\n",
    "\n",
    "Confusion Matrix:\n",
    "True Positives (TP) and True Negatives (TN) signify the model's accurate identification of subscribing and non-subscribing clients.\n",
    "\n",
    "Balanced Performance:\n",
    "The class-weighted logistic regression method effectively strikes a balance between precision and recall, which is pivotal in scenarios with imbalanced datasets.\n",
    "\n",
    "Model Utility:\n",
    "The model holds substantial value in pinpointing prospective subscribing clients, resulting in cost savings in marketing efforts and improved targeting.\n",
    "\n",
    "Fine-Tuning Options:\n",
    "The model's threshold is flexible, enabling optimization for precision or recall based on the unique objectives of the project."
   ]
  },
  {
   "cell_type": "markdown",
   "id": "7ab51ea4",
   "metadata": {
    "id": "7ab51ea4"
   },
   "source": [
    "## Task 2: NLP on  Email Data"
   ]
  },
  {
   "cell_type": "markdown",
   "id": "261865f6",
   "metadata": {
    "id": "261865f6"
   },
   "source": [
    "Next up! This task involves applying NLP techniques on the data which consists of text from the email sent and their classification whether they are Spam or not Spam(Ham).\n",
    "\n",
    "Simply run below cell to read and display the data"
   ]
  },
  {
   "cell_type": "code",
   "execution_count": 15,
   "id": "88cf6a6a",
   "metadata": {
    "colab": {
     "base_uri": "https://localhost:8080/",
     "height": 833
    },
    "id": "88cf6a6a",
    "outputId": "03820bc0-38a1-48f6-ef1c-8114c8d3fd84"
   },
   "outputs": [
    {
     "data": {
      "text/html": [
       "<div>\n",
       "<style scoped>\n",
       "    .dataframe tbody tr th:only-of-type {\n",
       "        vertical-align: middle;\n",
       "    }\n",
       "\n",
       "    .dataframe tbody tr th {\n",
       "        vertical-align: top;\n",
       "    }\n",
       "\n",
       "    .dataframe thead th {\n",
       "        text-align: right;\n",
       "    }\n",
       "</style>\n",
       "<table border=\"1\" class=\"dataframe\">\n",
       "  <thead>\n",
       "    <tr style=\"text-align: right;\">\n",
       "      <th></th>\n",
       "      <th>Category</th>\n",
       "      <th>Message</th>\n",
       "    </tr>\n",
       "  </thead>\n",
       "  <tbody>\n",
       "    <tr>\n",
       "      <th>0</th>\n",
       "      <td>ham</td>\n",
       "      <td>Go until jurong point, crazy.. Available only ...</td>\n",
       "    </tr>\n",
       "    <tr>\n",
       "      <th>1</th>\n",
       "      <td>ham</td>\n",
       "      <td>Ok lar... Joking wif u oni...</td>\n",
       "    </tr>\n",
       "    <tr>\n",
       "      <th>2</th>\n",
       "      <td>spam</td>\n",
       "      <td>Free entry in 2 a wkly comp to win FA Cup fina...</td>\n",
       "    </tr>\n",
       "    <tr>\n",
       "      <th>3</th>\n",
       "      <td>ham</td>\n",
       "      <td>U dun say so early hor... U c already then say...</td>\n",
       "    </tr>\n",
       "    <tr>\n",
       "      <th>4</th>\n",
       "      <td>ham</td>\n",
       "      <td>Nah I don't think he goes to usf, he lives aro...</td>\n",
       "    </tr>\n",
       "    <tr>\n",
       "      <th>5</th>\n",
       "      <td>spam</td>\n",
       "      <td>FreeMsg Hey there darling it's been 3 week's n...</td>\n",
       "    </tr>\n",
       "    <tr>\n",
       "      <th>6</th>\n",
       "      <td>ham</td>\n",
       "      <td>Even my brother is not like to speak with me. ...</td>\n",
       "    </tr>\n",
       "    <tr>\n",
       "      <th>7</th>\n",
       "      <td>ham</td>\n",
       "      <td>As per your request 'Melle Melle (Oru Minnamin...</td>\n",
       "    </tr>\n",
       "    <tr>\n",
       "      <th>8</th>\n",
       "      <td>spam</td>\n",
       "      <td>WINNER!! As a valued network customer you have...</td>\n",
       "    </tr>\n",
       "    <tr>\n",
       "      <th>9</th>\n",
       "      <td>spam</td>\n",
       "      <td>Had your mobile 11 months or more? U R entitle...</td>\n",
       "    </tr>\n",
       "    <tr>\n",
       "      <th>10</th>\n",
       "      <td>ham</td>\n",
       "      <td>I'm gonna be home soon and i don't want to tal...</td>\n",
       "    </tr>\n",
       "    <tr>\n",
       "      <th>11</th>\n",
       "      <td>spam</td>\n",
       "      <td>SIX chances to win CASH! From 100 to 20,000 po...</td>\n",
       "    </tr>\n",
       "    <tr>\n",
       "      <th>12</th>\n",
       "      <td>spam</td>\n",
       "      <td>URGENT! You have won a 1 week FREE membership ...</td>\n",
       "    </tr>\n",
       "    <tr>\n",
       "      <th>13</th>\n",
       "      <td>ham</td>\n",
       "      <td>I've been searching for the right words to tha...</td>\n",
       "    </tr>\n",
       "    <tr>\n",
       "      <th>14</th>\n",
       "      <td>ham</td>\n",
       "      <td>I HAVE A DATE ON SUNDAY WITH WILL!!</td>\n",
       "    </tr>\n",
       "    <tr>\n",
       "      <th>15</th>\n",
       "      <td>spam</td>\n",
       "      <td>XXXMobileMovieClub: To use your credit, click ...</td>\n",
       "    </tr>\n",
       "    <tr>\n",
       "      <th>16</th>\n",
       "      <td>ham</td>\n",
       "      <td>Oh k...i'm watching here:)</td>\n",
       "    </tr>\n",
       "    <tr>\n",
       "      <th>17</th>\n",
       "      <td>ham</td>\n",
       "      <td>Eh u remember how 2 spell his name... Yes i di...</td>\n",
       "    </tr>\n",
       "    <tr>\n",
       "      <th>18</th>\n",
       "      <td>ham</td>\n",
       "      <td>Fine if thats the way u feel. Thats the way ...</td>\n",
       "    </tr>\n",
       "    <tr>\n",
       "      <th>19</th>\n",
       "      <td>spam</td>\n",
       "      <td>England v Macedonia - dont miss the goals/team...</td>\n",
       "    </tr>\n",
       "    <tr>\n",
       "      <th>20</th>\n",
       "      <td>ham</td>\n",
       "      <td>Is that seriously how you spell his name?</td>\n",
       "    </tr>\n",
       "    <tr>\n",
       "      <th>21</th>\n",
       "      <td>ham</td>\n",
       "      <td>I‘m going to try for 2 months ha ha only joking</td>\n",
       "    </tr>\n",
       "    <tr>\n",
       "      <th>22</th>\n",
       "      <td>ham</td>\n",
       "      <td>So ü pay first lar... Then when is da stock co...</td>\n",
       "    </tr>\n",
       "    <tr>\n",
       "      <th>23</th>\n",
       "      <td>ham</td>\n",
       "      <td>Aft i finish my lunch then i go str down lor. ...</td>\n",
       "    </tr>\n",
       "    <tr>\n",
       "      <th>24</th>\n",
       "      <td>ham</td>\n",
       "      <td>Ffffffffff. Alright no way I can meet up with ...</td>\n",
       "    </tr>\n",
       "  </tbody>\n",
       "</table>\n",
       "</div>"
      ],
      "text/plain": [
       "   Category                                            Message\n",
       "0       ham  Go until jurong point, crazy.. Available only ...\n",
       "1       ham                      Ok lar... Joking wif u oni...\n",
       "2      spam  Free entry in 2 a wkly comp to win FA Cup fina...\n",
       "3       ham  U dun say so early hor... U c already then say...\n",
       "4       ham  Nah I don't think he goes to usf, he lives aro...\n",
       "5      spam  FreeMsg Hey there darling it's been 3 week's n...\n",
       "6       ham  Even my brother is not like to speak with me. ...\n",
       "7       ham  As per your request 'Melle Melle (Oru Minnamin...\n",
       "8      spam  WINNER!! As a valued network customer you have...\n",
       "9      spam  Had your mobile 11 months or more? U R entitle...\n",
       "10      ham  I'm gonna be home soon and i don't want to tal...\n",
       "11     spam  SIX chances to win CASH! From 100 to 20,000 po...\n",
       "12     spam  URGENT! You have won a 1 week FREE membership ...\n",
       "13      ham  I've been searching for the right words to tha...\n",
       "14      ham                I HAVE A DATE ON SUNDAY WITH WILL!!\n",
       "15     spam  XXXMobileMovieClub: To use your credit, click ...\n",
       "16      ham                         Oh k...i'm watching here:)\n",
       "17      ham  Eh u remember how 2 spell his name... Yes i di...\n",
       "18      ham  Fine if thats the way u feel. Thats the way ...\n",
       "19     spam  England v Macedonia - dont miss the goals/team...\n",
       "20      ham          Is that seriously how you spell his name?\n",
       "21      ham    I‘m going to try for 2 months ha ha only joking\n",
       "22      ham  So ü pay first lar... Then when is da stock co...\n",
       "23      ham  Aft i finish my lunch then i go str down lor. ...\n",
       "24      ham  Ffffffffff. Alright no way I can meet up with ..."
      ]
     },
     "execution_count": 15,
     "metadata": {},
     "output_type": "execute_result"
    }
   ],
   "source": [
    "import pandas as pd\n",
    "import matplotlib.pyplot as plt\n",
    "\n",
    "\n",
    "email_data = pd.read_csv(\"spam.csv\")\n",
    "\n",
    "email_data.head(25)"
   ]
  },
  {
   "cell_type": "markdown",
   "id": "92b81047",
   "metadata": {
    "id": "92b81047"
   },
   "source": [
    "### Task 2A: \n",
    "\n",
    "1. Map the 'Category' variable to 1-spam and 0-ham.\n",
    "2. Display a pie chart for the distribution of two categories of emails.\n",
    "3. The pie chart should have title, the name and percentage of each category and startangle equal to 90.\n",
    "4. Use explode feature for spam category."
   ]
  },
  {
   "cell_type": "code",
   "execution_count": 16,
   "id": "5e7a5fa5",
   "metadata": {
    "colab": {
     "base_uri": "https://localhost:8080/",
     "height": 175
    },
    "id": "5e7a5fa5",
    "outputId": "b6bc2474-45c5-468d-dab2-ac3ab13470a3"
   },
   "outputs": [
    {
     "data": {
      "text/html": [
       "<div>\n",
       "<style scoped>\n",
       "    .dataframe tbody tr th:only-of-type {\n",
       "        vertical-align: middle;\n",
       "    }\n",
       "\n",
       "    .dataframe tbody tr th {\n",
       "        vertical-align: top;\n",
       "    }\n",
       "\n",
       "    .dataframe thead th {\n",
       "        text-align: right;\n",
       "    }\n",
       "</style>\n",
       "<table border=\"1\" class=\"dataframe\">\n",
       "  <thead>\n",
       "    <tr style=\"text-align: right;\">\n",
       "      <th></th>\n",
       "      <th>Category</th>\n",
       "      <th>Message</th>\n",
       "    </tr>\n",
       "  </thead>\n",
       "  <tbody>\n",
       "    <tr>\n",
       "      <th>count</th>\n",
       "      <td>5572</td>\n",
       "      <td>5572</td>\n",
       "    </tr>\n",
       "    <tr>\n",
       "      <th>unique</th>\n",
       "      <td>2</td>\n",
       "      <td>5157</td>\n",
       "    </tr>\n",
       "    <tr>\n",
       "      <th>top</th>\n",
       "      <td>ham</td>\n",
       "      <td>Sorry, I'll call later</td>\n",
       "    </tr>\n",
       "    <tr>\n",
       "      <th>freq</th>\n",
       "      <td>4825</td>\n",
       "      <td>30</td>\n",
       "    </tr>\n",
       "  </tbody>\n",
       "</table>\n",
       "</div>"
      ],
      "text/plain": [
       "       Category                 Message\n",
       "count      5572                    5572\n",
       "unique        2                    5157\n",
       "top         ham  Sorry, I'll call later\n",
       "freq       4825                      30"
      ]
     },
     "execution_count": 16,
     "metadata": {},
     "output_type": "execute_result"
    }
   ],
   "source": [
    "email_data.describe()"
   ]
  },
  {
   "cell_type": "code",
   "execution_count": 17,
   "id": "6kuwbKJlES14",
   "metadata": {
    "colab": {
     "base_uri": "https://localhost:8080/",
     "height": 677
    },
    "id": "6kuwbKJlES14",
    "outputId": "a84b02a3-b4ec-4da9-9bb7-64fa1a7d39f9"
   },
   "outputs": [
    {
     "data": {
      "text/html": [
       "<div>\n",
       "<style scoped>\n",
       "    .dataframe tbody tr th:only-of-type {\n",
       "        vertical-align: middle;\n",
       "    }\n",
       "\n",
       "    .dataframe tbody tr th {\n",
       "        vertical-align: top;\n",
       "    }\n",
       "\n",
       "    .dataframe thead th {\n",
       "        text-align: right;\n",
       "    }\n",
       "</style>\n",
       "<table border=\"1\" class=\"dataframe\">\n",
       "  <thead>\n",
       "    <tr style=\"text-align: right;\">\n",
       "      <th></th>\n",
       "      <th>Category</th>\n",
       "      <th>Message</th>\n",
       "    </tr>\n",
       "  </thead>\n",
       "  <tbody>\n",
       "    <tr>\n",
       "      <th>0</th>\n",
       "      <td>0</td>\n",
       "      <td>Go until jurong point, crazy.. Available only ...</td>\n",
       "    </tr>\n",
       "    <tr>\n",
       "      <th>1</th>\n",
       "      <td>0</td>\n",
       "      <td>Ok lar... Joking wif u oni...</td>\n",
       "    </tr>\n",
       "    <tr>\n",
       "      <th>2</th>\n",
       "      <td>1</td>\n",
       "      <td>Free entry in 2 a wkly comp to win FA Cup fina...</td>\n",
       "    </tr>\n",
       "    <tr>\n",
       "      <th>3</th>\n",
       "      <td>0</td>\n",
       "      <td>U dun say so early hor... U c already then say...</td>\n",
       "    </tr>\n",
       "    <tr>\n",
       "      <th>4</th>\n",
       "      <td>0</td>\n",
       "      <td>Nah I don't think he goes to usf, he lives aro...</td>\n",
       "    </tr>\n",
       "    <tr>\n",
       "      <th>5</th>\n",
       "      <td>1</td>\n",
       "      <td>FreeMsg Hey there darling it's been 3 week's n...</td>\n",
       "    </tr>\n",
       "    <tr>\n",
       "      <th>6</th>\n",
       "      <td>0</td>\n",
       "      <td>Even my brother is not like to speak with me. ...</td>\n",
       "    </tr>\n",
       "    <tr>\n",
       "      <th>7</th>\n",
       "      <td>0</td>\n",
       "      <td>As per your request 'Melle Melle (Oru Minnamin...</td>\n",
       "    </tr>\n",
       "    <tr>\n",
       "      <th>8</th>\n",
       "      <td>1</td>\n",
       "      <td>WINNER!! As a valued network customer you have...</td>\n",
       "    </tr>\n",
       "    <tr>\n",
       "      <th>9</th>\n",
       "      <td>1</td>\n",
       "      <td>Had your mobile 11 months or more? U R entitle...</td>\n",
       "    </tr>\n",
       "    <tr>\n",
       "      <th>10</th>\n",
       "      <td>0</td>\n",
       "      <td>I'm gonna be home soon and i don't want to tal...</td>\n",
       "    </tr>\n",
       "    <tr>\n",
       "      <th>11</th>\n",
       "      <td>1</td>\n",
       "      <td>SIX chances to win CASH! From 100 to 20,000 po...</td>\n",
       "    </tr>\n",
       "    <tr>\n",
       "      <th>12</th>\n",
       "      <td>1</td>\n",
       "      <td>URGENT! You have won a 1 week FREE membership ...</td>\n",
       "    </tr>\n",
       "    <tr>\n",
       "      <th>13</th>\n",
       "      <td>0</td>\n",
       "      <td>I've been searching for the right words to tha...</td>\n",
       "    </tr>\n",
       "    <tr>\n",
       "      <th>14</th>\n",
       "      <td>0</td>\n",
       "      <td>I HAVE A DATE ON SUNDAY WITH WILL!!</td>\n",
       "    </tr>\n",
       "    <tr>\n",
       "      <th>15</th>\n",
       "      <td>1</td>\n",
       "      <td>XXXMobileMovieClub: To use your credit, click ...</td>\n",
       "    </tr>\n",
       "    <tr>\n",
       "      <th>16</th>\n",
       "      <td>0</td>\n",
       "      <td>Oh k...i'm watching here:)</td>\n",
       "    </tr>\n",
       "    <tr>\n",
       "      <th>17</th>\n",
       "      <td>0</td>\n",
       "      <td>Eh u remember how 2 spell his name... Yes i di...</td>\n",
       "    </tr>\n",
       "    <tr>\n",
       "      <th>18</th>\n",
       "      <td>0</td>\n",
       "      <td>Fine if thats the way u feel. Thats the way ...</td>\n",
       "    </tr>\n",
       "    <tr>\n",
       "      <th>19</th>\n",
       "      <td>1</td>\n",
       "      <td>England v Macedonia - dont miss the goals/team...</td>\n",
       "    </tr>\n",
       "  </tbody>\n",
       "</table>\n",
       "</div>"
      ],
      "text/plain": [
       "   Category                                            Message\n",
       "0         0  Go until jurong point, crazy.. Available only ...\n",
       "1         0                      Ok lar... Joking wif u oni...\n",
       "2         1  Free entry in 2 a wkly comp to win FA Cup fina...\n",
       "3         0  U dun say so early hor... U c already then say...\n",
       "4         0  Nah I don't think he goes to usf, he lives aro...\n",
       "5         1  FreeMsg Hey there darling it's been 3 week's n...\n",
       "6         0  Even my brother is not like to speak with me. ...\n",
       "7         0  As per your request 'Melle Melle (Oru Minnamin...\n",
       "8         1  WINNER!! As a valued network customer you have...\n",
       "9         1  Had your mobile 11 months or more? U R entitle...\n",
       "10        0  I'm gonna be home soon and i don't want to tal...\n",
       "11        1  SIX chances to win CASH! From 100 to 20,000 po...\n",
       "12        1  URGENT! You have won a 1 week FREE membership ...\n",
       "13        0  I've been searching for the right words to tha...\n",
       "14        0                I HAVE A DATE ON SUNDAY WITH WILL!!\n",
       "15        1  XXXMobileMovieClub: To use your credit, click ...\n",
       "16        0                         Oh k...i'm watching here:)\n",
       "17        0  Eh u remember how 2 spell his name... Yes i di...\n",
       "18        0  Fine if thats the way u feel. Thats the way ...\n",
       "19        1  England v Macedonia - dont miss the goals/team..."
      ]
     },
     "execution_count": 17,
     "metadata": {},
     "output_type": "execute_result"
    }
   ],
   "source": [
    "#Map the 'Category' variable to 1-spam and 0-ham.\n",
    "email_data['Category'] =email_data['Category'].replace('spam', '1')\n",
    "email_data['Category'] =email_data['Category'].replace('ham', '0')\n",
    "email_data.head(20)"
   ]
  },
  {
   "cell_type": "code",
   "execution_count": 18,
   "id": "VEuJh0gOEWW3",
   "metadata": {
    "colab": {
     "base_uri": "https://localhost:8080/",
     "height": 442
    },
    "id": "VEuJh0gOEWW3",
    "outputId": "5673aaa0-631c-476d-e223-d79e5ffdf19a"
   },
   "outputs": [
    {
     "data": {
      "text/plain": [
       "<Figure size 432x432 with 0 Axes>"
      ]
     },
     "execution_count": 18,
     "metadata": {},
     "output_type": "execute_result"
    },
    {
     "data": {
      "image/png": "[encoded data removed]",
      "text/plain": [
       "<Figure size 432x288 with 1 Axes>"
      ]
     },
     "metadata": {},
     "output_type": "display_data"
    },
    {
     "data": {
      "text/plain": [
       "<Figure size 432x432 with 0 Axes>"
      ]
     },
     "metadata": {},
     "output_type": "display_data"
    }
   ],
   "source": [
    "#Display a pie chart for the distribution of two categories of emails.\n",
    "category_piecounts = email_data['Category'].value_counts()\n",
    "\n",
    "plt.pie(category_piecounts, labels=category_piecounts.index)\n",
    "\n",
    "plt.figure(figsize=(6, 6))"
   ]
  },
  {
   "cell_type": "code",
   "execution_count": 19,
   "id": "aOFiqit0byLt",
   "metadata": {
    "colab": {
     "base_uri": "https://localhost:8080/",
     "height": 464
    },
    "id": "aOFiqit0byLt",
    "outputId": "03e21695-e105-4fe1-9407-efd5baa84a84"
   },
   "outputs": [
    {
     "data": {
      "text/plain": [
       "<Figure size 432x432 with 0 Axes>"
      ]
     },
     "execution_count": 19,
     "metadata": {},
     "output_type": "execute_result"
    },
    {
     "data": {
      "image/png": "[encoded data removed]",
      "text/plain": [
       "<Figure size 432x288 with 1 Axes>"
      ]
     },
     "metadata": {},
     "output_type": "display_data"
    },
    {
     "data": {
      "text/plain": [
       "<Figure size 432x432 with 0 Axes>"
      ]
     },
     "metadata": {},
     "output_type": "display_data"
    }
   ],
   "source": [
    "#The pie chart should have title, the name and percentage of each category and startangle equal to 90.\n",
    "for i, count in enumerate(category_piecounts):\n",
    "    plt.text(0.5, -0.15 - i * 0.15, f\"{category_piecounts.index[i]}: {count} ({category_piecounts[i] / len(email_data) * 100:.1f}%)\", ha='center')\n",
    "plt.pie(category_piecounts, labels=category_piecounts.index,startangle=90)\n",
    "plt.title('Email Category Distribution')\n",
    "plt.legend(loc='upper right')\n",
    "plt.figure(figsize=(6, 6))"
   ]
  },
  {
   "cell_type": "code",
   "execution_count": 20,
   "id": "2hA-B3b1byR5",
   "metadata": {
    "colab": {
     "base_uri": "https://localhost:8080/",
     "height": 446
    },
    "id": "2hA-B3b1byR5",
    "outputId": "c9914224-0808-4ab9-826f-e10c3680de10"
   },
   "outputs": [
    {
     "data": {
      "image/png": "[encoded data removed]",
      "text/plain": [
       "<Figure size 432x288 with 1 Axes>"
      ]
     },
     "metadata": {},
     "output_type": "display_data"
    },
    {
     "data": {
      "text/plain": [
       "<Figure size 432x432 with 0 Axes>"
      ]
     },
     "metadata": {},
     "output_type": "display_data"
    }
   ],
   "source": [
    "#Use explode feature for spam category.\n",
    "explode = (0, 0.2)\n",
    "\n",
    "for i, count in enumerate(category_piecounts):\n",
    "    plt.text(0.5, -0.15 - i * 0.15, f\"{category_piecounts.index[i]}: {count} ({category_piecounts[i] / len(email_data) * 100:.1f}%)\", ha='center')\n",
    "\n",
    "plt.pie(category_piecounts, labels=category_piecounts.index, startangle=90, explode=explode)\n",
    "plt.title('Email Category Distribution')\n",
    "plt.legend(loc='upper right')\n",
    "plt.figure(figsize=(6, 6))\n",
    "plt.show()"
   ]
  },
  {
   "cell_type": "markdown",
   "id": "a559017b",
   "metadata": {
    "id": "a559017b"
   },
   "source": [
    "### Task 2B:\n",
    "Now its time to clean the text to keep as many as useful words for further processing.\n",
    "\n",
    "1. Remove special caharacters from the text.\n",
    "2. Remove stop words.\n",
    "3. Lemmatize the words.\n",
    "4. Keep only text that is alphabet and the length of the word is greater than 2.\n",
    "\n",
    "Note: Remember to lower the text before applying these cleaning techniques."
   ]
  },
  {
   "cell_type": "code",
   "execution_count": 21,
   "id": "90cf9f2f",
   "metadata": {
    "colab": {
     "base_uri": "https://localhost:8080/",
     "height": 206
    },
    "id": "90cf9f2f",
    "outputId": "4a9e45b4-7bd4-45d5-d579-faf272855ce4",
    "scrolled": true
   },
   "outputs": [
    {
     "data": {
      "text/html": [
       "<div>\n",
       "<style scoped>\n",
       "    .dataframe tbody tr th:only-of-type {\n",
       "        vertical-align: middle;\n",
       "    }\n",
       "\n",
       "    .dataframe tbody tr th {\n",
       "        vertical-align: top;\n",
       "    }\n",
       "\n",
       "    .dataframe thead th {\n",
       "        text-align: right;\n",
       "    }\n",
       "</style>\n",
       "<table border=\"1\" class=\"dataframe\">\n",
       "  <thead>\n",
       "    <tr style=\"text-align: right;\">\n",
       "      <th></th>\n",
       "      <th>Category</th>\n",
       "      <th>Message</th>\n",
       "    </tr>\n",
       "  </thead>\n",
       "  <tbody>\n",
       "    <tr>\n",
       "      <th>0</th>\n",
       "      <td>0</td>\n",
       "      <td>Go until jurong point, crazy.. Available only ...</td>\n",
       "    </tr>\n",
       "    <tr>\n",
       "      <th>1</th>\n",
       "      <td>0</td>\n",
       "      <td>Ok lar... Joking wif u oni...</td>\n",
       "    </tr>\n",
       "    <tr>\n",
       "      <th>2</th>\n",
       "      <td>1</td>\n",
       "      <td>Free entry in 2 a wkly comp to win FA Cup fina...</td>\n",
       "    </tr>\n",
       "    <tr>\n",
       "      <th>3</th>\n",
       "      <td>0</td>\n",
       "      <td>U dun say so early hor... U c already then say...</td>\n",
       "    </tr>\n",
       "    <tr>\n",
       "      <th>4</th>\n",
       "      <td>0</td>\n",
       "      <td>Nah I don't think he goes to usf, he lives aro...</td>\n",
       "    </tr>\n",
       "  </tbody>\n",
       "</table>\n",
       "</div>"
      ],
      "text/plain": [
       "  Category                                            Message\n",
       "0        0  Go until jurong point, crazy.. Available only ...\n",
       "1        0                      Ok lar... Joking wif u oni...\n",
       "2        1  Free entry in 2 a wkly comp to win FA Cup fina...\n",
       "3        0  U dun say so early hor... U c already then say...\n",
       "4        0  Nah I don't think he goes to usf, he lives aro..."
      ]
     },
     "execution_count": 21,
     "metadata": {},
     "output_type": "execute_result"
    }
   ],
   "source": [
    "email_data.head()"
   ]
  },
  {
   "cell_type": "code",
   "execution_count": 22,
   "id": "n-nVDUaVb5wQ",
   "metadata": {
    "colab": {
     "base_uri": "https://localhost:8080/",
     "height": 206
    },
    "id": "n-nVDUaVb5wQ",
    "outputId": "416f9414-51a1-4b37-8e8b-2612934bc0be"
   },
   "outputs": [
    {
     "data": {
      "text/html": [
       "<div>\n",
       "<style scoped>\n",
       "    .dataframe tbody tr th:only-of-type {\n",
       "        vertical-align: middle;\n",
       "    }\n",
       "\n",
       "    .dataframe tbody tr th {\n",
       "        vertical-align: top;\n",
       "    }\n",
       "\n",
       "    .dataframe thead th {\n",
       "        text-align: right;\n",
       "    }\n",
       "</style>\n",
       "<table border=\"1\" class=\"dataframe\">\n",
       "  <thead>\n",
       "    <tr style=\"text-align: right;\">\n",
       "      <th></th>\n",
       "      <th>Category</th>\n",
       "      <th>Message</th>\n",
       "    </tr>\n",
       "  </thead>\n",
       "  <tbody>\n",
       "    <tr>\n",
       "      <th>0</th>\n",
       "      <td>0</td>\n",
       "      <td>Go until jurong point, crazy.. Available only ...</td>\n",
       "    </tr>\n",
       "    <tr>\n",
       "      <th>1</th>\n",
       "      <td>0</td>\n",
       "      <td>Ok lar... Joking wif u oni...</td>\n",
       "    </tr>\n",
       "    <tr>\n",
       "      <th>2</th>\n",
       "      <td>1</td>\n",
       "      <td>Free entry in 2 a wkly comp to win FA Cup fina...</td>\n",
       "    </tr>\n",
       "    <tr>\n",
       "      <th>3</th>\n",
       "      <td>0</td>\n",
       "      <td>U dun say so early hor... U c already then say...</td>\n",
       "    </tr>\n",
       "    <tr>\n",
       "      <th>4</th>\n",
       "      <td>0</td>\n",
       "      <td>Nah I don't think he goes to usf, he lives aro...</td>\n",
       "    </tr>\n",
       "  </tbody>\n",
       "</table>\n",
       "</div>"
      ],
      "text/plain": [
       "  Category                                            Message\n",
       "0        0  Go until jurong point, crazy.. Available only ...\n",
       "1        0                      Ok lar... Joking wif u oni...\n",
       "2        1  Free entry in 2 a wkly comp to win FA Cup fina...\n",
       "3        0  U dun say so early hor... U c already then say...\n",
       "4        0  Nah I don't think he goes to usf, he lives aro..."
      ]
     },
     "execution_count": 22,
     "metadata": {},
     "output_type": "execute_result"
    }
   ],
   "source": [
    "email_data['Message'] = email_data['Message'].str.strip()\n",
    "email_data.head()"
   ]
  },
  {
   "cell_type": "code",
   "execution_count": 23,
   "id": "fde145af",
   "metadata": {},
   "outputs": [
    {
     "name": "stderr",
     "output_type": "stream",
     "text": [
      "[nltk_data] Downloading package omw-1.4 to\n",
      "[nltk_data]     /Users/akhilreddybokkala/nltk_data...\n",
      "[nltk_data]   Package omw-1.4 is already up-to-date!\n"
     ]
    },
    {
     "data": {
      "text/plain": [
       "True"
      ]
     },
     "execution_count": 23,
     "metadata": {},
     "output_type": "execute_result"
    }
   ],
   "source": [
    "import nltk\n",
    "nltk.download('omw-1.4')\n"
   ]
  },
  {
   "cell_type": "code",
   "execution_count": 24,
   "id": "HCo4UbhIb54Y",
   "metadata": {
    "colab": {
     "base_uri": "https://localhost:8080/"
    },
    "id": "HCo4UbhIb54Y",
    "outputId": "4fb18bb8-7d55-43fe-ba51-5f08d0f0a449"
   },
   "outputs": [
    {
     "name": "stderr",
     "output_type": "stream",
     "text": [
      "[nltk_data] Downloading package stopwords to\n",
      "[nltk_data]     /Users/akhilreddybokkala/nltk_data...\n",
      "[nltk_data]   Package stopwords is already up-to-date!\n",
      "[nltk_data] Downloading package punkt to\n",
      "[nltk_data]     /Users/akhilreddybokkala/nltk_data...\n",
      "[nltk_data]   Package punkt is already up-to-date!\n",
      "[nltk_data] Downloading package wordnet to\n",
      "[nltk_data]     /Users/akhilreddybokkala/nltk_data...\n",
      "[nltk_data]   Package wordnet is already up-to-date!\n"
     ]
    },
    {
     "name": "stdout",
     "output_type": "stream",
     "text": [
      "  Category                                            Message\n",
      "0        0  jurong point crazy Available bugis great world...\n",
      "1        0                                 lar Joking wif oni\n",
      "2        1  Free entry wkly comp win Cup final tkts May Te...\n",
      "3        0                      dun say early hor already say\n",
      "4        0              Nah dont think usf life around though\n"
     ]
    }
   ],
   "source": [
    "#loading the libraries\n",
    "import re\n",
    "from nltk.corpus import stopwords\n",
    "from nltk.tokenize import word_tokenize\n",
    "from nltk.stem import WordNetLemmatizer\n",
    "import nltk\n",
    "\n",
    "# Load NLTK resources\n",
    "nltk.download('stopwords')\n",
    "nltk.download('punkt')\n",
    "nltk.download('wordnet')\n",
    "\n",
    "# Define cleaning functions\n",
    "def remove_special_characters(text):\n",
    "    # Remove special characters and digits\n",
    "    text = re.sub(r'[^a-zA-Z\\s]', '', text)\n",
    "    return text\n",
    "\n",
    "def remove_stop_words(text):\n",
    "    stop_words = set(stopwords.words('english'))\n",
    "    words = word_tokenize(text)\n",
    "    filtered_words = [word for word in words if word.lower() not in stop_words]\n",
    "    return ' '.join(filtered_words)\n",
    "\n",
    "def lemmatize_words(text):\n",
    "    lemmatizer = WordNetLemmatizer()\n",
    "    words = word_tokenize(text)\n",
    "    lemmatized_words = [lemmatizer.lemmatize(word) for word in words]\n",
    "    return ' '.join(lemmatized_words)\n",
    "\n",
    "def filter_words(text):\n",
    "    words = word_tokenize(text)\n",
    "    filtered_words = [word for word in words if word.isalpha() and len(word) > 2]\n",
    "    return ' '.join(filtered_words)\n",
    "\n",
    "# Apply cleaning functions to the 'message' column\n",
    "email_data['Message'] = email_data['Message'].apply(remove_special_characters)\n",
    "email_data['Message'] = email_data['Message'].apply(remove_stop_words)\n",
    "email_data['Message'] = email_data['Message'].apply(lemmatize_words)\n",
    "email_data['Message'] = email_data['Message'].apply(filter_words)\n",
    "\n",
    "# Print the cleaned DataFrame\n",
    "print(email_data.head())\n"
   ]
  },
  {
   "cell_type": "code",
   "execution_count": 25,
   "id": "CuHAyFX9cD4A",
   "metadata": {
    "colab": {
     "base_uri": "https://localhost:8080/",
     "height": 206
    },
    "id": "CuHAyFX9cD4A",
    "outputId": "6cbd097b-ec9d-4588-d00b-d2eb6f98410a"
   },
   "outputs": [
    {
     "data": {
      "text/html": [
       "<div>\n",
       "<style scoped>\n",
       "    .dataframe tbody tr th:only-of-type {\n",
       "        vertical-align: middle;\n",
       "    }\n",
       "\n",
       "    .dataframe tbody tr th {\n",
       "        vertical-align: top;\n",
       "    }\n",
       "\n",
       "    .dataframe thead th {\n",
       "        text-align: right;\n",
       "    }\n",
       "</style>\n",
       "<table border=\"1\" class=\"dataframe\">\n",
       "  <thead>\n",
       "    <tr style=\"text-align: right;\">\n",
       "      <th></th>\n",
       "      <th>Category</th>\n",
       "      <th>Message</th>\n",
       "    </tr>\n",
       "  </thead>\n",
       "  <tbody>\n",
       "    <tr>\n",
       "      <th>0</th>\n",
       "      <td>0</td>\n",
       "      <td>jurong point crazy Available bugis great world...</td>\n",
       "    </tr>\n",
       "    <tr>\n",
       "      <th>1</th>\n",
       "      <td>0</td>\n",
       "      <td>lar Joking wif oni</td>\n",
       "    </tr>\n",
       "    <tr>\n",
       "      <th>2</th>\n",
       "      <td>1</td>\n",
       "      <td>Free entry wkly comp win Cup final tkts May Te...</td>\n",
       "    </tr>\n",
       "    <tr>\n",
       "      <th>3</th>\n",
       "      <td>0</td>\n",
       "      <td>dun say early hor already say</td>\n",
       "    </tr>\n",
       "    <tr>\n",
       "      <th>4</th>\n",
       "      <td>0</td>\n",
       "      <td>Nah dont think usf life around though</td>\n",
       "    </tr>\n",
       "  </tbody>\n",
       "</table>\n",
       "</div>"
      ],
      "text/plain": [
       "  Category                                            Message\n",
       "0        0  jurong point crazy Available bugis great world...\n",
       "1        0                                 lar Joking wif oni\n",
       "2        1  Free entry wkly comp win Cup final tkts May Te...\n",
       "3        0                      dun say early hor already say\n",
       "4        0              Nah dont think usf life around though"
      ]
     },
     "execution_count": 25,
     "metadata": {},
     "output_type": "execute_result"
    }
   ],
   "source": [
    "email_data.head()"
   ]
  },
  {
   "cell_type": "markdown",
   "id": "b99c0f89",
   "metadata": {
    "id": "b99c0f89"
   },
   "source": [
    "### Task 2C: \n",
    "\n",
    "1. Split the data into training/testing with 80-20 ration and stratify\n",
    "2. Also define startified kfold with 3 splits."
   ]
  },
  {
   "cell_type": "code",
   "execution_count": 26,
   "id": "6bf061c4",
   "metadata": {
    "colab": {
     "base_uri": "https://localhost:8080/"
    },
    "id": "6bf061c4",
    "outputId": "817cd9ef-020d-4204-e7b3-1d6f01c81aab"
   },
   "outputs": [
    {
     "name": "stdout",
     "output_type": "stream",
     "text": [
      "Training set shape: (4457,) (4457,)\n",
      "Testing set shape: (1115,) (1115,)\n"
     ]
    }
   ],
   "source": [
    "#loading the Stratifold\n",
    "from sklearn.model_selection import train_test_split, StratifiedKFold\n",
    "\n",
    "# Split the data into features (X) and target (y)\n",
    "X = email_data[ 'Message']\n",
    "y = email_data['Category']\n",
    "\n",
    "#Split the data into training/testing with 80-20 ration and stratify\n",
    "X_train, X_test, y_train, y_test = train_test_split(X, y, test_size=0.2, stratify=y, random_state=42)\n",
    "\n",
    "# Print the shapes of the resulting sets to confirm the stratified split\n",
    "print(\"Training set shape:\", X_train.shape, y_train.shape)\n",
    "print(\"Testing set shape:\", X_test.shape, y_test.shape)\n"
   ]
  },
  {
   "cell_type": "code",
   "execution_count": 27,
   "id": "Uku_3YkbcIks",
   "metadata": {
    "colab": {
     "base_uri": "https://localhost:8080/"
    },
    "id": "Uku_3YkbcIks",
    "outputId": "69cd8faf-f99c-4edb-bb49-d71f3a81e1e7"
   },
   "outputs": [
    {
     "data": {
      "text/plain": [
       "StratifiedKFold(n_splits=3, random_state=42, shuffle=True)"
      ]
     },
     "execution_count": 27,
     "metadata": {},
     "output_type": "execute_result"
    }
   ],
   "source": [
    "# Define Stratified K-Fold cross-validation with 3 splits\n",
    "stratkf = StratifiedKFold(n_splits=3, shuffle=True, random_state=42)\n",
    "stratkf\n"
   ]
  },
  {
   "cell_type": "markdown",
   "id": "a92353eb",
   "metadata": {
    "id": "a92353eb"
   },
   "source": [
    "### Task 2D: \n",
    "\n",
    "1. Use Bag of words technique with bigrams and apply to trainign and testing data.\n",
    "2. Use TF-IDF technique with bigrams and apply to training and testing data.\n",
    "\n",
    "TIP: Remember to store the modified data into different variables.\n",
    "Note: Remember to only transform the testing data."
   ]
  },
  {
   "cell_type": "code",
   "execution_count": 28,
   "id": "230fb8e5",
   "metadata": {
    "id": "230fb8e5"
   },
   "outputs": [],
   "source": [
    "#Use Bag of words technique with bigrams and apply to trainign and testing data.\n",
    "from sklearn.feature_extraction.text import CountVectorizer\n",
    "\n",
    "# Initialize the CountVectorizer with bigrams\n",
    "count_vectorizer = CountVectorizer(ngram_range=(1, 2))\n",
    "#n-gram is a contiguous sequence of n items from a given sample of text or speech.\n",
    "\n",
    "# Fit and transform the training data\n",
    "# count_vectorizer---converts a collection of text documents to a matrix\n",
    "X_train_bow = count_vectorizer.fit_transform(X_train)\n",
    "\n",
    "# Transform the testing data\n",
    "X_test_bags_of_words = count_vectorizer.transform(X_test)"
   ]
  },
  {
   "cell_type": "code",
   "execution_count": 29,
   "id": "cacf5e56",
   "metadata": {
    "id": "cacf5e56"
   },
   "outputs": [],
   "source": [
    "#Use TF-IDF technique with bigrams and apply to training and testing data.\n",
    "from sklearn.feature_extraction.text import TfidfVectorizer\n",
    "\n",
    "# Initialize the TfidfVectorizer with bigrams\n",
    "##n-gram is a contiguous sequence of n items from a given sample of text or speech.\n",
    "tfidf_vectorizer = TfidfVectorizer(ngram_range=(1, 2))\n",
    "\n",
    "# Fit and transform the training data\n",
    "#  Frequency-Inverse Document Frequency\".\n",
    "# It is a numerical statistic that reflects how important a word is to a document in a collection or corpus.\n",
    "X_train_tfidf = tfidf_vectorizer.fit_transform(X_train)\n",
    "\n",
    "# Transform the testing data\n",
    "X_test_tfidf = tfidf_vectorizer.transform(X_test)\n",
    "\n"
   ]
  },
  {
   "cell_type": "markdown",
   "id": "81940d87",
   "metadata": {
    "id": "81940d87"
   },
   "source": [
    "### Task 2E: \n",
    "Now comes the main part where we will be applying machine learning algorithms on the cleaned, transformed data.\n",
    "\n",
    "Precision is way to measure the proportion of positively predicted labels that are actually correct. In our case, we cannot afford to have any incorrect detection since it would essentially mean that classifying the Non-spam mail as spam and we can lose reading importatnt mail. Hence, we need higher precision.\n",
    "\n",
    "1. Apply Multinomial Naive Bayes, Logistic Regression and SVM for both bag of words and TF-IDF transformed data.\n",
    "2. Use Roc-Auc and precision evaluation metric\n",
    "3. Display the scores in a tabular format.\n",
    "4. Perform hyper-parameter tuning for each algorithm with grid search and use the best estimated model from each type to test the data further.\n",
    "5. Display the confusion matrix.\n",
    "\n",
    "Note: Look at the model performance while selecting the bag of words and TFIDF technique for each algorithm."
   ]
  },
  {
   "cell_type": "markdown",
   "id": "EyHUh72jcaLZ",
   "metadata": {
    "id": "EyHUh72jcaLZ"
   },
   "source": [
    "## Apply Multinomial Naive Bayes, Logistic Regression and SVM for  bag of words"
   ]
  },
  {
   "cell_type": "code",
   "execution_count": 30,
   "id": "311f1bda",
   "metadata": {
    "colab": {
     "base_uri": "https://localhost:8080/"
    },
    "id": "311f1bda",
    "outputId": "cd07ed96-feb3-4ded-ea01-3eba2d2d62c8"
   },
   "outputs": [
    {
     "name": "stdout",
     "output_type": "stream",
     "text": [
      "Multinomial Naive Bayes Accuracy with BoW: 0.9802690582959641\n",
      "Logistic Regression Accuracy with BoW: 0.9766816143497757\n",
      "SVM Accuracy with BoW: 0.9748878923766816\n"
     ]
    }
   ],
   "source": [
    "#loading libraries\n",
    "from sklearn.naive_bayes import MultinomialNB\n",
    "from sklearn.metrics import accuracy_score\n",
    "from sklearn.linear_model import LogisticRegression\n",
    "from sklearn.svm import SVC\n",
    "\n",
    "# Multinomial Naive Bayes with Bags of words\n",
    "#MultinomialNB() class from scikit-learn.\n",
    "#This classifier is suitable for discrete data like word counts,\n",
    "# BoW representation where each feature (word) is a discrete count.\n",
    "nb_bow = MultinomialNB()\n",
    "nb_bow.fit(X_train_bow, y_train)\n",
    "nb_bow_predictions = nb_bow.predict(X_test_bags_of_words)\n",
    "\n",
    "#he predict method takes the BoW representation of the test data (X_test_bags_of_words)\n",
    "#as input and returns the predicted labels for the test data.\n",
    "# Logistic Regression with Bags of words\n",
    "lr_bow = LogisticRegression()\n",
    "lr_bow.fit(X_train_bow, y_train)\n",
    "lr_bow_predictions = lr_bow.predict(X_test_bags_of_words)\n",
    "\n",
    "# Support Vector Machine (SVM) with BoW\n",
    "#X_train and y_train are BoW vectors and corresponding labels for the training data.\n",
    "#X_test contains BoW vectors for the test data.\n",
    "svm_bow = SVC()\n",
    "svm_bow.fit(X_train_bow, y_train)\n",
    "svm_bow_predictions = svm_bow.predict(X_test_bags_of_words)\n",
    "\n",
    "\n",
    "# Calculate accuracy for Multinomial Naive Bayes with BoW\n",
    "nb_bow_accuracy = accuracy_score(y_test, nb_bow_predictions)\n",
    "print(\"Multinomial Naive Bayes Accuracy with BoW:\", nb_bow_accuracy)\n",
    "\n",
    "# Calculate accuracy for Logistic Regression with BoW\n",
    "lr_bow_accuracy = accuracy_score(y_test, lr_bow_predictions)\n",
    "print(\"Logistic Regression Accuracy with BoW:\", lr_bow_accuracy)\n",
    "\n",
    "# Calculate accuracy for SVM with BoW\n",
    "svm_bow_accuracy = accuracy_score(y_test, svm_bow_predictions)\n",
    "print(\"SVM Accuracy with BoW:\", svm_bow_accuracy)\n",
    "\n"
   ]
  },
  {
   "cell_type": "markdown",
   "id": "hExfJg0och2m",
   "metadata": {
    "id": "hExfJg0och2m"
   },
   "source": [
    "## Apply Multinomial Naive Bayes, Logistic Regression and SVM for TF-IDF transformed data"
   ]
  },
  {
   "cell_type": "code",
   "execution_count": 31,
   "id": "ffd967e2",
   "metadata": {
    "colab": {
     "base_uri": "https://localhost:8080/"
    },
    "id": "ffd967e2",
    "outputId": "6040e35a-770e-4773-bbc7-9fd1e8269aef"
   },
   "outputs": [
    {
     "name": "stdout",
     "output_type": "stream",
     "text": [
      "Multinomial Naive Bayes Accuracy with TF-IDF: 0.9560538116591928\n",
      "Logistic Regression Accuracy with TF-IDF: 0.95695067264574\n",
      "SVM Accuracy with TF-IDF: 0.9775784753363229\n"
     ]
    }
   ],
   "source": [
    "# Multinomial Naive Bayes with TF-IDF\n",
    "nb_tfidf = MultinomialNB()   #MultinomialNB() class from scikit-learn.\n",
    "#X_train_tfidf: This represents the training data in TF-IDF format\n",
    "#predicted labels are stored in the variable nb_tfidf_predictions.\n",
    "nb_tfidf.fit(X_train_tfidf, y_train)\n",
    "nb_tfidf_predictions = nb_tfidf.predict(X_test_tfidf)\n",
    "\n",
    "\n",
    "# Logistic Regression with TF-IDF\n",
    "#X_train_tfidf: This represents the training data in TF-IDF\n",
    "#predicted labels are stored in the variable lr_tfidf_predictions\n",
    "lr_tfidf = LogisticRegression()\n",
    "lr_tfidf.fit(X_train_tfidf, y_train)\n",
    "lr_tfidf_predictions = lr_tfidf.predict(X_test_tfidf)\n",
    "\n",
    "# Support Vector Machine (SVM) with TF-IDF\n",
    "#X_train_tfid-- represents the training data in TF-IDF\n",
    "#y_train: These are the corresponding labels for the training data, indicating the class of each document.\n",
    "#predicted labels are stored in the variable svm_tfidf_predictions\n",
    "svm_tfidf = SVC()\n",
    "svm_tfidf.fit(X_train_tfidf, y_train)\n",
    "svm_tfidf_predictions = svm_tfidf.predict(X_test_tfidf)\n",
    "\n",
    "# Calculate accuracy for Multinomial Naive Bayes with TF-IDF\n",
    "nb_tfidf_accuracy = accuracy_score(y_test, nb_tfidf_predictions)\n",
    "print(\"Multinomial Naive Bayes Accuracy with TF-IDF:\", nb_tfidf_accuracy)\n",
    "\n",
    "# Calculate accuracy for Logistic Regression with TF-IDF\n",
    "lr_tfidf_accuracy = accuracy_score(y_test, lr_tfidf_predictions)\n",
    "print(\"Logistic Regression Accuracy with TF-IDF:\", lr_tfidf_accuracy)\n",
    "\n",
    "# Calculate accuracy for SVM with TF-IDF\n",
    "svm_tfidf_accuracy = accuracy_score(y_test, svm_tfidf_predictions)\n",
    "print(\"SVM Accuracy with TF-IDF:\", svm_tfidf_accuracy)\n",
    "\n",
    "\n"
   ]
  },
  {
   "cell_type": "markdown",
   "id": "gr3gp0g3cnmt",
   "metadata": {
    "id": "gr3gp0g3cnmt"
   },
   "source": [
    "## Use Roc-Auc and precision evaluation metric"
   ]
  },
  {
   "cell_type": "code",
   "execution_count": 32,
   "id": "6d15d6e0",
   "metadata": {
    "colab": {
     "base_uri": "https://localhost:8080/"
    },
    "id": "6d15d6e0",
    "outputId": "847c77c9-ddca-404c-ab30-d9fb2daed5cb"
   },
   "outputs": [
    {
     "name": "stdout",
     "output_type": "stream",
     "text": [
      "Multinomial Naive Bayes ROC-AUC with BoW: 0.9725568663415177\n",
      "Multinomial Naive Bayes Precision with BoW: 0.9703703703703703\n"
     ]
    }
   ],
   "source": [
    "from sklearn.metrics import roc_auc_score, precision_score\n",
    "\n",
    "# Train your Multinomial Naive Bayes model using X_train_bow and y_train\n",
    "# Predict probabilities and convert to binary predictions\n",
    "nb_bow_probs = nb_bow.predict_proba(X_test_bags_of_words)[:, 1]\n",
    "nb_bow_predictions = nb_bow.predict(X_test_bags_of_words)\n",
    "\n",
    "# Calculate ROC-AUC\n",
    "nb_bow_roc_auc = roc_auc_score(y_test, nb_bow_probs)\n",
    "\n",
    "# Calculate precision\n",
    "nb_bow_precision = precision_score(y_test, nb_bow_predictions, pos_label='1')\n",
    "\n",
    "print(\"Multinomial Naive Bayes ROC-AUC with BoW:\", nb_bow_roc_auc)\n",
    "print(\"Multinomial Naive Bayes Precision with BoW:\", nb_bow_precision)\n"
   ]
  },
  {
   "cell_type": "code",
   "execution_count": 33,
   "id": "2baefea2",
   "metadata": {
    "colab": {
     "base_uri": "https://localhost:8080/"
    },
    "id": "2baefea2",
    "outputId": "bf6f1df5-3c9f-423c-ee27-638f734f6daa"
   },
   "outputs": [
    {
     "name": "stdout",
     "output_type": "stream",
     "text": [
      "Logistic Regression ROC-AUC with BoW: 0.9856114608084261\n",
      "Logistic Regression Precision with BoW: 1.0\n"
     ]
    }
   ],
   "source": [
    "# Predict probabilities and convert to binary predictions\n",
    "lr_bow_probs = lr_bow.predict_proba(X_test_bags_of_words)[:, 1]\n",
    "lr_bow_predictions = lr_bow.predict(X_test_bags_of_words)\n",
    "\n",
    "# code to Calculate ROC-AUC\n",
    "lr_bow_roc_auc = roc_auc_score(y_test, lr_bow_probs)\n",
    "\n",
    "# code to Calculate precision\n",
    "logistic_bagsofwords_precision = precision_score(y_test, lr_bow_predictions, pos_label='1')\n",
    "\n",
    "print(\"Logistic Regression ROC-AUC with BoW:\", lr_bow_roc_auc)\n",
    "print(\"Logistic Regression Precision with BoW:\", logistic_bagsofwords_precision)\n"
   ]
  },
  {
   "cell_type": "code",
   "execution_count": 34,
   "id": "b02897ef",
   "metadata": {
    "colab": {
     "base_uri": "https://localhost:8080/"
    },
    "id": "b02897ef",
    "outputId": "7037cfcc-9168-4aea-e881-ba3bcc35a38c"
   },
   "outputs": [
    {
     "name": "stdout",
     "output_type": "stream",
     "text": [
      "SVM ROC-AUC with BoW: 0.9734947962260481\n",
      "SVM Precision with BoW: 1.0\n"
     ]
    }
   ],
   "source": [
    "svm_bow = SVC(probability=True)  # Set probability=True for SVM\n",
    "svm_bow.fit(X_train_bow, y_train)\n",
    "svm_bow_probs = svm_bow.predict_proba(X_test_bags_of_words)[:, 1]  # Probabilities for positive class\n",
    "svm_bow_predictions = svm_bow.predict(X_test_bags_of_words)\n",
    "\n",
    "# Calculate ROC-AUC for SVM with BoW\n",
    "svm_bow_roc_auc = roc_auc_score(y_test, svm_bow_probs)\n",
    "\n",
    "# Calculate precision for SVM with BoW\n",
    "svm_bow_precision = precision_score(y_test, svm_bow_predictions, pos_label='1')\n",
    "\n",
    "print(\"SVM ROC-AUC with BoW:\", svm_bow_roc_auc)\n",
    "print(\"SVM Precision with BoW:\", svm_bow_precision)\n"
   ]
  },
  {
   "cell_type": "code",
   "execution_count": 35,
   "id": "01c9b311",
   "metadata": {
    "colab": {
     "base_uri": "https://localhost:8080/",
     "height": 143
    },
    "id": "01c9b311",
    "outputId": "6f2727fc-7227-458c-be37-e7edb1f76dd7"
   },
   "outputs": [
    {
     "data": {
      "text/html": [
       "<div>\n",
       "<style scoped>\n",
       "    .dataframe tbody tr th:only-of-type {\n",
       "        vertical-align: middle;\n",
       "    }\n",
       "\n",
       "    .dataframe tbody tr th {\n",
       "        vertical-align: top;\n",
       "    }\n",
       "\n",
       "    .dataframe thead th {\n",
       "        text-align: right;\n",
       "    }\n",
       "</style>\n",
       "<table border=\"1\" class=\"dataframe\">\n",
       "  <thead>\n",
       "    <tr style=\"text-align: right;\">\n",
       "      <th></th>\n",
       "      <th>Model</th>\n",
       "      <th>ROC-AUC</th>\n",
       "      <th>Precision</th>\n",
       "    </tr>\n",
       "  </thead>\n",
       "  <tbody>\n",
       "    <tr>\n",
       "      <th>0</th>\n",
       "      <td>Logistic Regression</td>\n",
       "      <td>0.985611</td>\n",
       "      <td>1.00000</td>\n",
       "    </tr>\n",
       "    <tr>\n",
       "      <th>1</th>\n",
       "      <td>Multinomial Naive Bayes</td>\n",
       "      <td>0.972557</td>\n",
       "      <td>0.97037</td>\n",
       "    </tr>\n",
       "    <tr>\n",
       "      <th>2</th>\n",
       "      <td>SVM</td>\n",
       "      <td>0.973495</td>\n",
       "      <td>1.00000</td>\n",
       "    </tr>\n",
       "  </tbody>\n",
       "</table>\n",
       "</div>"
      ],
      "text/plain": [
       "                     Model   ROC-AUC  Precision\n",
       "0      Logistic Regression  0.985611    1.00000\n",
       "1  Multinomial Naive Bayes  0.972557    0.97037\n",
       "2                      SVM  0.973495    1.00000"
      ]
     },
     "execution_count": 35,
     "metadata": {},
     "output_type": "execute_result"
    }
   ],
   "source": [
    "import pandas as pd\n",
    "\n",
    "# Create a dictionary to store the scores\n",
    "scores = {\n",
    "    'Model': [\"Logistic Regression\",\"Multinomial Naive Bayes\",\"SVM\"],\n",
    "    'ROC-AUC': [lr_bow_roc_auc,nb_bow_roc_auc,svm_bow_roc_auc],\n",
    "    'Precision': [logistic_bagsofwords_precision,nb_bow_precision,svm_bow_precision]\n",
    "}\n",
    "\n",
    "# Create a DataFrame from the scores dictionary\n",
    "scores_df = pd.DataFrame(scores)\n",
    "\n",
    "# Display the scores in tabular format\n",
    "scores_df.head()\n"
   ]
  },
  {
   "cell_type": "markdown",
   "id": "P8GZpoH7c-ZS",
   "metadata": {
    "id": "P8GZpoH7c-ZS"
   },
   "source": [
    "## Perform hyper-parameter tuning for each algorithm with grid search and use the best estimated model from each type to test the data further"
   ]
  },
  {
   "cell_type": "code",
   "execution_count": 36,
   "id": "03629592",
   "metadata": {
    "colab": {
     "base_uri": "https://localhost:8080/"
    },
    "id": "03629592",
    "outputId": "322677d1-eb0d-443a-9c1c-07e2824a2787"
   },
   "outputs": [
    {
     "name": "stdout",
     "output_type": "stream",
     "text": [
      "Best Multinomial Naive Bayes (TF-IDF) Accuracy: 0.967713004484305\n"
     ]
    }
   ],
   "source": [
    "from sklearn.model_selection import GridSearchCV\n",
    "from sklearn.naive_bayes import MultinomialNB\n",
    "\n",
    "# hyperparameters grid for Multinomial Naive Bayes\n",
    "nb_param_grid = {\n",
    "    'alpha': [0.1, 0.5, 1.0, 1.5, 2.0]\n",
    "}\n",
    "\n",
    "# loading  Multinomial Naive Bayes classifier\n",
    "nb_tfidf = MultinomialNB()\n",
    "\n",
    "# Perform grid search with cross-validation\n",
    "#y_train representing labels\n",
    "#scoring---evaluation metric used to determine the best hyperparameters\n",
    "#number of folds in the cross-validation. cv=3\n",
    "nb_tfidf_grid = GridSearchCV(estimator=nb_tfidf, param_grid=nb_param_grid, scoring='accuracy', cv=3)\n",
    "nb_tfidf_grid.fit(X_train_tfidf, y_train)\n",
    "\n",
    "# Get the best estimated Multinomial Naive Bayes model\n",
    "best_nb_tfidf = nb_tfidf_grid.best_estimator_\n",
    "\n",
    "# Test the best Multinomial Naive Bayes model on the test data\n",
    "nb_tfidf_accuracy = best_nb_tfidf.score(X_test_tfidf, y_test)\n",
    "print(\"Best Multinomial Naive Bayes (TF-IDF) Accuracy:\", nb_tfidf_accuracy)\n"
   ]
  },
  {
   "cell_type": "code",
   "execution_count": 37,
   "id": "deef9a58",
   "metadata": {
    "colab": {
     "base_uri": "https://localhost:8080/"
    },
    "id": "deef9a58",
    "outputId": "693962ed-4334-4318-a260-2fd48dee2003",
    "scrolled": true
   },
   "outputs": [
    {
     "name": "stdout",
     "output_type": "stream",
     "text": [
      "Best Logistic Regression (TF-IDF) Accuracy: 0.9713004484304932\n"
     ]
    }
   ],
   "source": [
    "#Hyperparameter Tuning for Logistic Regression (with TF-IDF):\n",
    "from sklearn.linear_model import LogisticRegression\n",
    "\n",
    "# Define the hyperparameters grid for Logistic Regression\n",
    "#lr_param_grid is a dictionary specifying a grid of hyperparameter values\n",
    "#C is the regularization strength,\n",
    "#penalty is the type of regularization.\n",
    "lr_param_grid = {\n",
    "    'C': [0.1, 0.5, 1.0, 1.5, 2.0],\n",
    "    'penalty': [ 'l2']\n",
    "}\n",
    "\n",
    "# Initialize Logistic Regression classifier\n",
    "lr_tfidf = LogisticRegression()\n",
    "\n",
    "# Perform grid search with cross-validation\n",
    "#estimator=lr_tfidf sets the base model to be tuned\n",
    "#param_grid=lr_param_grid specifies the hyperparameter grid\n",
    "lr_tfidf_grid = GridSearchCV(estimator=lr_tfidf, param_grid=lr_param_grid, scoring='accuracy', cv=3)\n",
    "lr_tfidf_grid.fit(X_train_tfidf, y_train)\n",
    "\n",
    "# Get the best estimated Logistic Regression model\n",
    "best_lr_tfidf = lr_tfidf_grid.best_estimator_\n",
    "\n",
    "# Test the best Logistic Regression model on the test data\n",
    "lr_tfidf_accuracy = best_lr_tfidf.score(X_test_tfidf, y_test)\n",
    "print(\"Best Logistic Regression (TF-IDF) Accuracy:\", lr_tfidf_accuracy)"
   ]
  },
  {
   "cell_type": "code",
   "execution_count": 46,
   "id": "0ffa6870",
   "metadata": {},
   "outputs": [],
   "source": [
    "from sklearn.linear_model import LogisticRegression\n",
    "from sklearn.model_selection import GridSearchCV\n",
    "\n",
    "# Define the Logistic Regression model with 'l2' penalty\n",
    "lr_tfidf = LogisticRegression(penalty='l2', solver='lbfgs')\n",
    "\n",
    "# Define the hyperparameter grid with only 'l2' penalty\n",
    "lr_param_grid = {\n",
    "    'C': [0.1, 1, 10, 100]\n",
    "}\n",
    "\n",
    "# Perform grid search with cross-validation\n",
    "lr_tfidf_grid = GridSearchCV(estimator=lr_tfidf, param_grid=lr_param_grid, scoring='accuracy', cv=3)\n",
    "lr_tfidf_grid.fit(X_train_tfidf, y_train)\n",
    "\n",
    "# Get the best estimated Logistic Regression model\n",
    "best_lr_tfidf = lr_tfidf_grid.best_estimator_\n"
   ]
  },
  {
   "cell_type": "code",
   "execution_count": 39,
   "id": "4bec9e5c",
   "metadata": {
    "colab": {
     "base_uri": "https://localhost:8080/"
    },
    "id": "4bec9e5c",
    "outputId": "611466d1-73f7-451c-f454-3153fd4c9b63"
   },
   "outputs": [
    {
     "name": "stdout",
     "output_type": "stream",
     "text": [
      "Best SVM (TF-IDF) Accuracy: 0.9829596412556054\n"
     ]
    }
   ],
   "source": [
    " #Hyperparameter Tuning for Support Vector Machine (SVM) (with TF-IDF)\n",
    "from sklearn.svm import SVC\n",
    "\n",
    "# Define the hyperparameters grid for SVM\n",
    "#linear: Represents a linear kernel, which creates a linear decision boundary in the original feature space.\n",
    "#'rbf' (Radial Basis Function): Represents a radial basis function kernel,\n",
    "#which can model complex decision boundaries by transforming the data into a higher-dimensional space.\n",
    "svm_param_grid = {\n",
    "    'C': [0.1, 0.5, 1.0, 1.5, 2.0],\n",
    "    'kernel': ['linear', 'rbf']\n",
    "}\n",
    "\n",
    "# Initialize SVM classifier\n",
    "svm_tfidf = SVC()\n",
    "\n",
    "# Perform grid search with cross-validation\n",
    "#estimator=svm_tfidf sets the base model to be tuned\n",
    "#param_grid=svm_param_grid specifies the hyperparameter grid.\n",
    "#cv=3 sets 3-fold cross-validation,\n",
    "svm_tfidf_grid = GridSearchCV(estimator=svm_tfidf, param_grid=svm_param_grid, scoring='accuracy', cv=3)\n",
    "svm_tfidf_grid.fit(X_train_tfidf, y_train)\n",
    "\n",
    "# Get the best estimated SVM model\n",
    "best_svm_tfidf = svm_tfidf_grid.best_estimator_\n",
    "\n",
    "# Test the best SVM model on the test data\n",
    "svm_tfidf_accuracy = best_svm_tfidf.score(X_test_tfidf, y_test)\n",
    "print(\"Best SVM (TF-IDF) Accuracy:\", svm_tfidf_accuracy)\n"
   ]
  },
  {
   "cell_type": "markdown",
   "id": "mi5uTVVxdO7S",
   "metadata": {
    "id": "mi5uTVVxdO7S"
   },
   "source": [
    "## Display the confusion matrix."
   ]
  },
  {
   "cell_type": "code",
   "execution_count": 40,
   "id": "05663366",
   "metadata": {
    "colab": {
     "base_uri": "https://localhost:8080/",
     "height": 311
    },
    "id": "05663366",
    "outputId": "f823de62-345b-4c87-a52c-a9c7612ab1d7"
   },
   "outputs": [
    {
     "data": {
      "image/png": "[encoded data removed]",
      "text/plain": [
       "<Figure size 1296x360 with 6 Axes>"
      ]
     },
     "metadata": {
      "needs_background": "light"
     },
     "output_type": "display_data"
    }
   ],
   "source": [
    "from sklearn.metrics import confusion_matrix\n",
    "import seaborn as sns\n",
    "import matplotlib.pyplot as plt\n",
    "\n",
    "# Calculate confusion matrix for Multinomial Naive Bayes (TF-IDF)\n",
    "nb_tfidf_predictions = best_nb_tfidf.predict(X_test_tfidf)\n",
    "nb_tfidf_conf_matrix = confusion_matrix(y_test, nb_tfidf_predictions)\n",
    "\n",
    "# Calculate confusion matrix for Logistic Regression (TF-IDF)\n",
    "lr_tfidf_predictions = best_lr_tfidf.predict(X_test_tfidf)\n",
    "lr_tfidf_conf_matrix = confusion_matrix(y_test, lr_tfidf_predictions)\n",
    "\n",
    "# Calculate confusion matrix for SVM (TF-IDF)\n",
    "svm_tfidf_predictions = best_svm_tfidf.predict(X_test_tfidf)\n",
    "svm_tfidf_conf_matrix = confusion_matrix(y_test, svm_tfidf_predictions)\n",
    "\n",
    "# Plot the confusion matrices\n",
    "plt.figure(figsize=(18, 5))\n",
    "plt.subplot(1, 3, 1)\n",
    "sns.heatmap(nb_tfidf_conf_matrix, annot=True, fmt='d', cmap='Blues', xticklabels=['ham', 'spam'], yticklabels=['ham', 'spam'])\n",
    "plt.title('Confusion Matrix - Multinomial Naive Bayes (TF-IDF)')\n",
    "plt.xlabel('Predicted')\n",
    "plt.ylabel('Actual')\n",
    "\n",
    "plt.subplot(1, 3, 2)\n",
    "sns.heatmap(lr_tfidf_conf_matrix, annot=True, fmt='d', cmap='Blues', xticklabels=['ham', 'spam'], yticklabels=['ham', 'spam'])\n",
    "plt.title('Confusion Matrix - Logistic Regression (TF-IDF)')\n",
    "plt.xlabel('Predicted')\n",
    "plt.ylabel('Actual')\n",
    "\n",
    "plt.subplot(1, 3, 3)\n",
    "sns.heatmap(svm_tfidf_conf_matrix, annot=True, fmt='d', cmap='Blues', xticklabels=['ham', 'spam'], yticklabels=['ham', 'spam'])\n",
    "plt.title('Confusion Matrix - SVM (TF-IDF)')\n",
    "plt.xlabel('Predicted')\n",
    "plt.ylabel('Actual')\n",
    "\n",
    "plt.tight_layout()\n",
    "plt.show()\n"
   ]
  },
  {
   "cell_type": "markdown",
   "id": "cc9b6cba",
   "metadata": {
    "id": "cc9b6cba"
   },
   "source": [
    "### Task 2F: \n",
    "1. Display a bar chart for the precision scores for each model.\n",
    "2. Display the percentages on the bar.\n",
    "3. Apply opacity on the bars according to the scores(1 being highest).\n",
    "4. Display proper title and axes names.\n",
    "5. IMP: Interpret your results and conclusion."
   ]
  },
  {
   "cell_type": "code",
   "execution_count": 41,
   "id": "2ca01ea7",
   "metadata": {
    "colab": {
     "base_uri": "https://localhost:8080/",
     "height": 143
    },
    "id": "2ca01ea7",
    "outputId": "97486944-c1e6-4619-b20f-4e2e67552c54"
   },
   "outputs": [
    {
     "data": {
      "text/html": [
       "<div>\n",
       "<style scoped>\n",
       "    .dataframe tbody tr th:only-of-type {\n",
       "        vertical-align: middle;\n",
       "    }\n",
       "\n",
       "    .dataframe tbody tr th {\n",
       "        vertical-align: top;\n",
       "    }\n",
       "\n",
       "    .dataframe thead th {\n",
       "        text-align: right;\n",
       "    }\n",
       "</style>\n",
       "<table border=\"1\" class=\"dataframe\">\n",
       "  <thead>\n",
       "    <tr style=\"text-align: right;\">\n",
       "      <th></th>\n",
       "      <th>Model</th>\n",
       "      <th>ROC-AUC</th>\n",
       "      <th>Precision</th>\n",
       "    </tr>\n",
       "  </thead>\n",
       "  <tbody>\n",
       "    <tr>\n",
       "      <th>0</th>\n",
       "      <td>Logistic Regression</td>\n",
       "      <td>0.985611</td>\n",
       "      <td>1.00000</td>\n",
       "    </tr>\n",
       "    <tr>\n",
       "      <th>1</th>\n",
       "      <td>Multinomial Naive Bayes</td>\n",
       "      <td>0.972557</td>\n",
       "      <td>0.97037</td>\n",
       "    </tr>\n",
       "    <tr>\n",
       "      <th>2</th>\n",
       "      <td>SVM</td>\n",
       "      <td>0.973495</td>\n",
       "      <td>1.00000</td>\n",
       "    </tr>\n",
       "  </tbody>\n",
       "</table>\n",
       "</div>"
      ],
      "text/plain": [
       "                     Model   ROC-AUC  Precision\n",
       "0      Logistic Regression  0.985611    1.00000\n",
       "1  Multinomial Naive Bayes  0.972557    0.97037\n",
       "2                      SVM  0.973495    1.00000"
      ]
     },
     "execution_count": 41,
     "metadata": {},
     "output_type": "execute_result"
    }
   ],
   "source": [
    "scores_df.head()"
   ]
  },
  {
   "cell_type": "code",
   "execution_count": 42,
   "id": "dfb282d0",
   "metadata": {
    "colab": {
     "base_uri": "https://localhost:8080/",
     "height": 472
    },
    "id": "dfb282d0",
    "outputId": "64c879d8-7f84-435e-c7cc-4d466d0200e0"
   },
   "outputs": [
    {
     "data": {
      "image/png": "[encoded data removed]",
      "text/plain": [
       "<Figure size 432x288 with 1 Axes>"
      ]
     },
     "metadata": {
      "needs_background": "light"
     },
     "output_type": "display_data"
    }
   ],
   "source": [
    "#Display a bar chart for the precision scores for each model.\n",
    "plt.bar(scores_df['Model'], scores_df['Precision'])\n",
    "plt.xlabel('Model')\n",
    "plt.ylabel('Precision')\n",
    "plt.title('Precision Scores by Model')\n",
    "\n",
    "bars = plt.bar(scores_df['Model'], scores_df['Precision'], color='skyblue')\n",
    "\n",
    "# Indicating values on the bars\n",
    "for bar in bars:\n",
    "    yval = bar.get_height()\n",
    "    plt.text(bar.get_x() + bar.get_width() / 2, yval, f'{yval:.2%}', ha='center', va='bottom', fontsize=10)\n",
    "plt.show()"
   ]
  },
  {
   "cell_type": "code",
   "execution_count": 43,
   "id": "1LYDDZ1zdxRn",
   "metadata": {
    "colab": {
     "base_uri": "https://localhost:8080/",
     "height": 472
    },
    "id": "1LYDDZ1zdxRn",
    "outputId": "9fd8c27b-3234-42e6-e51e-c04c31501dcd"
   },
   "outputs": [
    {
     "data": {
      "image/png": "[encoded data removed]",
      "text/plain": [
       "<Figure size 432x288 with 1 Axes>"
      ]
     },
     "metadata": {
      "needs_background": "light"
     },
     "output_type": "display_data"
    }
   ],
   "source": [
    "#Display a bar chart for the precision scores for each model.\n",
    "plt.bar(scores_df['Model'], scores_df['ROC-AUC'])\n",
    "plt.xlabel('Model')\n",
    "plt.ylabel('Precision')\n",
    "plt.title('Precision Scores by Model')\n",
    "\n",
    "bars = plt.bar(scores_df['Model'], scores_df['Precision'], color='skyblue')\n",
    "\n",
    "# Indicating values on the bars\n",
    "for bar in bars:\n",
    "    yval = bar.get_height()\n",
    "    plt.text(bar.get_x() + bar.get_width() / 2, yval, f'{yval:.2%}', ha='center', va='bottom', fontsize=10)\n",
    "plt.show()"
   ]
  },
  {
   "cell_type": "code",
   "execution_count": 44,
   "id": "FJ5hJgvpd0qa",
   "metadata": {
    "colab": {
     "base_uri": "https://localhost:8080/",
     "height": 607
    },
    "id": "FJ5hJgvpd0qa",
    "outputId": "e83c3ebc-777d-4c41-d45e-d3f4aa940fd2"
   },
   "outputs": [
    {
     "data": {
      "image/png": "[encoded data removed]",
      "text/plain": [
       "<Figure size 576x432 with 1 Axes>"
      ]
     },
     "metadata": {
      "needs_background": "light"
     },
     "output_type": "display_data"
    }
   ],
   "source": [
    "\n",
    "# Sorting the DataFrame by Precision in descending order\n",
    "scores_df = scores_df.sort_values(by='Precision', ascending=False)\n",
    "\n",
    "# Plotting the bar graph with opacity based on precision scores\n",
    "plt.figure(figsize=(8, 6))\n",
    "bars = plt.bar(scores_df['Model'], scores_df['Precision'], color='skyblue')\n",
    "\n",
    "# Adding precision values on the bars as percentages\n",
    "for bar, score in zip(bars, scores_df['Precision']):\n",
    "    yval = bar.get_height()\n",
    "    plt.text(bar.get_x() + bar.get_width() / 2, yval, f'{yval:.2%}', ha='center', va='bottom', fontsize=10)\n",
    "\n",
    "    # Applying opacity based on scores (1 being highest)\n",
    "    bar.set_alpha(score)\n",
    "\n",
    "plt.xlabel('Model')\n",
    "plt.ylabel('Precision')\n",
    "plt.title('Precision Scores by Model with Opacity')\n",
    "plt.ylim(0, 1)  # Set y-axis limit between 0 and 1 for precision values\n",
    "plt.xticks(rotation=45)  # Rotate x-axis labels for better visibility\n",
    "plt.tight_layout()\n",
    "plt.show()\n"
   ]
  },
  {
   "cell_type": "markdown",
   "id": "O-1RlqOGd-ua",
   "metadata": {
    "id": "O-1RlqOGd-ua"
   },
   "source": [
    "##Based on the calcualtion of the Precision calcuation, we can clearly say that both logistic Regression and SVM has highest precision when compared to the Multinomail Naive Bayes."
   ]
  }
 ],
 "metadata": {
  "colab": {
   "provenance": []
  },
  "kernelspec": {
   "display_name": "Python 3 (ipykernel)",
   "language": "python",
   "name": "python3"
  },
  "language_info": {
   "codemirror_mode": {
    "name": "ipython",
    "version": 3
   },
   "file_extension": ".py",
   "mimetype": "text/x-python",
   "name": "python",
   "nbconvert_exporter": "python",
   "pygments_lexer": "ipython3",
   "version": "3.11.4"
  }
 },
 "nbformat": 4,
 "nbformat_minor": 5
}
