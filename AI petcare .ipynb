{
  "cells": [
    {
      "cell_type": "code",
      "execution_count": 1,
      "metadata": {
        "colab": {
          "base_uri": "https://localhost:8080/"
        },
        "id": "JD25TCitpMfS",
        "outputId": "1ad08722-43a0-4095-a7cc-58b481440c9e"
      },
      "outputs": [
        {
          "name": "stdout",
          "output_type": "stream",
          "text": [
            "\u001b[2K     \u001b[90m━━━━━━━━━━━━━━━━━━━━━━━━━━━━━━━━━━━━━━━━\u001b[0m \u001b[32m58.2/58.2 kB\u001b[0m \u001b[31m1.0 MB/s\u001b[0m eta \u001b[36m0:00:00\u001b[0m\n",
            "\u001b[2K     \u001b[90m━━━━━━━━━━━━━━━━━━━━━━━━━━━━━━━━━━━━━━\u001b[0m \u001b[32m806.6/806.6 kB\u001b[0m \u001b[31m15.7 MB/s\u001b[0m eta \u001b[36m0:00:00\u001b[0m\n",
            "\u001b[2K     \u001b[90m━━━━━━━━━━━━━━━━━━━━━━━━━━━━━━━━━━━━━━━━\u001b[0m \u001b[32m76.5/76.5 kB\u001b[0m \u001b[31m6.3 MB/s\u001b[0m eta \u001b[36m0:00:00\u001b[0m\n",
            "\u001b[2K     \u001b[90m━━━━━━━━━━━━━━━━━━━━━━━━━━━━━━━━━━━━━━━━\u001b[0m \u001b[32m1.6/1.6 MB\u001b[0m \u001b[31m61.5 MB/s\u001b[0m eta \u001b[36m0:00:00\u001b[0m\n",
            "\u001b[?25h\u001b[31mERROR: pip's dependency resolver does not currently take into account all the packages that are installed. This behaviour is the source of the following dependency conflicts.\n",
            "google-colab 1.0.0 requires ipython==7.34.0, but you have ipython 8.15.0 which is incompatible.\u001b[0m\u001b[31m\n",
            "\u001b[0m"
          ]
        }
      ],
      "source": [
        "!pip install -q pandasai"
      ]
    },
    {
      "cell_type": "code",
      "execution_count": 2,
      "metadata": {
        "id": "nguQQ58bqX37"
      },
      "outputs": [],
      "source": [
        "import pandas as pd\n",
        "import numpy as np\n",
        "from pandasai import PandasAI\n",
        "from pandasai.llm.openai import OpenAI"
      ]
    },
    {
      "cell_type": "code",
      "execution_count": 3,
      "metadata": {
        "colab": {
          "base_uri": "https://localhost:8080/",
          "height": 573
        },
        "id": "39x1_QTwqX0I",
        "outputId": "63de7c45-ece7-461c-b989-0708eca6a834"
      },
      "outputs": [
        {
          "data": {
            "text/html": [
              "\n",
              "  <div id=\"df-272d116d-5e20-408b-90d0-bd37488f882f\" class=\"colab-df-container\">\n",
              "    <div>\n",
              "<style scoped>\n",
              "    .dataframe tbody tr th:only-of-type {\n",
              "        vertical-align: middle;\n",
              "    }\n",
              "\n",
              "    .dataframe tbody tr th {\n",
              "        vertical-align: top;\n",
              "    }\n",
              "\n",
              "    .dataframe thead th {\n",
              "        text-align: right;\n",
              "    }\n",
              "</style>\n",
              "<table border=\"1\" class=\"dataframe\">\n",
              "  <thead>\n",
              "    <tr style=\"text-align: right;\">\n",
              "      <th></th>\n",
              "      <th>Animal ID</th>\n",
              "      <th>Name</th>\n",
              "      <th>DateTime</th>\n",
              "      <th>MonthYear</th>\n",
              "      <th>Found Location</th>\n",
              "      <th>Intake Type</th>\n",
              "      <th>Intake Condition</th>\n",
              "      <th>Animal Type</th>\n",
              "      <th>Sex upon Intake</th>\n",
              "      <th>Age upon Intake</th>\n",
              "      <th>Breed</th>\n",
              "      <th>Color</th>\n",
              "    </tr>\n",
              "  </thead>\n",
              "  <tbody>\n",
              "    <tr>\n",
              "      <th>0</th>\n",
              "      <td>A786884</td>\n",
              "      <td>*Brock</td>\n",
              "      <td>01-03-2019 16:19</td>\n",
              "      <td>01-03-2019 16:19</td>\n",
              "      <td>2501 Magin Meadow Dr in Austin (TX)</td>\n",
              "      <td>Stray</td>\n",
              "      <td>Normal</td>\n",
              "      <td>Dog</td>\n",
              "      <td>Neutered Male</td>\n",
              "      <td>2 years</td>\n",
              "      <td>Beagle Mix</td>\n",
              "      <td>Tricolor</td>\n",
              "    </tr>\n",
              "    <tr>\n",
              "      <th>1</th>\n",
              "      <td>A706918</td>\n",
              "      <td>Belle</td>\n",
              "      <td>07-05-2015 12:59</td>\n",
              "      <td>07-05-2015 12:59</td>\n",
              "      <td>9409 Bluegrass Dr in Austin (TX)</td>\n",
              "      <td>Stray</td>\n",
              "      <td>Normal</td>\n",
              "      <td>Dog</td>\n",
              "      <td>Spayed Female</td>\n",
              "      <td>8 years</td>\n",
              "      <td>English Springer Spaniel</td>\n",
              "      <td>White/Liver</td>\n",
              "    </tr>\n",
              "    <tr>\n",
              "      <th>2</th>\n",
              "      <td>A724273</td>\n",
              "      <td>Runster</td>\n",
              "      <td>04/14/2016 06:43:00 PM</td>\n",
              "      <td>04/14/2016 06:43:00 PM</td>\n",
              "      <td>2818 Palomino Trail in Austin (TX)</td>\n",
              "      <td>Stray</td>\n",
              "      <td>Normal</td>\n",
              "      <td>Dog</td>\n",
              "      <td>Intact Male</td>\n",
              "      <td>11 months</td>\n",
              "      <td>Basenji Mix</td>\n",
              "      <td>Sable/White</td>\n",
              "    </tr>\n",
              "    <tr>\n",
              "      <th>3</th>\n",
              "      <td>A665644</td>\n",
              "      <td>NaN</td>\n",
              "      <td>10/21/2013 07:59:00 AM</td>\n",
              "      <td>10/21/2013 07:59:00 AM</td>\n",
              "      <td>Austin (TX)</td>\n",
              "      <td>Stray</td>\n",
              "      <td>Sick</td>\n",
              "      <td>Cat</td>\n",
              "      <td>Intact Female</td>\n",
              "      <td>4 weeks</td>\n",
              "      <td>Domestic Shorthair Mix</td>\n",
              "      <td>Calico</td>\n",
              "    </tr>\n",
              "    <tr>\n",
              "      <th>4</th>\n",
              "      <td>A682524</td>\n",
              "      <td>Rio</td>\n",
              "      <td>06/29/2014 10:38:00 AM</td>\n",
              "      <td>06/29/2014 10:38:00 AM</td>\n",
              "      <td>800 Grove Blvd in Austin (TX)</td>\n",
              "      <td>Stray</td>\n",
              "      <td>Normal</td>\n",
              "      <td>Dog</td>\n",
              "      <td>Neutered Male</td>\n",
              "      <td>4 years</td>\n",
              "      <td>Doberman Pinsch/Australian Cattle Dog</td>\n",
              "      <td>Tan/Gray</td>\n",
              "    </tr>\n",
              "  </tbody>\n",
              "</table>\n",
              "</div>\n",
              "    <div class=\"colab-df-buttons\">\n",
              "\n",
              "  <div class=\"colab-df-container\">\n",
              "    <button class=\"colab-df-convert\" onclick=\"convertToInteractive('df-272d116d-5e20-408b-90d0-bd37488f882f')\"\n",
              "            title=\"Convert this dataframe to an interactive table.\"\n",
              "            style=\"display:none;\">\n",
              "\n",
              "  <svg xmlns=\"http://www.w3.org/2000/svg\" height=\"24px\" viewBox=\"0 -960 960 960\">\n",
              "    <path d=\"M120-120v-720h720v720H120Zm60-500h600v-160H180v160Zm220 220h160v-160H400v160Zm0 220h160v-160H400v160ZM180-400h160v-160H180v160Zm440 0h160v-160H620v160ZM180-180h160v-160H180v160Zm440 0h160v-160H620v160Z\"/>\n",
              "  </svg>\n",
              "    </button>\n",
              "\n",
              "  <style>\n",
              "    .colab-df-container {\n",
              "      display:flex;\n",
              "      gap: 12px;\n",
              "    }\n",
              "\n",
              "    .colab-df-convert {\n",
              "      background-color: #E8F0FE;\n",
              "      border: none;\n",
              "      border-radius: 50%;\n",
              "      cursor: pointer;\n",
              "      display: none;\n",
              "      fill: #1967D2;\n",
              "      height: 32px;\n",
              "      padding: 0 0 0 0;\n",
              "      width: 32px;\n",
              "    }\n",
              "\n",
              "    .colab-df-convert:hover {\n",
              "      background-color: #E2EBFA;\n",
              "      box-shadow: 0px 1px 2px rgba(60, 64, 67, 0.3), 0px 1px 3px 1px rgba(60, 64, 67, 0.15);\n",
              "      fill: #174EA6;\n",
              "    }\n",
              "\n",
              "    .colab-df-buttons div {\n",
              "      margin-bottom: 4px;\n",
              "    }\n",
              "\n",
              "    [theme=dark] .colab-df-convert {\n",
              "      background-color: #3B4455;\n",
              "      fill: #D2E3FC;\n",
              "    }\n",
              "\n",
              "    [theme=dark] .colab-df-convert:hover {\n",
              "      background-color: #434B5C;\n",
              "      box-shadow: 0px 1px 3px 1px rgba(0, 0, 0, 0.15);\n",
              "      filter: drop-shadow(0px 1px 2px rgba(0, 0, 0, 0.3));\n",
              "      fill: #FFFFFF;\n",
              "    }\n",
              "  </style>\n",
              "\n",
              "    <script>\n",
              "      const buttonEl =\n",
              "        document.querySelector('#df-272d116d-5e20-408b-90d0-bd37488f882f button.colab-df-convert');\n",
              "      buttonEl.style.display =\n",
              "        google.colab.kernel.accessAllowed ? 'block' : 'none';\n",
              "\n",
              "      async function convertToInteractive(key) {\n",
              "        const element = document.querySelector('#df-272d116d-5e20-408b-90d0-bd37488f882f');\n",
              "        const dataTable =\n",
              "          await google.colab.kernel.invokeFunction('convertToInteractive',\n",
              "                                                    [key], {});\n",
              "        if (!dataTable) return;\n",
              "\n",
              "        const docLinkHtml = 'Like what you see? Visit the ' +\n",
              "          '<a target=\"_blank\" href=https://colab.research.google.com/notebooks/data_table.ipynb>data table notebook</a>'\n",
              "          + ' to learn more about interactive tables.';\n",
              "        element.innerHTML = '';\n",
              "        dataTable['output_type'] = 'display_data';\n",
              "        await google.colab.output.renderOutput(dataTable, element);\n",
              "        const docLink = document.createElement('div');\n",
              "        docLink.innerHTML = docLinkHtml;\n",
              "        element.appendChild(docLink);\n",
              "      }\n",
              "    </script>\n",
              "  </div>\n",
              "\n",
              "\n",
              "<div id=\"df-d17af7fe-6cfa-4c47-8237-b86b7d2f0140\">\n",
              "  <button class=\"colab-df-quickchart\" onclick=\"quickchart('df-d17af7fe-6cfa-4c47-8237-b86b7d2f0140')\"\n",
              "            title=\"Suggest charts.\"\n",
              "            style=\"display:none;\">\n",
              "\n",
              "<svg xmlns=\"http://www.w3.org/2000/svg\" height=\"24px\"viewBox=\"0 0 24 24\"\n",
              "     width=\"24px\">\n",
              "    <g>\n",
              "        <path d=\"M19 3H5c-1.1 0-2 .9-2 2v14c0 1.1.9 2 2 2h14c1.1 0 2-.9 2-2V5c0-1.1-.9-2-2-2zM9 17H7v-7h2v7zm4 0h-2V7h2v10zm4 0h-2v-4h2v4z\"/>\n",
              "    </g>\n",
              "</svg>\n",
              "  </button>\n",
              "\n",
              "<style>\n",
              "  .colab-df-quickchart {\n",
              "      --bg-color: #E8F0FE;\n",
              "      --fill-color: #1967D2;\n",
              "      --hover-bg-color: #E2EBFA;\n",
              "      --hover-fill-color: #174EA6;\n",
              "      --disabled-fill-color: #AAA;\n",
              "      --disabled-bg-color: #DDD;\n",
              "  }\n",
              "\n",
              "  [theme=dark] .colab-df-quickchart {\n",
              "      --bg-color: #3B4455;\n",
              "      --fill-color: #D2E3FC;\n",
              "      --hover-bg-color: #434B5C;\n",
              "      --hover-fill-color: #FFFFFF;\n",
              "      --disabled-bg-color: #3B4455;\n",
              "      --disabled-fill-color: #666;\n",
              "  }\n",
              "\n",
              "  .colab-df-quickchart {\n",
              "    background-color: var(--bg-color);\n",
              "    border: none;\n",
              "    border-radius: 50%;\n",
              "    cursor: pointer;\n",
              "    display: none;\n",
              "    fill: var(--fill-color);\n",
              "    height: 32px;\n",
              "    padding: 0;\n",
              "    width: 32px;\n",
              "  }\n",
              "\n",
              "  .colab-df-quickchart:hover {\n",
              "    background-color: var(--hover-bg-color);\n",
              "    box-shadow: 0 1px 2px rgba(60, 64, 67, 0.3), 0 1px 3px 1px rgba(60, 64, 67, 0.15);\n",
              "    fill: var(--button-hover-fill-color);\n",
              "  }\n",
              "\n",
              "  .colab-df-quickchart-complete:disabled,\n",
              "  .colab-df-quickchart-complete:disabled:hover {\n",
              "    background-color: var(--disabled-bg-color);\n",
              "    fill: var(--disabled-fill-color);\n",
              "    box-shadow: none;\n",
              "  }\n",
              "\n",
              "  .colab-df-spinner {\n",
              "    border: 2px solid var(--fill-color);\n",
              "    border-color: transparent;\n",
              "    border-bottom-color: var(--fill-color);\n",
              "    animation:\n",
              "      spin 1s steps(1) infinite;\n",
              "  }\n",
              "\n",
              "  @keyframes spin {\n",
              "    0% {\n",
              "      border-color: transparent;\n",
              "      border-bottom-color: var(--fill-color);\n",
              "      border-left-color: var(--fill-color);\n",
              "    }\n",
              "    20% {\n",
              "      border-color: transparent;\n",
              "      border-left-color: var(--fill-color);\n",
              "      border-top-color: var(--fill-color);\n",
              "    }\n",
              "    30% {\n",
              "      border-color: transparent;\n",
              "      border-left-color: var(--fill-color);\n",
              "      border-top-color: var(--fill-color);\n",
              "      border-right-color: var(--fill-color);\n",
              "    }\n",
              "    40% {\n",
              "      border-color: transparent;\n",
              "      border-right-color: var(--fill-color);\n",
              "      border-top-color: var(--fill-color);\n",
              "    }\n",
              "    60% {\n",
              "      border-color: transparent;\n",
              "      border-right-color: var(--fill-color);\n",
              "    }\n",
              "    80% {\n",
              "      border-color: transparent;\n",
              "      border-right-color: var(--fill-color);\n",
              "      border-bottom-color: var(--fill-color);\n",
              "    }\n",
              "    90% {\n",
              "      border-color: transparent;\n",
              "      border-bottom-color: var(--fill-color);\n",
              "    }\n",
              "  }\n",
              "</style>\n",
              "\n",
              "  <script>\n",
              "    async function quickchart(key) {\n",
              "      const quickchartButtonEl =\n",
              "        document.querySelector('#' + key + ' button');\n",
              "      quickchartButtonEl.disabled = true;  // To prevent multiple clicks.\n",
              "      quickchartButtonEl.classList.add('colab-df-spinner');\n",
              "      try {\n",
              "        const charts = await google.colab.kernel.invokeFunction(\n",
              "            'suggestCharts', [key], {});\n",
              "      } catch (error) {\n",
              "        console.error('Error during call to suggestCharts:', error);\n",
              "      }\n",
              "      quickchartButtonEl.classList.remove('colab-df-spinner');\n",
              "      quickchartButtonEl.classList.add('colab-df-quickchart-complete');\n",
              "    }\n",
              "    (() => {\n",
              "      let quickchartButtonEl =\n",
              "        document.querySelector('#df-d17af7fe-6cfa-4c47-8237-b86b7d2f0140 button');\n",
              "      quickchartButtonEl.style.display =\n",
              "        google.colab.kernel.accessAllowed ? 'block' : 'none';\n",
              "    })();\n",
              "  </script>\n",
              "</div>\n",
              "    </div>\n",
              "  </div>\n"
            ],
            "text/plain": [
              "  Animal ID     Name                DateTime               MonthYear  \\\n",
              "0   A786884   *Brock        01-03-2019 16:19        01-03-2019 16:19   \n",
              "1   A706918    Belle        07-05-2015 12:59        07-05-2015 12:59   \n",
              "2   A724273  Runster  04/14/2016 06:43:00 PM  04/14/2016 06:43:00 PM   \n",
              "3   A665644      NaN  10/21/2013 07:59:00 AM  10/21/2013 07:59:00 AM   \n",
              "4   A682524      Rio  06/29/2014 10:38:00 AM  06/29/2014 10:38:00 AM   \n",
              "\n",
              "                        Found Location Intake Type Intake Condition  \\\n",
              "0  2501 Magin Meadow Dr in Austin (TX)       Stray           Normal   \n",
              "1     9409 Bluegrass Dr in Austin (TX)       Stray           Normal   \n",
              "2   2818 Palomino Trail in Austin (TX)       Stray           Normal   \n",
              "3                          Austin (TX)       Stray             Sick   \n",
              "4        800 Grove Blvd in Austin (TX)       Stray           Normal   \n",
              "\n",
              "  Animal Type Sex upon Intake Age upon Intake  \\\n",
              "0         Dog   Neutered Male         2 years   \n",
              "1         Dog   Spayed Female         8 years   \n",
              "2         Dog     Intact Male       11 months   \n",
              "3         Cat   Intact Female         4 weeks   \n",
              "4         Dog   Neutered Male         4 years   \n",
              "\n",
              "                                   Breed        Color  \n",
              "0                             Beagle Mix     Tricolor  \n",
              "1               English Springer Spaniel  White/Liver  \n",
              "2                            Basenji Mix  Sable/White  \n",
              "3                 Domestic Shorthair Mix       Calico  \n",
              "4  Doberman Pinsch/Australian Cattle Dog     Tan/Gray  "
            ]
          },
          "execution_count": 3,
          "metadata": {},
          "output_type": "execute_result"
        }
      ],
      "source": [
        "df = pd.read_csv(\"/content/Animal_Center_Intakes.csv\")\n",
        "\n",
        "df.head()"
      ]
    },
    {
      "cell_type": "code",
      "execution_count": 5,
      "metadata": {
        "id": "fGBSimZyqXwS"
      },
      "outputs": [],
      "source": [
        "\n",
        "llm = OpenAI(api_token=\"sk-ViVWsgZPOAvZgZYVnXpmT\")\n",
        "pandas_ai = PandasAI(llm, conversational=False)"
      ]
    },
    {
      "cell_type": "code",
      "execution_count": 7,
      "metadata": {
        "colab": {
          "base_uri": "https://localhost:8080/"
        },
        "id": "8Syg6BuZqXqK",
        "outputId": "1d8df728-e8b6-452b-938c-47d9b581d8a7"
      },
      "outputs": [
        {
          "name": "stdout",
          "output_type": "stream",
          "text": [
            "True\n"
          ]
        }
      ],
      "source": [
        "response = pandas_ai(df, \"Drop the row with missing values with inplace=True and return True when done else False \")\n",
        "print(response)\n",
        "\n",
        "\n"
      ]
    },
    {
      "cell_type": "code",
      "execution_count": 8,
      "metadata": {
        "colab": {
          "base_uri": "https://localhost:8080/"
        },
        "id": "5nk8VCHJqXlL",
        "outputId": "e08b7751-7f37-46d5-b554-c2fe425e50b2"
      },
      "outputs": [
        {
          "name": "stdout",
          "output_type": "stream",
          "text": [
            "                    Intake Type\n",
            "Stray                     55755\n",
            "Owner Surrender           22053\n",
            "Public Assist              6809\n",
            "Euthanasia Request          234\n",
            "Abandoned                   183\n"
          ]
        }
      ],
      "source": [
        "response = pandas_ai(df, \"What are the most common intake types \")\n",
        "print(response)"
      ]
    },
    {
      "cell_type": "code",
      "execution_count": null,
      "metadata": {
        "id": "vltlkli8te0R"
      },
      "outputs": [],
      "source": [
        "response =pandas_ai(df,\"Where are animals typically found\")\n",
        "print(response)"
      ]
    },
    {
      "cell_type": "code",
      "execution_count": 10,
      "metadata": {
        "colab": {
          "base_uri": "https://localhost:8080/"
        },
        "id": "v3qxHZYetemy",
        "outputId": "d5952b02-e405-46ab-a246-5ed326832249"
      },
      "outputs": [
        {
          "name": "stdout",
          "output_type": "stream",
          "text": [
            "There are trends or patterns in the locations where sick animals are found.\n"
          ]
        }
      ],
      "source": [
        "response =pandas_ai(df,\"Are there any trends or patterns in the locations where sick animals are found?\")\n",
        "print(response)"
      ]
    },
    {
      "cell_type": "code",
      "execution_count": 11,
      "metadata": {
        "colab": {
          "base_uri": "https://localhost:8080/"
        },
        "id": "BcZnl41jteVf",
        "outputId": "cdd87803-bb3e-41b1-abd0-a411a516cb04"
      },
      "outputs": [
        {
          "name": "stdout",
          "output_type": "stream",
          "text": [
            "                                    Found Location\n",
            "Austin (TX)                                    542\n",
            "7619 Scenic Brook in Austin (TX)                34\n",
            "4434 Frontier Trail in Austin (TX)              32\n",
            "Travis (TX)                                     28\n",
            "Outside Jurisdiction                            22\n"
          ]
        }
      ],
      "source": [
        "response =pandas_ai(df,\"What are the trends and patterns found in the locations where sick animals are found \")\n",
        "print(response)"
      ]
    },
    {
      "cell_type": "code",
      "execution_count": 12,
      "metadata": {
        "colab": {
          "base_uri": "https://localhost:8080/",
          "height": 352
        },
        "id": "KUyVHwDFteJv",
        "outputId": "f8f31fe2-05c3-4c3c-b65b-e61257cbb0ad"
      },
      "outputs": [
        {
          "data": {
            "image/png": "[encoded data removed]",
            "text/plain": [
              "<Figure size 640x480 with 1 Axes>"
            ]
          },
          "metadata": {},
          "output_type": "display_data"
        },
        {
          "name": "stdout",
          "output_type": "stream",
          "text": [
            "None\n"
          ]
        }
      ],
      "source": [
        "response =pandas_ai(df,\"what are the  seasonal trends in animal intake?\")\n",
        "print(response)"
      ]
    },
    {
      "cell_type": "code",
      "execution_count": 13,
      "metadata": {
        "colab": {
          "base_uri": "https://localhost:8080/",
          "height": 424
        },
        "id": "sh2QY0b6vlxy",
        "outputId": "3e217d78-25eb-4a07-de5d-1bef9e5db5dd"
      },
      "outputs": [
        {
          "data": {
            "image/png": "[encoded data removed]",
            "text/plain": [
              "<Figure size 640x480 with 1 Axes>"
            ]
          },
          "metadata": {},
          "output_type": "display_data"
        },
        {
          "name": "stdout",
          "output_type": "stream",
          "text": [
            "None\n"
          ]
        }
      ],
      "source": [
        "response =pandas_ai(df,\"what is the  correlation between an animal's name and its type, age, or condition, can u locate it in a suitable graph ?\")\n",
        "print(response)"
      ]
    },
    {
      "cell_type": "markdown",
      "metadata": {
        "id": "0YeCiG5FyoTt"
      },
      "source": [
        "# Identify areas where additional support or medical attention may be needed."
      ]
    },
    {
      "cell_type": "code",
      "execution_count": 15,
      "metadata": {
        "colab": {
          "base_uri": "https://localhost:8080/"
        },
        "id": "ldJQRKF6vloS",
        "outputId": "0be16bf8-cbde-4788-98fb-d9b9416258b3"
      },
      "outputs": [
        {
          "name": "stdout",
          "output_type": "stream",
          "text": [
            "Areas where additional support or medical attention may be needed:\n",
            "- Austin (TX): 1048 animals\n",
            "- Travis (TX): 105 animals\n",
            "- 4434 Frontier Trail in Austin (TX): 79 animals\n",
            "- Outside Jurisdiction: 54 animals\n",
            "- 4434 Frontier Trl in Austin (TX): 47 animals\n",
            "\n"
          ]
        }
      ],
      "source": [
        "response =pandas_ai(df,\"Identify areas where additional support or medical attention may be needed? give a detailed explanation how did you find out ? \")\n",
        "print(response)"
      ]
    },
    {
      "cell_type": "markdown",
      "metadata": {
        "id": "ETDWdTBczMJd"
      },
      "source": [
        "Adjust staffing levels and resources based on seasonal variations in animal intake."
      ]
    },
    {
      "cell_type": "code",
      "execution_count": 16,
      "metadata": {
        "colab": {
          "base_uri": "https://localhost:8080/"
        },
        "id": "NNRBEX9mvlhW",
        "outputId": "cd8ee0f7-c6c4-4ba7-b87b-fad43edfb1cb"
      },
      "outputs": [
        {
          "name": "stdout",
          "output_type": "stream",
          "text": [
            "The month with the highest number of animal intakes is 10. The month with the lowest number of animal intakes is 4. The average number of animal intakes per month is 7089.00.\n"
          ]
        }
      ],
      "source": [
        "response =pandas_ai(df,\"Adjust staffing levels and resources based on seasonal variations in animal intake. give detailed explanation how did u find out ?\")\n",
        "print(response)"
      ]
    },
    {
      "cell_type": "markdown",
      "metadata": {
        "id": "BnXS1G22zsBB"
      },
      "source": [
        "Determine the most common intake types and conditions to allocate resources (staff, facilities, medical supplies) effectively.\n"
      ]
    },
    {
      "cell_type": "code",
      "execution_count": 17,
      "metadata": {
        "colab": {
          "base_uri": "https://localhost:8080/",
          "height": 352
        },
        "id": "toiTMVUnvlX4",
        "outputId": "7449b989-9fe0-488a-c757-08b26896bd21"
      },
      "outputs": [
        {
          "data": {
            "image/png": "[encoded data removed]",
            "text/plain": [
              "<Figure size 640x480 with 1 Axes>"
            ]
          },
          "metadata": {},
          "output_type": "display_data"
        },
        {
          "name": "stdout",
          "output_type": "stream",
          "text": [
            "None\n"
          ]
        }
      ],
      "source": [
        "response =pandas_ai(df,\"Determine the most common intake types and conditions to allocate resources (staff, facilities, medical supplies) effectively. give the visual response and use statments to respond , make sure give detailed explanation \")\n",
        "print(response)"
      ]
    },
    {
      "cell_type": "markdown",
      "metadata": {
        "id": "FQbh9DvtzpPK"
      },
      "source": [
        "Identify peak intake periods to schedule staffing and resources accordingly."
      ]
    },
    {
      "cell_type": "code",
      "execution_count": 22,
      "metadata": {
        "colab": {
          "base_uri": "https://localhost:8080/"
        },
        "id": "VM_GTA7GvlL3",
        "outputId": "cf868cad-b226-4390-d251-cc55292e9f4b"
      },
      "outputs": [
        {
          "name": "stdout",
          "output_type": "stream",
          "text": [
            "  Animal Type  Count  Percentage\n",
            "2         Dog  58366   68.610994\n",
            "1         Cat  25745   30.264024\n",
            "4       Other    829    0.974515\n",
            "0        Bird    126    0.148117\n",
            "3   Livestock      2    0.002351\n"
          ]
        }
      ],
      "source": [
        "response =pandas_ai(df,\"Analyze the popularity of animal type and location  to create effective adoption campaigns.\")\n",
        "print(response)"
      ]
    },
    {
      "cell_type": "code",
      "execution_count": null,
      "metadata": {
        "id": "uDaoycvi5sDi"
      },
      "outputs": [],
      "source": [
        "response =pandas_ai(df,\"Analyze the popularity and any patterns  of animal type and location  to create effective adoption campaigns , make sure u lable the location names too in the graph.\")\n",
        "print(response)"
      ]
    },
    {
      "cell_type": "code",
      "execution_count": null,
      "metadata": {
        "id": "LvmaNQsO5r42"
      },
      "outputs": [],
      "source": []
    }
  ],
  "metadata": {
    "colab": {
      "provenance": []
    },
    "kernelspec": {
      "display_name": "Python 3",
      "name": "python3"
    },
    "language_info": {
      "name": "python"
    }
  },
  "nbformat": 4,
  "nbformat_minor": 0
}
